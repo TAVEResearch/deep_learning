{
  "nbformat": 4,
  "nbformat_minor": 0,
  "metadata": {
    "colab": {
      "name": "14.8 분류와 위치 추정.ipynb",
      "provenance": []
    },
    "kernelspec": {
      "name": "python3",
      "display_name": "Python 3"
    },
    "language_info": {
      "name": "python"
    },
    "widgets": {
      "application/vnd.jupyter.widget-state+json": {
        "00fed9dbe1e34106a7ba2ef6ddedf835": {
          "model_module": "@jupyter-widgets/controls",
          "model_name": "HBoxModel",
          "model_module_version": "1.5.0",
          "state": {
            "_view_name": "HBoxView",
            "_dom_classes": [],
            "_model_name": "HBoxModel",
            "_view_module": "@jupyter-widgets/controls",
            "_model_module_version": "1.5.0",
            "_view_count": null,
            "_view_module_version": "1.5.0",
            "box_style": "",
            "layout": "IPY_MODEL_bcbdacda55c64da18e8e018b70f5e1ba",
            "_model_module": "@jupyter-widgets/controls",
            "children": [
              "IPY_MODEL_36c1e49ae7df4a8abcfa2a5fab23835a",
              "IPY_MODEL_29164683e77240febcad5f116e01938c",
              "IPY_MODEL_d598168624a5478a868f655992234cde"
            ]
          }
        },
        "bcbdacda55c64da18e8e018b70f5e1ba": {
          "model_module": "@jupyter-widgets/base",
          "model_name": "LayoutModel",
          "model_module_version": "1.2.0",
          "state": {
            "_view_name": "LayoutView",
            "grid_template_rows": null,
            "right": null,
            "justify_content": null,
            "_view_module": "@jupyter-widgets/base",
            "overflow": null,
            "_model_module_version": "1.2.0",
            "_view_count": null,
            "flex_flow": null,
            "width": null,
            "min_width": null,
            "border": null,
            "align_items": null,
            "bottom": null,
            "_model_module": "@jupyter-widgets/base",
            "top": null,
            "grid_column": null,
            "overflow_y": null,
            "overflow_x": null,
            "grid_auto_flow": null,
            "grid_area": null,
            "grid_template_columns": null,
            "flex": null,
            "_model_name": "LayoutModel",
            "justify_items": null,
            "grid_row": null,
            "max_height": null,
            "align_content": null,
            "visibility": null,
            "align_self": null,
            "height": null,
            "min_height": null,
            "padding": null,
            "grid_auto_rows": null,
            "grid_gap": null,
            "max_width": null,
            "order": null,
            "_view_module_version": "1.2.0",
            "grid_template_areas": null,
            "object_position": null,
            "object_fit": null,
            "grid_auto_columns": null,
            "margin": null,
            "display": null,
            "left": null
          }
        },
        "36c1e49ae7df4a8abcfa2a5fab23835a": {
          "model_module": "@jupyter-widgets/controls",
          "model_name": "HTMLModel",
          "model_module_version": "1.5.0",
          "state": {
            "_view_name": "HTMLView",
            "style": "IPY_MODEL_86d33bfd994f4cbbac77baf0a3a08f8d",
            "_dom_classes": [],
            "description": "",
            "_model_name": "HTMLModel",
            "placeholder": "​",
            "_view_module": "@jupyter-widgets/controls",
            "_model_module_version": "1.5.0",
            "value": "Dl Completed...: 100%",
            "_view_count": null,
            "_view_module_version": "1.5.0",
            "description_tooltip": null,
            "_model_module": "@jupyter-widgets/controls",
            "layout": "IPY_MODEL_743d8f0464fe43efbcde2e417bda9788"
          }
        },
        "29164683e77240febcad5f116e01938c": {
          "model_module": "@jupyter-widgets/controls",
          "model_name": "FloatProgressModel",
          "model_module_version": "1.5.0",
          "state": {
            "_view_name": "ProgressView",
            "style": "IPY_MODEL_84e88bc62f6d4447bf0687bed53e8012",
            "_dom_classes": [],
            "description": "",
            "_model_name": "FloatProgressModel",
            "bar_style": "success",
            "max": 5,
            "_view_module": "@jupyter-widgets/controls",
            "_model_module_version": "1.5.0",
            "value": 5,
            "_view_count": null,
            "_view_module_version": "1.5.0",
            "orientation": "horizontal",
            "min": 0,
            "description_tooltip": null,
            "_model_module": "@jupyter-widgets/controls",
            "layout": "IPY_MODEL_fd63503b293c466592ce35b14deb7ac8"
          }
        },
        "d598168624a5478a868f655992234cde": {
          "model_module": "@jupyter-widgets/controls",
          "model_name": "HTMLModel",
          "model_module_version": "1.5.0",
          "state": {
            "_view_name": "HTMLView",
            "style": "IPY_MODEL_a9cb02cdfc8f495f84968acf52b7587f",
            "_dom_classes": [],
            "description": "",
            "_model_name": "HTMLModel",
            "placeholder": "​",
            "_view_module": "@jupyter-widgets/controls",
            "_model_module_version": "1.5.0",
            "value": " 5/5 [00:05&lt;00:00,  1.03s/ file]",
            "_view_count": null,
            "_view_module_version": "1.5.0",
            "description_tooltip": null,
            "_model_module": "@jupyter-widgets/controls",
            "layout": "IPY_MODEL_77b904a452da4e4399a4481de9dd687e"
          }
        },
        "86d33bfd994f4cbbac77baf0a3a08f8d": {
          "model_module": "@jupyter-widgets/controls",
          "model_name": "DescriptionStyleModel",
          "model_module_version": "1.5.0",
          "state": {
            "_view_name": "StyleView",
            "_model_name": "DescriptionStyleModel",
            "description_width": "",
            "_view_module": "@jupyter-widgets/base",
            "_model_module_version": "1.5.0",
            "_view_count": null,
            "_view_module_version": "1.2.0",
            "_model_module": "@jupyter-widgets/controls"
          }
        },
        "743d8f0464fe43efbcde2e417bda9788": {
          "model_module": "@jupyter-widgets/base",
          "model_name": "LayoutModel",
          "model_module_version": "1.2.0",
          "state": {
            "_view_name": "LayoutView",
            "grid_template_rows": null,
            "right": null,
            "justify_content": null,
            "_view_module": "@jupyter-widgets/base",
            "overflow": null,
            "_model_module_version": "1.2.0",
            "_view_count": null,
            "flex_flow": null,
            "width": null,
            "min_width": null,
            "border": null,
            "align_items": null,
            "bottom": null,
            "_model_module": "@jupyter-widgets/base",
            "top": null,
            "grid_column": null,
            "overflow_y": null,
            "overflow_x": null,
            "grid_auto_flow": null,
            "grid_area": null,
            "grid_template_columns": null,
            "flex": null,
            "_model_name": "LayoutModel",
            "justify_items": null,
            "grid_row": null,
            "max_height": null,
            "align_content": null,
            "visibility": null,
            "align_self": null,
            "height": null,
            "min_height": null,
            "padding": null,
            "grid_auto_rows": null,
            "grid_gap": null,
            "max_width": null,
            "order": null,
            "_view_module_version": "1.2.0",
            "grid_template_areas": null,
            "object_position": null,
            "object_fit": null,
            "grid_auto_columns": null,
            "margin": null,
            "display": null,
            "left": null
          }
        },
        "84e88bc62f6d4447bf0687bed53e8012": {
          "model_module": "@jupyter-widgets/controls",
          "model_name": "ProgressStyleModel",
          "model_module_version": "1.5.0",
          "state": {
            "_view_name": "StyleView",
            "_model_name": "ProgressStyleModel",
            "description_width": "",
            "_view_module": "@jupyter-widgets/base",
            "_model_module_version": "1.5.0",
            "_view_count": null,
            "_view_module_version": "1.2.0",
            "bar_color": null,
            "_model_module": "@jupyter-widgets/controls"
          }
        },
        "fd63503b293c466592ce35b14deb7ac8": {
          "model_module": "@jupyter-widgets/base",
          "model_name": "LayoutModel",
          "model_module_version": "1.2.0",
          "state": {
            "_view_name": "LayoutView",
            "grid_template_rows": null,
            "right": null,
            "justify_content": null,
            "_view_module": "@jupyter-widgets/base",
            "overflow": null,
            "_model_module_version": "1.2.0",
            "_view_count": null,
            "flex_flow": null,
            "width": null,
            "min_width": null,
            "border": null,
            "align_items": null,
            "bottom": null,
            "_model_module": "@jupyter-widgets/base",
            "top": null,
            "grid_column": null,
            "overflow_y": null,
            "overflow_x": null,
            "grid_auto_flow": null,
            "grid_area": null,
            "grid_template_columns": null,
            "flex": null,
            "_model_name": "LayoutModel",
            "justify_items": null,
            "grid_row": null,
            "max_height": null,
            "align_content": null,
            "visibility": null,
            "align_self": null,
            "height": null,
            "min_height": null,
            "padding": null,
            "grid_auto_rows": null,
            "grid_gap": null,
            "max_width": null,
            "order": null,
            "_view_module_version": "1.2.0",
            "grid_template_areas": null,
            "object_position": null,
            "object_fit": null,
            "grid_auto_columns": null,
            "margin": null,
            "display": null,
            "left": null
          }
        },
        "a9cb02cdfc8f495f84968acf52b7587f": {
          "model_module": "@jupyter-widgets/controls",
          "model_name": "DescriptionStyleModel",
          "model_module_version": "1.5.0",
          "state": {
            "_view_name": "StyleView",
            "_model_name": "DescriptionStyleModel",
            "description_width": "",
            "_view_module": "@jupyter-widgets/base",
            "_model_module_version": "1.5.0",
            "_view_count": null,
            "_view_module_version": "1.2.0",
            "_model_module": "@jupyter-widgets/controls"
          }
        },
        "77b904a452da4e4399a4481de9dd687e": {
          "model_module": "@jupyter-widgets/base",
          "model_name": "LayoutModel",
          "model_module_version": "1.2.0",
          "state": {
            "_view_name": "LayoutView",
            "grid_template_rows": null,
            "right": null,
            "justify_content": null,
            "_view_module": "@jupyter-widgets/base",
            "overflow": null,
            "_model_module_version": "1.2.0",
            "_view_count": null,
            "flex_flow": null,
            "width": null,
            "min_width": null,
            "border": null,
            "align_items": null,
            "bottom": null,
            "_model_module": "@jupyter-widgets/base",
            "top": null,
            "grid_column": null,
            "overflow_y": null,
            "overflow_x": null,
            "grid_auto_flow": null,
            "grid_area": null,
            "grid_template_columns": null,
            "flex": null,
            "_model_name": "LayoutModel",
            "justify_items": null,
            "grid_row": null,
            "max_height": null,
            "align_content": null,
            "visibility": null,
            "align_self": null,
            "height": null,
            "min_height": null,
            "padding": null,
            "grid_auto_rows": null,
            "grid_gap": null,
            "max_width": null,
            "order": null,
            "_view_module_version": "1.2.0",
            "grid_template_areas": null,
            "object_position": null,
            "object_fit": null,
            "grid_auto_columns": null,
            "margin": null,
            "display": null,
            "left": null
          }
        }
      }
    }
  },
  "cells": [
    {
      "cell_type": "markdown",
      "metadata": {
        "id": "RxsZV6knd-Iy"
      },
      "source": [
        "- 이미지에서 물체의 위치 추정 (회귀)\n",
        "    - 물체 주위의 바운딩 박스 예측 방법\n",
        "        - 수평 좌표\n",
        "        - 수직 좌표\n",
        "        - 높이\n",
        "        - 너비\n",
        "    - 전역 평균 풀링층 위에 4개의 유닛을 갖는 두 번째 밀집 출력 층을 추가하고, MSE 손실을 사용해 훈련"
      ]
    },
    {
      "cell_type": "markdown",
      "metadata": {
        "id": "uYc6CJwshb-W"
      },
      "source": [
        "#### **데이터 로드 및 전처리**"
      ]
    },
    {
      "cell_type": "code",
      "metadata": {
        "id": "cZtukynsgtDy"
      },
      "source": [
        "import tensorflow as tf\n",
        "from tensorflow import keras"
      ],
      "execution_count": 8,
      "outputs": []
    },
    {
      "cell_type": "code",
      "metadata": {
        "colab": {
          "base_uri": "https://localhost:8080/",
          "height": 184,
          "referenced_widgets": [
            "00fed9dbe1e34106a7ba2ef6ddedf835",
            "bcbdacda55c64da18e8e018b70f5e1ba",
            "36c1e49ae7df4a8abcfa2a5fab23835a",
            "29164683e77240febcad5f116e01938c",
            "d598168624a5478a868f655992234cde",
            "86d33bfd994f4cbbac77baf0a3a08f8d",
            "743d8f0464fe43efbcde2e417bda9788",
            "84e88bc62f6d4447bf0687bed53e8012",
            "fd63503b293c466592ce35b14deb7ac8",
            "a9cb02cdfc8f495f84968acf52b7587f",
            "77b904a452da4e4399a4481de9dd687e"
          ]
        },
        "id": "s9wwgQ70gyJY",
        "outputId": "1de1ba1d-f7a4-49fd-f9ff-18d97221a588"
      },
      "source": [
        "import tensorflow_datasets as tfds\n",
        "\n",
        "dataset, info = tfds.load(\"tf_flowers\", as_supervised=True, with_info=True)  # with_info=True : 데이터셋에 대한 정보\n",
        "dataset_size = info.splits[\"train\"].num_examples \n",
        "class_names = info.features[\"label\"].names  \n",
        "n_classes = info.features[\"label\"].num_classes "
      ],
      "execution_count": 4,
      "outputs": [
        {
          "output_type": "stream",
          "name": "stdout",
          "text": [
            "\u001b[1mDownloading and preparing dataset tf_flowers/3.0.1 (download: 218.21 MiB, generated: 221.83 MiB, total: 440.05 MiB) to /root/tensorflow_datasets/tf_flowers/3.0.1...\u001b[0m\n"
          ]
        },
        {
          "output_type": "stream",
          "name": "stderr",
          "text": [
            "WARNING:absl:Dataset tf_flowers is hosted on GCS. It will automatically be downloaded to your\n",
            "local data directory. If you'd instead prefer to read directly from our public\n",
            "GCS bucket (recommended if you're running on GCP), you can instead pass\n",
            "`try_gcs=True` to `tfds.load` or set `data_dir=gs://tfds-data/datasets`.\n",
            "\n"
          ]
        },
        {
          "output_type": "display_data",
          "data": {
            "application/vnd.jupyter.widget-view+json": {
              "model_id": "00fed9dbe1e34106a7ba2ef6ddedf835",
              "version_minor": 0,
              "version_major": 2
            },
            "text/plain": [
              "Dl Completed...:   0%|          | 0/5 [00:00<?, ? file/s]"
            ]
          },
          "metadata": {}
        },
        {
          "output_type": "stream",
          "name": "stdout",
          "text": [
            "\n",
            "\u001b[1mDataset tf_flowers downloaded and prepared to /root/tensorflow_datasets/tf_flowers/3.0.1. Subsequent calls will reuse this data.\u001b[0m\n"
          ]
        }
      ]
    },
    {
      "cell_type": "code",
      "metadata": {
        "id": "SzFDeOvrg1Di"
      },
      "source": [
        "test_set_raw, valid_set_raw, train_set_raw = tfds.load(\n",
        "    \"tf_flowers\",\n",
        "    split=[\"train[:10%]\", \"train[10%:25%]\", \"train[25%:]\"],\n",
        "    as_supervised=True)"
      ],
      "execution_count": 5,
      "outputs": []
    },
    {
      "cell_type": "code",
      "metadata": {
        "id": "UgWUi0hgg9tm"
      },
      "source": [
        "def preprocess(image, label):\n",
        "    resized_image = tf.image.resize(image, [224, 224])\n",
        "    final_image = keras.applications.xception.preprocess_input(resized_image)\n",
        "    return final_image, label"
      ],
      "execution_count": 6,
      "outputs": []
    },
    {
      "cell_type": "code",
      "metadata": {
        "id": "gdnGJatxhApd"
      },
      "source": [
        "batch_size = 32   # 배치 크기 지정\n",
        "train_set = train_set_raw.shuffle(1000)   # 훈련 데이터 shuffle\n",
        "\n",
        "train_set = train_set_raw.map(preprocess).batch(batch_size).prefetch(1)   # 프리페치 적용\n",
        "valid_set = valid_set_raw.map(preprocess).batch(batch_size).prefetch(1)\n",
        "test_set = test_set_raw.map(preprocess).batch(batch_size).prefetch(1)"
      ],
      "execution_count": 7,
      "outputs": []
    },
    {
      "cell_type": "markdown",
      "metadata": {
        "id": "1tLQmkz2hf5r"
      },
      "source": [
        "#### **모델 생성, 컴파일**"
      ]
    },
    {
      "cell_type": "code",
      "metadata": {
        "id": "jWA4lqCZdj6N"
      },
      "source": [
        "base_model = keras.applications.xception.Xception(weights=\"imagenet\",\n",
        "                                                  include_top=False)\n",
        "avg = keras.layers.GlobalAveragePooling2D()(base_model.output)\n",
        "class_output = keras.layers.Dense(n_classes, activation=\"softmax\")(avg)\n",
        "loc_output = keras.layers.Dense(4)(avg)\n",
        "model = keras.models.Model(inputs=base_model.input,\n",
        "                           outputs=[class_output, loc_output])\n",
        "\n",
        "optimizer = keras.optimizers.SGD(learning_rate=0.01, momentum=0.9,\n",
        "                                 nesterov=True, decay=0.001)\n",
        "\n",
        "model.compile(loss=[\"sparse_categorical_crossentropy\", \"mse\"],\n",
        "              loss_weights=[0.8, 0.2],\n",
        "              optimizer=optimizer, metrics=[\"accuracy\"])"
      ],
      "execution_count": 10,
      "outputs": []
    },
    {
      "cell_type": "markdown",
      "metadata": {
        "id": "p9hIKIRPfocs"
      },
      "source": [
        "#### **Labeling 문제점**\n",
        "- 꽃 데이터셋은 꽃 주위에 바운딩 박스를 갖고 있지 않기 때문에 **직접 만들어서 추가**하는 작업 필요\n",
        "- 이미지에 바운딩 박스를 추가하기 위한 오픈 소스 이미지 레이블 도구\n",
        "    - VGG Image Annotator, LabelImg, OpenLabeler, ImgLab\n",
        "    - LabelBox, Supervisely\n",
        "    - 크라우드소싱 플랫폼"
      ]
    },
    {
      "cell_type": "markdown",
      "metadata": {
        "id": "Kr2egUwejQnq"
      },
      "source": [
        "- 바운딩 박스 추가\n",
        "    - 데이터셋 형태 : (images, (class_labels, bounding_boxes))"
      ]
    },
    {
      "cell_type": "code",
      "metadata": {
        "id": "_hhprYNIh8PS"
      },
      "source": [
        "def add_random_bounding_boxes(images, labels):\n",
        "    fake_bboxes = tf.random.uniform([tf.shape(images)[0], 4])\n",
        "    return images, (labels, fake_bboxes)"
      ],
      "execution_count": 11,
      "outputs": []
    },
    {
      "cell_type": "code",
      "metadata": {
        "id": "ZJp6uk0Uh8tu"
      },
      "source": [
        "fake_train_set = train_set.take(5).repeat(2).map(add_random_bounding_boxes)"
      ],
      "execution_count": 13,
      "outputs": []
    },
    {
      "cell_type": "code",
      "metadata": {
        "colab": {
          "base_uri": "https://localhost:8080/"
        },
        "id": "avWCTwAWitJJ",
        "outputId": "bc5d2365-0629-43b9-ae97-94ed05cc2427"
      },
      "source": [
        "fake_train_set"
      ],
      "execution_count": 14,
      "outputs": [
        {
          "output_type": "execute_result",
          "data": {
            "text/plain": [
              "<MapDataset shapes: ((None, 224, 224, 3), ((None,), (None, 4))), types: (tf.float32, (tf.int64, tf.float32))>"
            ]
          },
          "metadata": {},
          "execution_count": 14
        }
      ]
    },
    {
      "cell_type": "markdown",
      "metadata": {
        "id": "Y3q0Dtw5j6ms"
      },
      "source": [
        "#### **손실 함수**\n",
        "- 바운딩 박스 예측 평가 지표 : IoU\n",
        "- 예측한 바운딩 박스와 타깃 바운딩 박스 사이에 중첩되는 영역을 전체 영역으로 나눈 값\n",
        "- tf.keras.metrics.MeanIoU  \n",
        "![image.png](data:image/png;base64,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)"
      ]
    }
  ]
}