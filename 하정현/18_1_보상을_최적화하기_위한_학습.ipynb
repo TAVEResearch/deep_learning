{
  "nbformat": 4,
  "nbformat_minor": 0,
  "metadata": {
    "colab": {
      "name": "18.1 보상을 최적화하기 위한 학습.ipynb",
      "provenance": []
    },
    "kernelspec": {
      "name": "python3",
      "display_name": "Python 3"
    },
    "language_info": {
      "name": "python"
    }
  },
  "cells": [
    {
      "cell_type": "markdown",
      "source": [
        "- **강화학습의 요소**\n",
        "    - 에이전트\n",
        "    - 관측\n",
        "    - 환경\n",
        "    - 행동\n",
        "    - 보상"
      ],
      "metadata": {
        "id": "RnYL7HhAGzlT"
      }
    },
    {
      "cell_type": "markdown",
      "source": [
        "- **강화학습의 정의**\n",
        "    - **에이전트**가 주어진 **환경** 안에서 **관측**과 **행동**을 통해 시행착오를 겪으며 **보상**의 장기간 기대치를 최대로 만드는 행동을 학습하는 것"
      ],
      "metadata": {
        "id": "JlBbRQU4HFTu"
      }
    },
    {
      "cell_type": "markdown",
      "source": [
        "- **강화학습의 사례**\n",
        "    - 로봇 제어 프로그램\n",
        "    - 게임 프로그램\n",
        "    - 스마트 온도조절기\n",
        "    - 자동 매매 프로그램  \n",
        "    - https://www.youtube.com/watch?v=nReMgotclXU\n"
      ],
      "metadata": {
        "id": "-NEUMePhH0lc"
      }
    },
    {
      "cell_type": "markdown",
      "source": [
        "- **강화학습의 활용**\n",
        "    - 자율주행 자동차\n",
        "    - 추천 시스템\n",
        "    - 온라인 광고 시스템\n",
        "    - 이미지 분류 시스템"
      ],
      "metadata": {
        "id": "5ip0XEoTIR3X"
      }
    }
  ]
}