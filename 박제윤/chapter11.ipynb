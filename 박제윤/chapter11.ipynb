{
  "nbformat": 4,
  "nbformat_minor": 0,
  "metadata": {
    "colab": {
      "name": "chapter11.ipynb",
      "provenance": [],
      "machine_shape": "hm"
    },
    "kernelspec": {
      "name": "python3",
      "display_name": "Python 3"
    },
    "language_info": {
      "name": "python"
    },
    "accelerator": "GPU"
  },
  "cells": [
    {
      "cell_type": "markdown",
      "metadata": {
        "id": "KuZyHyfugvox"
      },
      "source": [
        "# a) 00개의 뉴런을 가진 은닉층 20개로 심층 신경망을 만들어보세요(너무 많은 것 같지만 이 연습문제의 핵심입니다). He 초기화와 ELU 활성화 함수를 사용하세요."
      ]
    },
    {
      "cell_type": "code",
      "metadata": {
        "id": "KUzma3yso5jo"
      },
      "source": [
        "import tensorflow as tf\n",
        "from tensorflow import keras\n",
        "import numpy as np\n",
        "import os\n",
        "\n",
        "keras.backend.clear_session()\n",
        "tf.random.set_seed(42)\n",
        "np.random.seed(42)\n",
        "\n",
        "model = keras.models.Sequential()\n",
        "model.add(keras.layers.Flatten(input_shape=[32, 32, 3]))\n",
        "for _ in range(20):\n",
        "    model.add(keras.layers.Dense(100,\n",
        "                                 activation=\"elu\",\n",
        "                                 kernel_initializer=\"he_normal\"))"
      ],
      "execution_count": 1,
      "outputs": []
    },
    {
      "cell_type": "markdown",
      "metadata": {
        "id": "Isz76PRsgzo-"
      },
      "source": [
        "# b) Nadam 옵티마이저와 조기 종료를 사용하여 CIFAR10 데이터셋에 이 네트워크를 훈련하세요. keras.datasets.cifar10.load_ data()를 사용하여 데이터를 적재할 수 있습니다. 이 데이터셋은 10개의 클래스와 32×32 크기의 컬러 이미지 60,000개로 구성됩니다(50,000개는 훈련, 10,000개는 테스트). 따라서 10개의 뉴런과 소프트맥스 활성화 함수를 사용하는 출력층이 필요합니다. 모델 구조와 하이퍼파라미터를 바꿀 때마다 적절한 학습률을 찾아야 한다는 것을 기억하세요."
      ]
    },
    {
      "cell_type": "code",
      "metadata": {
        "id": "ReY0RQGLgSf0"
      },
      "source": [
        "model.add(keras.layers.Dense(10, activation=\"softmax\"))"
      ],
      "execution_count": 2,
      "outputs": []
    },
    {
      "cell_type": "code",
      "metadata": {
        "colab": {
          "base_uri": "https://localhost:8080/"
        },
        "id": "xM208XLOiElM",
        "outputId": "27ce3166-ab31-4468-b96a-0004e0920266"
      },
      "source": [
        "optimizer = keras.optimizers.Nadam(lr=5e-5)\n",
        "model.compile(loss=\"sparse_categorical_crossentropy\",\n",
        "              optimizer=optimizer,\n",
        "              metrics=[\"accuracy\"])"
      ],
      "execution_count": 3,
      "outputs": [
        {
          "output_type": "stream",
          "name": "stderr",
          "text": [
            "/usr/local/lib/python3.7/dist-packages/keras/optimizer_v2/optimizer_v2.py:356: UserWarning: The `lr` argument is deprecated, use `learning_rate` instead.\n",
            "  \"The `lr` argument is deprecated, use `learning_rate` instead.\")\n"
          ]
        }
      ]
    },
    {
      "cell_type": "code",
      "metadata": {
        "colab": {
          "base_uri": "https://localhost:8080/"
        },
        "id": "0xLkOko3iHQx",
        "outputId": "f4c3742e-a8ef-48d1-ce87-7eac0778f321"
      },
      "source": [
        "(X_train_full, y_train_full), (X_test, y_test) = keras.datasets.cifar10.load_data()\n",
        "\n",
        "X_train = X_train_full[5000:]\n",
        "y_train = y_train_full[5000:]\n",
        "X_valid = X_train_full[:5000]\n",
        "y_valid = y_train_full[:5000]"
      ],
      "execution_count": 4,
      "outputs": [
        {
          "output_type": "stream",
          "name": "stdout",
          "text": [
            "Downloading data from https://www.cs.toronto.edu/~kriz/cifar-10-python.tar.gz\n",
            "170500096/170498071 [==============================] - 4s 0us/step\n",
            "170508288/170498071 [==============================] - 4s 0us/step\n"
          ]
        }
      ]
    },
    {
      "cell_type": "code",
      "metadata": {
        "id": "nLhQFfqsiJVy"
      },
      "source": [
        "early_stopping_cb = keras.callbacks.EarlyStopping(patience=20)\n",
        "model_checkpoint_cb = keras.callbacks.ModelCheckpoint(\"my_cifar10_model.h5\", save_best_only=True)\n",
        "run_index = 1 # increase whenever you train a model\n",
        "run_logdir = os.path.join(os.curdir, \"my_cifar10_logs\", \"run_{:03d}\".format(run_index))\n",
        "tensorboard_cb = keras.callbacks.TensorBoard(run_logdir)\n",
        "callbacks = [early_stopping_cb, model_checkpoint_cb, tensorboard_cb]"
      ],
      "execution_count": 5,
      "outputs": []
    },
    {
      "cell_type": "code",
      "metadata": {
        "colab": {
          "base_uri": "https://localhost:8080/"
        },
        "id": "vOtUlGaYiL2R",
        "outputId": "b4883717-88d4-475f-f708-2591c0f66d38"
      },
      "source": [
        "model.fit(X_train, y_train, epochs=100,\n",
        "          validation_data=(X_valid, y_valid),\n",
        "          callbacks=callbacks)"
      ],
      "execution_count": 6,
      "outputs": [
        {
          "output_type": "stream",
          "name": "stdout",
          "text": [
            "Epoch 1/100\n",
            "1407/1407 [==============================] - 19s 10ms/step - loss: 3.9369 - accuracy: 0.1669 - val_loss: 2.1992 - val_accuracy: 0.2176\n",
            "Epoch 2/100\n",
            "1407/1407 [==============================] - 14s 10ms/step - loss: 2.0522 - accuracy: 0.2514 - val_loss: 2.3104 - val_accuracy: 0.2166\n",
            "Epoch 3/100\n",
            "1407/1407 [==============================] - 14s 10ms/step - loss: 1.9299 - accuracy: 0.2931 - val_loss: 1.9691 - val_accuracy: 0.2860\n",
            "Epoch 4/100\n",
            "1407/1407 [==============================] - 14s 10ms/step - loss: 1.8585 - accuracy: 0.3232 - val_loss: 1.8714 - val_accuracy: 0.3182\n",
            "Epoch 5/100\n",
            "1407/1407 [==============================] - 14s 10ms/step - loss: 1.8037 - accuracy: 0.3438 - val_loss: 1.7944 - val_accuracy: 0.3428\n",
            "Epoch 6/100\n",
            "1407/1407 [==============================] - 14s 10ms/step - loss: 1.7520 - accuracy: 0.3642 - val_loss: 1.7313 - val_accuracy: 0.3776\n",
            "Epoch 7/100\n",
            "1407/1407 [==============================] - 14s 10ms/step - loss: 1.7112 - accuracy: 0.3812 - val_loss: 1.7027 - val_accuracy: 0.3804\n",
            "Epoch 8/100\n",
            "1407/1407 [==============================] - 14s 10ms/step - loss: 1.6710 - accuracy: 0.3977 - val_loss: 1.6793 - val_accuracy: 0.4044\n",
            "Epoch 9/100\n",
            "1407/1407 [==============================] - 13s 10ms/step - loss: 1.6421 - accuracy: 0.4072 - val_loss: 1.6595 - val_accuracy: 0.3958\n",
            "Epoch 10/100\n",
            "1407/1407 [==============================] - 13s 10ms/step - loss: 1.6177 - accuracy: 0.4179 - val_loss: 1.6962 - val_accuracy: 0.3878\n",
            "Epoch 11/100\n",
            "1407/1407 [==============================] - 13s 10ms/step - loss: 1.5923 - accuracy: 0.4253 - val_loss: 1.6551 - val_accuracy: 0.4008\n",
            "Epoch 12/100\n",
            "1407/1407 [==============================] - 13s 10ms/step - loss: 1.5692 - accuracy: 0.4349 - val_loss: 1.6355 - val_accuracy: 0.4166\n",
            "Epoch 13/100\n",
            "1407/1407 [==============================] - 13s 10ms/step - loss: 1.5494 - accuracy: 0.4407 - val_loss: 1.6410 - val_accuracy: 0.4110\n",
            "Epoch 14/100\n",
            "1407/1407 [==============================] - 13s 10ms/step - loss: 1.5336 - accuracy: 0.4485 - val_loss: 1.6357 - val_accuracy: 0.4200\n",
            "Epoch 15/100\n",
            "1407/1407 [==============================] - 13s 10ms/step - loss: 1.5189 - accuracy: 0.4562 - val_loss: 1.5873 - val_accuracy: 0.4340\n",
            "Epoch 16/100\n",
            "1407/1407 [==============================] - 13s 10ms/step - loss: 1.4986 - accuracy: 0.4609 - val_loss: 1.5996 - val_accuracy: 0.4314\n",
            "Epoch 17/100\n",
            "1407/1407 [==============================] - 13s 10ms/step - loss: 1.4851 - accuracy: 0.4674 - val_loss: 1.6148 - val_accuracy: 0.4326\n",
            "Epoch 18/100\n",
            "1407/1407 [==============================] - 14s 10ms/step - loss: 1.4729 - accuracy: 0.4685 - val_loss: 1.5690 - val_accuracy: 0.4444\n",
            "Epoch 19/100\n",
            "1407/1407 [==============================] - 13s 10ms/step - loss: 1.4590 - accuracy: 0.4766 - val_loss: 1.5434 - val_accuracy: 0.4600\n",
            "Epoch 20/100\n",
            "1407/1407 [==============================] - 13s 10ms/step - loss: 1.4458 - accuracy: 0.4821 - val_loss: 1.5488 - val_accuracy: 0.4520\n",
            "Epoch 21/100\n",
            "1407/1407 [==============================] - 13s 10ms/step - loss: 1.4321 - accuracy: 0.4836 - val_loss: 1.5619 - val_accuracy: 0.4514\n",
            "Epoch 22/100\n",
            "1407/1407 [==============================] - 13s 10ms/step - loss: 1.4238 - accuracy: 0.4896 - val_loss: 1.5559 - val_accuracy: 0.4522\n",
            "Epoch 23/100\n",
            "1407/1407 [==============================] - 13s 10ms/step - loss: 1.4094 - accuracy: 0.4948 - val_loss: 1.5820 - val_accuracy: 0.4374\n",
            "Epoch 24/100\n",
            "1407/1407 [==============================] - 13s 10ms/step - loss: 1.3998 - accuracy: 0.4976 - val_loss: 1.5566 - val_accuracy: 0.4436\n",
            "Epoch 25/100\n",
            "1407/1407 [==============================] - 13s 10ms/step - loss: 1.3872 - accuracy: 0.5049 - val_loss: 1.5213 - val_accuracy: 0.4664\n",
            "Epoch 26/100\n",
            "1407/1407 [==============================] - 14s 10ms/step - loss: 1.3785 - accuracy: 0.5049 - val_loss: 1.5415 - val_accuracy: 0.4562\n",
            "Epoch 27/100\n",
            "1407/1407 [==============================] - 13s 10ms/step - loss: 1.3635 - accuracy: 0.5103 - val_loss: 1.5207 - val_accuracy: 0.4606\n",
            "Epoch 28/100\n",
            "1407/1407 [==============================] - 13s 10ms/step - loss: 1.3582 - accuracy: 0.5123 - val_loss: 1.5178 - val_accuracy: 0.4656\n",
            "Epoch 29/100\n",
            "1407/1407 [==============================] - 13s 10ms/step - loss: 1.3505 - accuracy: 0.5137 - val_loss: 1.5225 - val_accuracy: 0.4676\n",
            "Epoch 30/100\n",
            "1407/1407 [==============================] - 13s 10ms/step - loss: 1.3362 - accuracy: 0.5207 - val_loss: 1.5677 - val_accuracy: 0.4536\n",
            "Epoch 31/100\n",
            "1407/1407 [==============================] - 13s 10ms/step - loss: 1.3306 - accuracy: 0.5237 - val_loss: 1.5372 - val_accuracy: 0.4674\n",
            "Epoch 32/100\n",
            "1407/1407 [==============================] - 13s 10ms/step - loss: 1.3189 - accuracy: 0.5266 - val_loss: 1.5507 - val_accuracy: 0.4588\n",
            "Epoch 33/100\n",
            "1407/1407 [==============================] - 13s 9ms/step - loss: 1.3158 - accuracy: 0.5299 - val_loss: 1.5507 - val_accuracy: 0.4600\n",
            "Epoch 34/100\n",
            "1407/1407 [==============================] - 13s 10ms/step - loss: 1.3026 - accuracy: 0.5342 - val_loss: 1.5330 - val_accuracy: 0.4682\n",
            "Epoch 35/100\n",
            "1407/1407 [==============================] - 13s 10ms/step - loss: 1.2956 - accuracy: 0.5379 - val_loss: 1.5151 - val_accuracy: 0.4756\n",
            "Epoch 36/100\n",
            "1407/1407 [==============================] - 13s 10ms/step - loss: 1.2903 - accuracy: 0.5396 - val_loss: 1.5469 - val_accuracy: 0.4600\n",
            "Epoch 37/100\n",
            "1407/1407 [==============================] - 13s 10ms/step - loss: 1.2795 - accuracy: 0.5415 - val_loss: 1.5196 - val_accuracy: 0.4750\n",
            "Epoch 38/100\n",
            "1407/1407 [==============================] - 13s 10ms/step - loss: 1.2700 - accuracy: 0.5439 - val_loss: 1.5203 - val_accuracy: 0.4744\n",
            "Epoch 39/100\n",
            "1407/1407 [==============================] - 13s 10ms/step - loss: 1.2591 - accuracy: 0.5491 - val_loss: 1.5564 - val_accuracy: 0.4594\n",
            "Epoch 40/100\n",
            "1407/1407 [==============================] - 13s 10ms/step - loss: 1.2548 - accuracy: 0.5521 - val_loss: 1.5260 - val_accuracy: 0.4732\n",
            "Epoch 41/100\n",
            "1407/1407 [==============================] - 14s 10ms/step - loss: 1.2475 - accuracy: 0.5523 - val_loss: 1.5381 - val_accuracy: 0.4640\n",
            "Epoch 42/100\n",
            "1407/1407 [==============================] - 13s 10ms/step - loss: 1.2375 - accuracy: 0.5580 - val_loss: 1.5637 - val_accuracy: 0.4628\n",
            "Epoch 43/100\n",
            "1407/1407 [==============================] - 13s 10ms/step - loss: 1.2350 - accuracy: 0.5555 - val_loss: 1.5573 - val_accuracy: 0.4586\n",
            "Epoch 44/100\n",
            "1407/1407 [==============================] - 13s 10ms/step - loss: 1.2235 - accuracy: 0.5630 - val_loss: 1.5845 - val_accuracy: 0.4522\n",
            "Epoch 45/100\n",
            "1407/1407 [==============================] - 13s 10ms/step - loss: 1.2160 - accuracy: 0.5666 - val_loss: 1.5406 - val_accuracy: 0.4644\n",
            "Epoch 46/100\n",
            "1407/1407 [==============================] - 13s 10ms/step - loss: 1.2109 - accuracy: 0.5669 - val_loss: 1.5284 - val_accuracy: 0.4754\n",
            "Epoch 47/100\n",
            "1407/1407 [==============================] - 14s 10ms/step - loss: 1.2014 - accuracy: 0.5697 - val_loss: 1.5474 - val_accuracy: 0.4624\n",
            "Epoch 48/100\n",
            "1407/1407 [==============================] - 14s 10ms/step - loss: 1.1975 - accuracy: 0.5704 - val_loss: 1.5449 - val_accuracy: 0.4724\n",
            "Epoch 49/100\n",
            "1407/1407 [==============================] - 13s 10ms/step - loss: 1.1820 - accuracy: 0.5775 - val_loss: 1.5627 - val_accuracy: 0.4674\n",
            "Epoch 50/100\n",
            "1407/1407 [==============================] - 13s 10ms/step - loss: 1.1796 - accuracy: 0.5772 - val_loss: 1.5497 - val_accuracy: 0.4694\n",
            "Epoch 51/100\n",
            "1407/1407 [==============================] - 13s 9ms/step - loss: 1.1704 - accuracy: 0.5801 - val_loss: 1.5430 - val_accuracy: 0.4654\n",
            "Epoch 52/100\n",
            "1407/1407 [==============================] - 13s 10ms/step - loss: 1.1627 - accuracy: 0.5841 - val_loss: 1.5481 - val_accuracy: 0.4728\n",
            "Epoch 53/100\n",
            "1407/1407 [==============================] - 13s 10ms/step - loss: 1.1584 - accuracy: 0.5853 - val_loss: 1.5711 - val_accuracy: 0.4642\n",
            "Epoch 54/100\n",
            "1407/1407 [==============================] - 13s 10ms/step - loss: 1.1504 - accuracy: 0.5886 - val_loss: 1.5780 - val_accuracy: 0.4688\n",
            "Epoch 55/100\n",
            "1407/1407 [==============================] - 13s 10ms/step - loss: 1.1446 - accuracy: 0.5921 - val_loss: 1.5785 - val_accuracy: 0.4592\n"
          ]
        },
        {
          "output_type": "execute_result",
          "data": {
            "text/plain": [
              "<keras.callbacks.History at 0x7f4f460990d0>"
            ]
          },
          "metadata": {},
          "execution_count": 6
        }
      ]
    },
    {
      "cell_type": "code",
      "metadata": {
        "colab": {
          "base_uri": "https://localhost:8080/"
        },
        "id": "BAgi25gXiUhy",
        "outputId": "bd1042eb-c5eb-40e9-b1eb-a37d92030aba"
      },
      "source": [
        "model = keras.models.load_model(\"my_cifar10_model.h5\")\n",
        "model.evaluate(X_valid, y_valid)"
      ],
      "execution_count": 7,
      "outputs": [
        {
          "output_type": "stream",
          "name": "stdout",
          "text": [
            "157/157 [==============================] - 1s 3ms/step - loss: 1.5151 - accuracy: 0.4756\n"
          ]
        },
        {
          "output_type": "execute_result",
          "data": {
            "text/plain": [
              "[1.5151487588882446, 0.475600004196167]"
            ]
          },
          "metadata": {},
          "execution_count": 7
        }
      ]
    },
    {
      "cell_type": "markdown",
      "metadata": {
        "id": "Py58wylYi3ec"
      },
      "source": [
        "# c) 배치 정규화를 추가하고 학습 곡선을 비교해보세요. 이전보다 빠르게 수렴하나요? 더 좋은 모델이 만들어지나요? 훈련 속도에는 어떤 영향을 미치나요?"
      ]
    },
    {
      "cell_type": "code",
      "metadata": {
        "colab": {
          "base_uri": "https://localhost:8080/"
        },
        "id": "4m52BIvEi1qS",
        "outputId": "141d325c-4282-412e-dbc3-cb50056c559b"
      },
      "source": [
        "keras.backend.clear_session()\n",
        "tf.random.set_seed(42)\n",
        "np.random.seed(42)\n",
        "\n",
        "model = keras.models.Sequential()\n",
        "model.add(keras.layers.Flatten(input_shape=[32, 32, 3]))\n",
        "model.add(keras.layers.BatchNormalization())\n",
        "for _ in range(20):\n",
        "    model.add(keras.layers.Dense(100, kernel_initializer=\"he_normal\"))\n",
        "    model.add(keras.layers.BatchNormalization())\n",
        "    model.add(keras.layers.Activation(\"elu\"))\n",
        "model.add(keras.layers.Dense(10, activation=\"softmax\"))\n",
        "\n",
        "optimizer = keras.optimizers.Nadam(lr=5e-4)\n",
        "model.compile(loss=\"sparse_categorical_crossentropy\",\n",
        "              optimizer=optimizer,\n",
        "              metrics=[\"accuracy\"])\n",
        "\n",
        "early_stopping_cb = keras.callbacks.EarlyStopping(patience=20)\n",
        "model_checkpoint_cb = keras.callbacks.ModelCheckpoint(\"my_cifar10_bn_model.h5\", save_best_only=True)\n",
        "run_index = 1 # increase whenever you train a model\n",
        "run_logdir = os.path.join(os.curdir, \"my_cifar10_logs\", \"run_bn_{:03d}\".format(run_index))\n",
        "tensorboard_cb = keras.callbacks.TensorBoard(run_logdir)\n",
        "callbacks = [early_stopping_cb, model_checkpoint_cb, tensorboard_cb]\n",
        "\n",
        "model.fit(X_train, y_train, epochs=100,\n",
        "          validation_data=(X_valid, y_valid),\n",
        "          callbacks=callbacks)\n",
        "\n",
        "model = keras.models.load_model(\"my_cifar10_bn_model.h5\")\n",
        "model.evaluate(X_valid, y_valid)"
      ],
      "execution_count": null,
      "outputs": [
        {
          "output_type": "stream",
          "name": "stderr",
          "text": [
            "/usr/local/lib/python3.7/dist-packages/keras/optimizer_v2/optimizer_v2.py:356: UserWarning: The `lr` argument is deprecated, use `learning_rate` instead.\n",
            "  \"The `lr` argument is deprecated, use `learning_rate` instead.\")\n"
          ]
        },
        {
          "output_type": "stream",
          "name": "stdout",
          "text": [
            "Epoch 1/100\n",
            "1407/1407 [==============================] - 49s 28ms/step - loss: 1.8437 - accuracy: 0.3371 - val_loss: 1.6580 - val_accuracy: 0.4026\n",
            "Epoch 2/100\n",
            "1407/1407 [==============================] - 38s 27ms/step - loss: 1.6733 - accuracy: 0.4030 - val_loss: 1.6131 - val_accuracy: 0.4170\n",
            "Epoch 3/100\n",
            "1407/1407 [==============================] - 38s 27ms/step - loss: 1.5985 - accuracy: 0.4303 - val_loss: 1.5167 - val_accuracy: 0.4610\n",
            "Epoch 4/100\n",
            "1407/1407 [==============================] - 38s 27ms/step - loss: 1.5493 - accuracy: 0.4489 - val_loss: 1.5266 - val_accuracy: 0.4538\n",
            "Epoch 5/100\n",
            "1407/1407 [==============================] - 38s 27ms/step - loss: 1.5082 - accuracy: 0.4634 - val_loss: 1.4415 - val_accuracy: 0.4826\n",
            "Epoch 6/100\n",
            "1407/1407 [==============================] - 38s 27ms/step - loss: 1.4720 - accuracy: 0.4764 - val_loss: 1.4203 - val_accuracy: 0.4942\n",
            "Epoch 7/100\n",
            "1407/1407 [==============================] - 37s 26ms/step - loss: 1.4343 - accuracy: 0.4914 - val_loss: 1.4193 - val_accuracy: 0.4904\n",
            "Epoch 8/100\n",
            "1407/1407 [==============================] - 37s 26ms/step - loss: 1.4087 - accuracy: 0.4993 - val_loss: 1.4095 - val_accuracy: 0.4952\n",
            "Epoch 9/100\n",
            "1407/1407 [==============================] - 38s 27ms/step - loss: 1.3872 - accuracy: 0.5090 - val_loss: 1.3806 - val_accuracy: 0.5054\n",
            "Epoch 10/100\n",
            "1407/1407 [==============================] - 38s 27ms/step - loss: 1.3663 - accuracy: 0.5167 - val_loss: 1.3865 - val_accuracy: 0.5082\n",
            "Epoch 11/100\n",
            "1407/1407 [==============================] - 37s 27ms/step - loss: 1.3467 - accuracy: 0.5239 - val_loss: 1.3609 - val_accuracy: 0.5188\n",
            "Epoch 12/100\n",
            "1407/1407 [==============================] - 37s 27ms/step - loss: 1.3208 - accuracy: 0.5351 - val_loss: 1.3794 - val_accuracy: 0.5096\n",
            "Epoch 13/100\n",
            "1407/1407 [==============================] - 37s 27ms/step - loss: 1.3057 - accuracy: 0.5369 - val_loss: 1.4073 - val_accuracy: 0.5064\n",
            "Epoch 14/100\n",
            "1407/1407 [==============================] - 38s 27ms/step - loss: 1.2878 - accuracy: 0.5444 - val_loss: 1.3457 - val_accuracy: 0.5266\n",
            "Epoch 15/100\n",
            "1407/1407 [==============================] - 37s 26ms/step - loss: 1.2650 - accuracy: 0.5539 - val_loss: 1.3642 - val_accuracy: 0.5238\n",
            "Epoch 16/100\n",
            "1407/1407 [==============================] - 38s 27ms/step - loss: 1.2585 - accuracy: 0.5547 - val_loss: 1.3650 - val_accuracy: 0.5214\n",
            "Epoch 17/100\n",
            "1407/1407 [==============================] - 37s 27ms/step - loss: 1.2363 - accuracy: 0.5614 - val_loss: 1.3320 - val_accuracy: 0.5358\n",
            "Epoch 18/100\n",
            "1407/1407 [==============================] - 38s 27ms/step - loss: 1.2227 - accuracy: 0.5670 - val_loss: 1.3676 - val_accuracy: 0.5244\n",
            "Epoch 19/100\n",
            "1407/1407 [==============================] - 37s 26ms/step - loss: 1.2088 - accuracy: 0.5730 - val_loss: 1.3420 - val_accuracy: 0.5318\n",
            "Epoch 20/100\n",
            "1407/1407 [==============================] - 37s 26ms/step - loss: 1.1954 - accuracy: 0.5792 - val_loss: 1.3625 - val_accuracy: 0.5228\n",
            "Epoch 21/100\n",
            "1407/1407 [==============================] - 37s 26ms/step - loss: 1.1819 - accuracy: 0.5836 - val_loss: 1.3504 - val_accuracy: 0.5276\n",
            "Epoch 22/100\n",
            "1407/1407 [==============================] - 38s 27ms/step - loss: 1.1635 - accuracy: 0.5900 - val_loss: 1.3531 - val_accuracy: 0.5250\n",
            "Epoch 23/100\n",
            "1407/1407 [==============================] - 37s 27ms/step - loss: 1.1540 - accuracy: 0.5922 - val_loss: 1.3211 - val_accuracy: 0.5352\n",
            "Epoch 24/100\n",
            "1407/1407 [==============================] - 37s 27ms/step - loss: 1.1441 - accuracy: 0.5946 - val_loss: 1.3321 - val_accuracy: 0.5416\n",
            "Epoch 25/100\n",
            "1407/1407 [==============================] - 38s 27ms/step - loss: 1.1300 - accuracy: 0.6017 - val_loss: 1.3567 - val_accuracy: 0.5326\n",
            "Epoch 26/100\n",
            "1407/1407 [==============================] - 37s 27ms/step - loss: 1.1177 - accuracy: 0.6048 - val_loss: 1.3456 - val_accuracy: 0.5372\n",
            "Epoch 27/100\n",
            "1407/1407 [==============================] - 37s 27ms/step - loss: 1.1035 - accuracy: 0.6108 - val_loss: 1.3636 - val_accuracy: 0.5310\n",
            "Epoch 28/100\n",
            "1407/1407 [==============================] - 37s 27ms/step - loss: 1.1007 - accuracy: 0.6129 - val_loss: 1.3613 - val_accuracy: 0.5304\n",
            "Epoch 29/100\n",
            "1407/1407 [==============================] - 38s 27ms/step - loss: 1.0877 - accuracy: 0.6148 - val_loss: 1.3327 - val_accuracy: 0.5416\n",
            "Epoch 30/100\n",
            "1407/1407 [==============================] - 38s 27ms/step - loss: 1.0771 - accuracy: 0.6194 - val_loss: 1.3282 - val_accuracy: 0.5414\n",
            "Epoch 31/100\n",
            "1407/1407 [==============================] - 37s 27ms/step - loss: 1.0616 - accuracy: 0.6278 - val_loss: 1.3432 - val_accuracy: 0.5446\n",
            "Epoch 32/100\n",
            "1407/1407 [==============================] - 37s 27ms/step - loss: 1.0558 - accuracy: 0.6286 - val_loss: 1.3383 - val_accuracy: 0.5530\n",
            "Epoch 33/100\n",
            "1407/1407 [==============================] - 37s 27ms/step - loss: 1.0436 - accuracy: 0.6336 - val_loss: 1.3573 - val_accuracy: 0.5410\n",
            "Epoch 34/100\n",
            "1407/1407 [==============================] - 37s 26ms/step - loss: 1.0343 - accuracy: 0.6366 - val_loss: 1.3477 - val_accuracy: 0.5398\n",
            "Epoch 35/100\n",
            "1407/1407 [==============================] - 37s 26ms/step - loss: 1.0247 - accuracy: 0.6391 - val_loss: 1.3647 - val_accuracy: 0.5274\n",
            "Epoch 36/100\n",
            "1407/1407 [==============================] - 37s 26ms/step - loss: 1.0178 - accuracy: 0.6415 - val_loss: 1.3602 - val_accuracy: 0.5378\n",
            "Epoch 37/100\n",
            "1407/1407 [==============================] - 37s 27ms/step - loss: 1.0011 - accuracy: 0.6468 - val_loss: 1.3589 - val_accuracy: 0.5354\n",
            "Epoch 38/100\n",
            "1407/1407 [==============================] - 38s 27ms/step - loss: 0.9970 - accuracy: 0.6488 - val_loss: 1.3880 - val_accuracy: 0.5302\n",
            "Epoch 39/100\n",
            "1205/1407 [========================>.....] - ETA: 5s - loss: 0.9873 - accuracy: 0.6503"
          ]
        }
      ]
    },
    {
      "cell_type": "markdown",
      "metadata": {
        "id": "KwIOb0uli-Yy"
      },
      "source": [
        "# d) 배치 정규화를 SELU로 바꾸어보세요. 네트워크가 자기 정규화하기 위해 필요한 변경 사항을 적용해보세요(즉, 입력 특성 표준화, 르쿤 정규분포 초기화, 완전 연결 층만 순차적으로 쌓은 심층 신경망 등)."
      ]
    },
    {
      "cell_type": "code",
      "metadata": {
        "id": "MUJn36hdi8oS"
      },
      "source": [
        "keras.backend.clear_session()\n",
        "tf.random.set_seed(42)\n",
        "np.random.seed(42)\n",
        "\n",
        "model = keras.models.Sequential()\n",
        "model.add(keras.layers.Flatten(input_shape=[32, 32, 3]))\n",
        "for _ in range(20):\n",
        "    model.add(keras.layers.Dense(100,\n",
        "                                 kernel_initializer=\"lecun_normal\",\n",
        "                                 activation=\"selu\"))\n",
        "model.add(keras.layers.Dense(10, activation=\"softmax\"))\n",
        "\n",
        "optimizer = keras.optimizers.Nadam(lr=7e-4)\n",
        "model.compile(loss=\"sparse_categorical_crossentropy\",\n",
        "              optimizer=optimizer,\n",
        "              metrics=[\"accuracy\"])\n",
        "\n",
        "early_stopping_cb = keras.callbacks.EarlyStopping(patience=20)\n",
        "model_checkpoint_cb = keras.callbacks.ModelCheckpoint(\"my_cifar10_selu_model.h5\", save_best_only=True)\n",
        "run_index = 1 # increase whenever you train a model\n",
        "run_logdir = os.path.join(os.curdir, \"my_cifar10_logs\", \"run_selu_{:03d}\".format(run_index))\n",
        "tensorboard_cb = keras.callbacks.TensorBoard(run_logdir)\n",
        "callbacks = [early_stopping_cb, model_checkpoint_cb, tensorboard_cb]\n",
        "\n",
        "X_means = X_train.mean(axis=0)\n",
        "X_stds = X_train.std(axis=0)\n",
        "X_train_scaled = (X_train - X_means) / X_stds\n",
        "X_valid_scaled = (X_valid - X_means) / X_stds\n",
        "X_test_scaled = (X_test - X_means) / X_stds\n",
        "\n",
        "model.fit(X_train_scaled, y_train, epochs=100,\n",
        "          validation_data=(X_valid_scaled, y_valid),\n",
        "          callbacks=callbacks)\n",
        "\n",
        "model = keras.models.load_model(\"my_cifar10_selu_model.h5\")\n",
        "model.evaluate(X_valid_scaled, y_valid)"
      ],
      "execution_count": null,
      "outputs": []
    },
    {
      "cell_type": "code",
      "metadata": {
        "id": "ToYz43-NjDZt"
      },
      "source": [
        "model = keras.models.load_model(\"my_cifar10_selu_model.h5\")\n",
        "model.evaluate(X_valid_scaled, y_valid)"
      ],
      "execution_count": null,
      "outputs": []
    },
    {
      "cell_type": "markdown",
      "metadata": {
        "id": "0ixglrXUjE7k"
      },
      "source": [
        "# e) 알파 드롭아웃으로 모델에 규제를 적용해보세요. 그다음 모델을 다시 훈련하지 않고 MC 드롭아웃으로 더 높은 정확도를 얻을 수 있는지 확인해보세요."
      ]
    },
    {
      "cell_type": "code",
      "metadata": {
        "id": "ywkcPXPmjGjv"
      },
      "source": [
        "keras.backend.clear_session()\n",
        "tf.random.set_seed(42)\n",
        "np.random.seed(42)\n",
        "\n",
        "model = keras.models.Sequential()\n",
        "model.add(keras.layers.Flatten(input_shape=[32, 32, 3]))\n",
        "for _ in range(20):\n",
        "    model.add(keras.layers.Dense(100,\n",
        "                                 kernel_initializer=\"lecun_normal\",\n",
        "                                 activation=\"selu\"))\n",
        "\n",
        "model.add(keras.layers.AlphaDropout(rate=0.1))\n",
        "model.add(keras.layers.Dense(10, activation=\"softmax\"))\n",
        "\n",
        "optimizer = keras.optimizers.Nadam(lr=5e-4)\n",
        "model.compile(loss=\"sparse_categorical_crossentropy\",\n",
        "              optimizer=optimizer,\n",
        "              metrics=[\"accuracy\"])\n",
        "\n",
        "early_stopping_cb = keras.callbacks.EarlyStopping(patience=20)\n",
        "model_checkpoint_cb = keras.callbacks.ModelCheckpoint(\"my_cifar10_alpha_dropout_model.h5\", save_best_only=True)\n",
        "run_index = 1 # 모델을 훈련할 때마다 증가시킴\n",
        "run_logdir = os.path.join(os.curdir, \"my_cifar10_logs\", \"run_alpha_dropout_{:03d}\".format(run_index))\n",
        "tensorboard_cb = keras.callbacks.TensorBoard(run_logdir)\n",
        "callbacks = [early_stopping_cb, model_checkpoint_cb, tensorboard_cb]\n",
        "\n",
        "X_means = X_train.mean(axis=0)\n",
        "X_stds = X_train.std(axis=0)\n",
        "X_train_scaled = (X_train - X_means) / X_stds\n",
        "X_valid_scaled = (X_valid - X_means) / X_stds\n",
        "X_test_scaled = (X_test - X_means) / X_stds\n",
        "\n",
        "model.fit(X_train_scaled, y_train, epochs=100,\n",
        "          validation_data=(X_valid_scaled, y_valid),\n",
        "          callbacks=callbacks)\n",
        "\n",
        "model = keras.models.load_model(\"my_cifar10_alpha_dropout_model.h5\")\n",
        "model.evaluate(X_valid_scaled, y_valid)"
      ],
      "execution_count": null,
      "outputs": []
    },
    {
      "cell_type": "code",
      "metadata": {
        "id": "eD807OCjjK8r"
      },
      "source": [
        "class MCAlphaDropout(keras.layers.AlphaDropout):\n",
        "    def call(self, inputs):\n",
        "        return super().call(inputs, training=True)"
      ],
      "execution_count": null,
      "outputs": []
    },
    {
      "cell_type": "code",
      "metadata": {
        "id": "IHoDQ4mzjMuK"
      },
      "source": [
        "mc_model = keras.models.Sequential([\n",
        "    MCAlphaDropout(layer.rate) if isinstance(layer, keras.layers.AlphaDropout) else layer\n",
        "    for layer in model.layers\n",
        "])"
      ],
      "execution_count": null,
      "outputs": []
    },
    {
      "cell_type": "code",
      "metadata": {
        "id": "gZUMRlXTjN5E"
      },
      "source": [
        "def mc_dropout_predict_probas(mc_model, X, n_samples=10):\n",
        "    Y_probas = [mc_model.predict(X) for sample in range(n_samples)]\n",
        "    return np.mean(Y_probas, axis=0)\n",
        "\n",
        "def mc_dropout_predict_classes(mc_model, X, n_samples=10):\n",
        "    Y_probas = mc_dropout_predict_probas(mc_model, X, n_samples)\n",
        "    return np.argmax(Y_probas, axis=1)"
      ],
      "execution_count": null,
      "outputs": []
    },
    {
      "cell_type": "code",
      "metadata": {
        "id": "BGhSqUCyjPFb"
      },
      "source": [
        "keras.backend.clear_session()\n",
        "tf.random.set_seed(42)\n",
        "np.random.seed(42)\n",
        "\n",
        "y_pred = mc_dropout_predict_classes(mc_model, X_valid_scaled)\n",
        "accuracy = np.mean(y_pred == y_valid[:, 0])\n",
        "accuracy"
      ],
      "execution_count": null,
      "outputs": []
    },
    {
      "cell_type": "markdown",
      "metadata": {
        "id": "9MxodP8pjQr-"
      },
      "source": [
        "# f) 1사이클 스케줄링으로 모델을 다시 훈련하고 훈련 속도와 모델 정확도가 향상되는지 확인해보세요."
      ]
    },
    {
      "cell_type": "code",
      "metadata": {
        "id": "2jkcXxDRjQKk"
      },
      "source": [
        "keras.backend.clear_session()\n",
        "tf.random.set_seed(42)\n",
        "np.random.seed(42)\n",
        "\n",
        "model = keras.models.Sequential()\n",
        "model.add(keras.layers.Flatten(input_shape=[32, 32, 3]))\n",
        "for _ in range(20):\n",
        "    model.add(keras.layers.Dense(100,\n",
        "                                 kernel_initializer=\"lecun_normal\",\n",
        "                                 activation=\"selu\"))\n",
        "\n",
        "model.add(keras.layers.AlphaDropout(rate=0.1))\n",
        "model.add(keras.layers.Dense(10, activation=\"softmax\"))\n",
        "\n",
        "optimizer = keras.optimizers.SGD(lr=1e-3)\n",
        "model.compile(loss=\"sparse_categorical_crossentropy\",\n",
        "              optimizer=optimizer,\n",
        "              metrics=[\"accuracy\"])"
      ],
      "execution_count": null,
      "outputs": []
    },
    {
      "cell_type": "code",
      "metadata": {
        "id": "-lzDF40qjUln"
      },
      "source": [
        "keras.backend.clear_session()\n",
        "tf.random.set_seed(42)\n",
        "np.random.seed(42)\n",
        "\n",
        "model = keras.models.Sequential()\n",
        "model.add(keras.layers.Flatten(input_shape=[32, 32, 3]))\n",
        "for _ in range(20):\n",
        "    model.add(keras.layers.Dense(100,\n",
        "                                 kernel_initializer=\"lecun_normal\",\n",
        "                                 activation=\"selu\"))\n",
        "\n",
        "model.add(keras.layers.AlphaDropout(rate=0.1))\n",
        "model.add(keras.layers.Dense(10, activation=\"softmax\"))\n",
        "\n",
        "optimizer = keras.optimizers.SGD(lr=1e-2)\n",
        "model.compile(loss=\"sparse_categorical_crossentropy\",\n",
        "              optimizer=optimizer,\n",
        "              metrics=[\"accuracy\"])"
      ],
      "execution_count": null,
      "outputs": []
    },
    {
      "cell_type": "code",
      "metadata": {
        "id": "txOas4m4jV7r"
      },
      "source": [
        "n_epochs = 15\n",
        "onecycle = OneCycleScheduler(len(X_train_scaled) // batch_size * n_epochs, max_rate=0.05)\n",
        "history = model.fit(X_train_scaled, y_train, epochs=n_epochs, batch_size=batch_size,\n",
        "                    validation_data=(X_valid_scaled, y_valid),\n",
        "                    callbacks=[onecycle])"
      ],
      "execution_count": null,
      "outputs": []
    }
  ]
}