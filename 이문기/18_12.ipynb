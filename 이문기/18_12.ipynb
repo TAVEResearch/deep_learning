{
  "cells": [
    {
      "cell_type": "markdown",
      "metadata": {
        "id": "rNjb815mvAI4"
      },
      "source": [
        "## **1. TF-Agent 설치하기**"
      ]
    },
    {
      "cell_type": "code",
      "execution_count": null,
      "metadata": {
        "colab": {
          "base_uri": "https://localhost:8080/"
        },
        "id": "6BuhFuymiSQ4",
        "outputId": "ea057291-80c5-454a-a0af-e5aaa681b07e"
      },
      "outputs": [
        {
          "name": "stdout",
          "output_type": "stream",
          "text": [
            "Requirement already satisfied: tf-agents in /usr/local/lib/python3.7/dist-packages (0.11.0)\n",
            "Requirement already satisfied: cloudpickle>=1.3 in /usr/local/lib/python3.7/dist-packages (from tf-agents) (1.3.0)\n",
            "Requirement already satisfied: protobuf>=3.11.3 in /usr/local/lib/python3.7/dist-packages (from tf-agents) (3.17.3)\n",
            "Requirement already satisfied: six>=1.10.0 in /usr/local/lib/python3.7/dist-packages (from tf-agents) (1.15.0)\n",
            "Requirement already satisfied: typing-extensions>=3.7.4.3 in /usr/local/lib/python3.7/dist-packages (from tf-agents) (3.10.0.2)\n",
            "Requirement already satisfied: gym>=0.17.0 in /usr/local/lib/python3.7/dist-packages (from tf-agents) (0.17.3)\n",
            "Requirement already satisfied: absl-py>=0.6.1 in /usr/local/lib/python3.7/dist-packages (from tf-agents) (0.12.0)\n",
            "Requirement already satisfied: pillow in /usr/local/lib/python3.7/dist-packages (from tf-agents) (7.1.2)\n",
            "Requirement already satisfied: gin-config>=0.4.0 in /usr/local/lib/python3.7/dist-packages (from tf-agents) (0.5.0)\n",
            "Requirement already satisfied: wrapt>=1.11.1 in /usr/local/lib/python3.7/dist-packages (from tf-agents) (1.13.3)\n",
            "Requirement already satisfied: numpy>=1.13.3 in /usr/local/lib/python3.7/dist-packages (from tf-agents) (1.19.5)\n",
            "Requirement already satisfied: tensorflow-probability>=0.14.1 in /usr/local/lib/python3.7/dist-packages (from tf-agents) (0.15.0)\n",
            "Requirement already satisfied: pyglet<=1.5.0,>=1.4.0 in /usr/local/lib/python3.7/dist-packages (from gym>=0.17.0->tf-agents) (1.5.0)\n",
            "Requirement already satisfied: scipy in /usr/local/lib/python3.7/dist-packages (from gym>=0.17.0->tf-agents) (1.4.1)\n",
            "Requirement already satisfied: future in /usr/local/lib/python3.7/dist-packages (from pyglet<=1.5.0,>=1.4.0->gym>=0.17.0->tf-agents) (0.16.0)\n",
            "Requirement already satisfied: decorator in /usr/local/lib/python3.7/dist-packages (from tensorflow-probability>=0.14.1->tf-agents) (4.4.2)\n",
            "Requirement already satisfied: gast>=0.3.2 in /usr/local/lib/python3.7/dist-packages (from tensorflow-probability>=0.14.1->tf-agents) (0.4.0)\n",
            "Requirement already satisfied: dm-tree in /usr/local/lib/python3.7/dist-packages (from tensorflow-probability>=0.14.1->tf-agents) (0.1.6)\n"
          ]
        }
      ],
      "source": [
        "pip install -U tf-agents"
      ]
    },
    {
      "cell_type": "code",
      "execution_count": null,
      "metadata": {
        "colab": {
          "base_uri": "https://localhost:8080/"
        },
        "id": "DlXqshd4nMUh",
        "outputId": "893583a2-f7f7-41b6-bacc-e5cd3cef4de9"
      },
      "outputs": [
        {
          "name": "stdout",
          "output_type": "stream",
          "text": [
            "Requirement already satisfied: gym[atari] in /usr/local/lib/python3.7/dist-packages (0.17.3)\n",
            "Requirement already satisfied: pyglet<=1.5.0,>=1.4.0 in /usr/local/lib/python3.7/dist-packages (from gym[atari]) (1.5.0)\n",
            "Requirement already satisfied: cloudpickle<1.7.0,>=1.2.0 in /usr/local/lib/python3.7/dist-packages (from gym[atari]) (1.3.0)\n",
            "Requirement already satisfied: scipy in /usr/local/lib/python3.7/dist-packages (from gym[atari]) (1.4.1)\n",
            "Requirement already satisfied: numpy>=1.10.4 in /usr/local/lib/python3.7/dist-packages (from gym[atari]) (1.19.5)\n",
            "Requirement already satisfied: Pillow in /usr/local/lib/python3.7/dist-packages (from gym[atari]) (7.1.2)\n",
            "Requirement already satisfied: opencv-python in /usr/local/lib/python3.7/dist-packages (from gym[atari]) (4.1.2.30)\n",
            "Requirement already satisfied: atari-py~=0.2.0 in /usr/local/lib/python3.7/dist-packages (from gym[atari]) (0.2.9)\n",
            "Requirement already satisfied: six in /usr/local/lib/python3.7/dist-packages (from atari-py~=0.2.0->gym[atari]) (1.15.0)\n",
            "Requirement already satisfied: future in /usr/local/lib/python3.7/dist-packages (from pyglet<=1.5.0,>=1.4.0->gym[atari]) (0.16.0)\n"
          ]
        }
      ],
      "source": [
        "pip install -U 'gym[atari]'"
      ]
    },
    {
      "cell_type": "markdown",
      "metadata": {
        "id": "_olOnZVzvJEh"
      },
      "source": [
        "## **2. TF-Agents 환경 만들기**"
      ]
    },
    {
      "cell_type": "code",
      "execution_count": null,
      "metadata": {
        "id": "jY-k2DFTnVe_"
      },
      "outputs": [],
      "source": [
        "from tf_agents.environments import suite_gym"
      ]
    },
    {
      "cell_type": "code",
      "execution_count": null,
      "metadata": {
        "colab": {
          "base_uri": "https://localhost:8080/",
          "height": 112,
          "resources": {
            "http://localhost:8080/nbextensions/google.colab/files.js": {
              "data": "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",
              "headers": [
                [
                  "content-type",
                  "application/javascript"
                ]
              ],
              "ok": true,
              "status": 200,
              "status_text": ""
            }
          }
        },
        "id": "SiPPQgpYq3Jk",
        "outputId": "886f6a71-6e68-4ed3-ba32-9ea4e72f1153"
      },
      "outputs": [
        {
          "data": {
            "text/html": [
              "\n",
              "     <input type=\"file\" id=\"files-b32e4fd6-9d72-4472-92bc-b4bf2d78757e\" name=\"files[]\" multiple disabled\n",
              "        style=\"border:none\" />\n",
              "     <output id=\"result-b32e4fd6-9d72-4472-92bc-b4bf2d78757e\">\n",
              "      Upload widget is only available when the cell has been executed in the\n",
              "      current browser session. Please rerun this cell to enable.\n",
              "      </output>\n",
              "      <script src=\"/nbextensions/google.colab/files.js\"></script> "
            ],
            "text/plain": [
              "<IPython.core.display.HTML object>"
            ]
          },
          "metadata": {},
          "output_type": "display_data"
        },
        {
          "name": "stdout",
          "output_type": "stream",
          "text": [
            "Saving HC ROMS.zip to HC ROMS (2).zip\n",
            "Saving ROMS.zip to ROMS.zip\n"
          ]
        }
      ],
      "source": [
        "#Colab에서 돌릴려면 이렇게 파일을 직접 올려줘야 한다고 함...\n",
        "from google.colab import files\n",
        "uploaded = files.upload()"
      ]
    },
    {
      "cell_type": "code",
      "execution_count": null,
      "metadata": {
        "colab": {
          "base_uri": "https://localhost:8080/"
        },
        "id": "dg-hzDRcnzwK",
        "outputId": "79746129-1585-4eb9-9f76-dc8c453ef8cd"
      },
      "outputs": [
        {
          "name": "stdout",
          "output_type": "stream",
          "text": [
            "copying adventure.bin from HC ROMS/BY ALPHABET (PAL)/A-G/Adventure (PAL).bin to /usr/local/lib/python3.7/dist-packages/atari_py/atari_roms/adventure.bin\n",
            "copying air_raid.bin from HC ROMS/BY ALPHABET (PAL)/A-G/Air Raid (PAL).bin to /usr/local/lib/python3.7/dist-packages/atari_py/atari_roms/air_raid.bin\n",
            "copying alien.bin from HC ROMS/BY ALPHABET (PAL)/A-G/REMAINING NTSC ORIGINALS/Alien.bin to /usr/local/lib/python3.7/dist-packages/atari_py/atari_roms/alien.bin\n",
            "copying crazy_climber.bin from HC ROMS/BY ALPHABET (PAL)/A-G/REMAINING NTSC ORIGINALS/Crazy Climber.bin to /usr/local/lib/python3.7/dist-packages/atari_py/atari_roms/crazy_climber.bin\n",
            "copying elevator_action.bin from HC ROMS/BY ALPHABET (PAL)/A-G/REMAINING NTSC ORIGINALS/Elevator Action (Prototype).bin to /usr/local/lib/python3.7/dist-packages/atari_py/atari_roms/elevator_action.bin\n",
            "copying gravitar.bin from HC ROMS/BY ALPHABET (PAL)/A-G/REMAINING NTSC ORIGINALS/Gravitar.bin to /usr/local/lib/python3.7/dist-packages/atari_py/atari_roms/gravitar.bin\n",
            "copying keystone_kapers.bin from HC ROMS/BY ALPHABET (PAL)/H-R/Keystone Kapers (PAL).bin to /usr/local/lib/python3.7/dist-packages/atari_py/atari_roms/keystone_kapers.bin\n",
            "copying king_kong.bin from HC ROMS/BY ALPHABET (PAL)/H-R/King Kong (PAL).bin to /usr/local/lib/python3.7/dist-packages/atari_py/atari_roms/king_kong.bin\n",
            "copying laser_gates.bin from HC ROMS/BY ALPHABET (PAL)/H-R/Laser Gates (PAL).bin to /usr/local/lib/python3.7/dist-packages/atari_py/atari_roms/laser_gates.bin\n",
            "copying mr_do.bin from HC ROMS/BY ALPHABET (PAL)/H-R/Mr. Do! (PAL).bin to /usr/local/lib/python3.7/dist-packages/atari_py/atari_roms/mr_do.bin\n",
            "copying pacman.bin from HC ROMS/BY ALPHABET (PAL)/H-R/Pac-Man (PAL).bin to /usr/local/lib/python3.7/dist-packages/atari_py/atari_roms/pacman.bin\n",
            "copying jamesbond.bin from HC ROMS/BY ALPHABET (PAL)/H-R/REMAINING NTSC ORIGINALS/James Bond 007.bin to /usr/local/lib/python3.7/dist-packages/atari_py/atari_roms/jamesbond.bin\n",
            "copying koolaid.bin from HC ROMS/BY ALPHABET (PAL)/H-R/REMAINING NTSC ORIGINALS/Kool-Aid Man.bin to /usr/local/lib/python3.7/dist-packages/atari_py/atari_roms/koolaid.bin\n",
            "copying krull.bin from HC ROMS/BY ALPHABET (PAL)/H-R/REMAINING NTSC ORIGINALS/Krull.bin to /usr/local/lib/python3.7/dist-packages/atari_py/atari_roms/krull.bin\n",
            "copying montezuma_revenge.bin from HC ROMS/BY ALPHABET (PAL)/H-R/REMAINING NTSC ORIGINALS/Montezuma's Revenge - Featuring Panama Joe.bin to /usr/local/lib/python3.7/dist-packages/atari_py/atari_roms/montezuma_revenge.bin\n",
            "copying star_gunner.bin from HC ROMS/BY ALPHABET (PAL)/S-Z/REMAINING NTSC ORIGINALS/Stargunner.bin to /usr/local/lib/python3.7/dist-packages/atari_py/atari_roms/star_gunner.bin\n",
            "copying time_pilot.bin from HC ROMS/BY ALPHABET (PAL)/S-Z/REMAINING NTSC ORIGINALS/Time Pilot.bin to /usr/local/lib/python3.7/dist-packages/atari_py/atari_roms/time_pilot.bin\n",
            "copying up_n_down.bin from HC ROMS/BY ALPHABET (PAL)/S-Z/REMAINING NTSC ORIGINALS/Up 'n Down.bin to /usr/local/lib/python3.7/dist-packages/atari_py/atari_roms/up_n_down.bin\n",
            "copying sir_lancelot.bin from HC ROMS/BY ALPHABET (PAL)/S-Z/Sir Lancelot (PAL).bin to /usr/local/lib/python3.7/dist-packages/atari_py/atari_roms/sir_lancelot.bin\n",
            "copying amidar.bin from HC ROMS/BY ALPHABET/A-G/Amidar.bin to /usr/local/lib/python3.7/dist-packages/atari_py/atari_roms/amidar.bin\n",
            "copying asteroids.bin from HC ROMS/BY ALPHABET/A-G/Asteroids [no copyright].bin to /usr/local/lib/python3.7/dist-packages/atari_py/atari_roms/asteroids.bin\n",
            "copying atlantis.bin from HC ROMS/BY ALPHABET/A-G/Atlantis.bin to /usr/local/lib/python3.7/dist-packages/atari_py/atari_roms/atlantis.bin\n",
            "copying bank_heist.bin from HC ROMS/BY ALPHABET/A-G/Bank Heist.bin to /usr/local/lib/python3.7/dist-packages/atari_py/atari_roms/bank_heist.bin\n",
            "copying battle_zone.bin from HC ROMS/BY ALPHABET/A-G/Battlezone.bin to /usr/local/lib/python3.7/dist-packages/atari_py/atari_roms/battle_zone.bin\n",
            "copying beam_rider.bin from HC ROMS/BY ALPHABET/A-G/Beamrider.bin to /usr/local/lib/python3.7/dist-packages/atari_py/atari_roms/beam_rider.bin\n",
            "copying berzerk.bin from HC ROMS/BY ALPHABET/A-G/Berzerk.bin to /usr/local/lib/python3.7/dist-packages/atari_py/atari_roms/berzerk.bin\n",
            "copying bowling.bin from HC ROMS/BY ALPHABET/A-G/Bowling.bin to /usr/local/lib/python3.7/dist-packages/atari_py/atari_roms/bowling.bin\n",
            "copying boxing.bin from HC ROMS/BY ALPHABET/A-G/Boxing.bin to /usr/local/lib/python3.7/dist-packages/atari_py/atari_roms/boxing.bin\n",
            "copying breakout.bin from HC ROMS/BY ALPHABET/A-G/Breakout - Breakaway IV.bin to /usr/local/lib/python3.7/dist-packages/atari_py/atari_roms/breakout.bin\n",
            "copying carnival.bin from HC ROMS/BY ALPHABET/A-G/Carnival.bin to /usr/local/lib/python3.7/dist-packages/atari_py/atari_roms/carnival.bin\n",
            "copying centipede.bin from HC ROMS/BY ALPHABET/A-G/Centipede.bin to /usr/local/lib/python3.7/dist-packages/atari_py/atari_roms/centipede.bin\n",
            "copying chopper_command.bin from HC ROMS/BY ALPHABET/A-G/Chopper Command.bin to /usr/local/lib/python3.7/dist-packages/atari_py/atari_roms/chopper_command.bin\n",
            "copying defender.bin from HC ROMS/BY ALPHABET/A-G/Defender.bin to /usr/local/lib/python3.7/dist-packages/atari_py/atari_roms/defender.bin\n",
            "copying demon_attack.bin from HC ROMS/BY ALPHABET/A-G/Demon Attack.bin to /usr/local/lib/python3.7/dist-packages/atari_py/atari_roms/demon_attack.bin\n",
            "copying donkey_kong.bin from HC ROMS/BY ALPHABET/A-G/Donkey Kong.bin to /usr/local/lib/python3.7/dist-packages/atari_py/atari_roms/donkey_kong.bin\n",
            "copying double_dunk.bin from HC ROMS/BY ALPHABET/A-G/Double Dunk.bin to /usr/local/lib/python3.7/dist-packages/atari_py/atari_roms/double_dunk.bin\n",
            "copying enduro.bin from HC ROMS/BY ALPHABET/A-G/Enduro.bin to /usr/local/lib/python3.7/dist-packages/atari_py/atari_roms/enduro.bin\n",
            "copying fishing_derby.bin from HC ROMS/BY ALPHABET/A-G/Fishing Derby.bin to /usr/local/lib/python3.7/dist-packages/atari_py/atari_roms/fishing_derby.bin\n",
            "copying freeway.bin from HC ROMS/BY ALPHABET/A-G/Freeway.bin to /usr/local/lib/python3.7/dist-packages/atari_py/atari_roms/freeway.bin\n",
            "copying frogger.bin from HC ROMS/BY ALPHABET/A-G/Frogger.bin to /usr/local/lib/python3.7/dist-packages/atari_py/atari_roms/frogger.bin\n",
            "copying frostbite.bin from HC ROMS/BY ALPHABET/A-G/Frostbite.bin to /usr/local/lib/python3.7/dist-packages/atari_py/atari_roms/frostbite.bin\n",
            "copying galaxian.bin from HC ROMS/BY ALPHABET/A-G/Galaxian.bin to /usr/local/lib/python3.7/dist-packages/atari_py/atari_roms/galaxian.bin\n",
            "copying gopher.bin from HC ROMS/BY ALPHABET/A-G/Gopher.bin to /usr/local/lib/python3.7/dist-packages/atari_py/atari_roms/gopher.bin\n",
            "copying hero.bin from HC ROMS/BY ALPHABET/H-R/H.E.R.O..bin to /usr/local/lib/python3.7/dist-packages/atari_py/atari_roms/hero.bin\n",
            "copying ice_hockey.bin from HC ROMS/BY ALPHABET/H-R/Ice Hockey.bin to /usr/local/lib/python3.7/dist-packages/atari_py/atari_roms/ice_hockey.bin\n",
            "copying journey_escape.bin from HC ROMS/BY ALPHABET/H-R/Journey Escape.bin to /usr/local/lib/python3.7/dist-packages/atari_py/atari_roms/journey_escape.bin\n",
            "copying kaboom.bin from HC ROMS/BY ALPHABET/H-R/Kaboom!.bin to /usr/local/lib/python3.7/dist-packages/atari_py/atari_roms/kaboom.bin\n",
            "copying kangaroo.bin from HC ROMS/BY ALPHABET/H-R/Kangaroo.bin to /usr/local/lib/python3.7/dist-packages/atari_py/atari_roms/kangaroo.bin\n",
            "copying kung_fu_master.bin from HC ROMS/BY ALPHABET/H-R/Kung-Fu Master.bin to /usr/local/lib/python3.7/dist-packages/atari_py/atari_roms/kung_fu_master.bin\n",
            "copying lost_luggage.bin from HC ROMS/BY ALPHABET/H-R/Lost Luggage [no opening scene].bin to /usr/local/lib/python3.7/dist-packages/atari_py/atari_roms/lost_luggage.bin\n",
            "copying ms_pacman.bin from HC ROMS/BY ALPHABET/H-R/Ms. Pac-Man.bin to /usr/local/lib/python3.7/dist-packages/atari_py/atari_roms/ms_pacman.bin\n",
            "copying name_this_game.bin from HC ROMS/BY ALPHABET/H-R/Name This Game.bin to /usr/local/lib/python3.7/dist-packages/atari_py/atari_roms/name_this_game.bin\n",
            "copying phoenix.bin from HC ROMS/BY ALPHABET/H-R/Phoenix.bin to /usr/local/lib/python3.7/dist-packages/atari_py/atari_roms/phoenix.bin\n",
            "copying pitfall.bin from HC ROMS/BY ALPHABET/H-R/Pitfall! - Pitfall Harry's Jungle Adventure.bin to /usr/local/lib/python3.7/dist-packages/atari_py/atari_roms/pitfall.bin\n",
            "copying pooyan.bin from HC ROMS/BY ALPHABET/H-R/Pooyan.bin to /usr/local/lib/python3.7/dist-packages/atari_py/atari_roms/pooyan.bin\n",
            "copying private_eye.bin from HC ROMS/BY ALPHABET/H-R/Private Eye.bin to /usr/local/lib/python3.7/dist-packages/atari_py/atari_roms/private_eye.bin\n",
            "copying qbert.bin from HC ROMS/BY ALPHABET/H-R/Q-bert.bin to /usr/local/lib/python3.7/dist-packages/atari_py/atari_roms/qbert.bin\n",
            "copying riverraid.bin from HC ROMS/BY ALPHABET/H-R/River Raid.bin to /usr/local/lib/python3.7/dist-packages/atari_py/atari_roms/riverraid.bin\n",
            "copying road_runner.bin from patched version of HC ROMS/BY ALPHABET/H-R/Road Runner.bin to /usr/local/lib/python3.7/dist-packages/atari_py/atari_roms/road_runner.bin\n",
            "copying robotank.bin from HC ROMS/BY ALPHABET/H-R/Robot Tank.bin to /usr/local/lib/python3.7/dist-packages/atari_py/atari_roms/robotank.bin\n",
            "copying seaquest.bin from HC ROMS/BY ALPHABET/S-Z/Seaquest.bin to /usr/local/lib/python3.7/dist-packages/atari_py/atari_roms/seaquest.bin\n",
            "copying skiing.bin from HC ROMS/BY ALPHABET/S-Z/Skiing.bin to /usr/local/lib/python3.7/dist-packages/atari_py/atari_roms/skiing.bin\n",
            "copying solaris.bin from HC ROMS/BY ALPHABET/S-Z/Solaris.bin to /usr/local/lib/python3.7/dist-packages/atari_py/atari_roms/solaris.bin\n",
            "copying space_invaders.bin from HC ROMS/BY ALPHABET/S-Z/Space Invaders.bin to /usr/local/lib/python3.7/dist-packages/atari_py/atari_roms/space_invaders.bin\n",
            "copying surround.bin from HC ROMS/BY ALPHABET/S-Z/Surround - Chase.bin to /usr/local/lib/python3.7/dist-packages/atari_py/atari_roms/surround.bin\n",
            "copying tennis.bin from HC ROMS/BY ALPHABET/S-Z/Tennis.bin to /usr/local/lib/python3.7/dist-packages/atari_py/atari_roms/tennis.bin\n",
            "copying trondead.bin from HC ROMS/BY ALPHABET/S-Z/TRON - Deadly Discs.bin to /usr/local/lib/python3.7/dist-packages/atari_py/atari_roms/trondead.bin\n",
            "copying tutankham.bin from HC ROMS/BY ALPHABET/S-Z/Tutankham.bin to /usr/local/lib/python3.7/dist-packages/atari_py/atari_roms/tutankham.bin\n",
            "copying venture.bin from HC ROMS/BY ALPHABET/S-Z/Venture.bin to /usr/local/lib/python3.7/dist-packages/atari_py/atari_roms/venture.bin\n",
            "copying pong.bin from HC ROMS/BY ALPHABET/S-Z/Video Olympics - Pong Sports.bin to /usr/local/lib/python3.7/dist-packages/atari_py/atari_roms/pong.bin\n",
            "copying video_pinball.bin from HC ROMS/BY ALPHABET/S-Z/Video Pinball - Arcade Pinball.bin to /usr/local/lib/python3.7/dist-packages/atari_py/atari_roms/video_pinball.bin\n",
            "copying wizard_of_wor.bin from HC ROMS/BY ALPHABET/S-Z/Wizard of Wor.bin to /usr/local/lib/python3.7/dist-packages/atari_py/atari_roms/wizard_of_wor.bin\n",
            "copying yars_revenge.bin from HC ROMS/BY ALPHABET/S-Z/Yars' Revenge.bin to /usr/local/lib/python3.7/dist-packages/atari_py/atari_roms/yars_revenge.bin\n",
            "copying zaxxon.bin from HC ROMS/BY ALPHABET/S-Z/Zaxxon.bin to /usr/local/lib/python3.7/dist-packages/atari_py/atari_roms/zaxxon.bin\n",
            "copying assault.bin from HC ROMS/NTSC VERSIONS OF PAL ORIGINALS/Assault (AKA Sky Alien) (1983) (Bomb - Onbase) (CA281).bin to /usr/local/lib/python3.7/dist-packages/atari_py/atari_roms/assault.bin\n",
            "copying asterix.bin from ROMS/Asterix (AKA Taz) (07-27-1983) (Atari, Jerome Domurat, Steve Woita) (CX2696) (Prototype).bin to /usr/local/lib/python3.7/dist-packages/atari_py/atari_roms/asterix.bin\n"
          ]
        }
      ],
      "source": [
        "!python -m atari_py.import_roms . #맨뒤에 '.'잊지 말고"
      ]
    },
    {
      "cell_type": "code",
      "execution_count": null,
      "metadata": {
        "colab": {
          "base_uri": "https://localhost:8080/"
        },
        "id": "G6hYvj_EnhA6",
        "outputId": "75239e12-fd57-4d54-ae6b-1757c9f7a5d1"
      },
      "outputs": [
        {
          "data": {
            "text/plain": [
              "<tf_agents.environments.wrappers.TimeLimit at 0x7fd735db8bd0>"
            ]
          },
          "execution_count": 15,
          "metadata": {},
          "output_type": "execute_result"
        }
      ],
      "source": [
        "env=suite_gym.load(\"Breakout-v4\") #이제야 환경 만들기\n",
        "env"
      ]
    },
    {
      "cell_type": "markdown",
      "metadata": {
        "id": "dSxII56GveQH"
      },
      "source": [
        "## **18.3 어떤 환경인가요? 환경 스펙**"
      ]
    },
    {
      "cell_type": "code",
      "execution_count": null,
      "metadata": {
        "colab": {
          "base_uri": "https://localhost:8080/"
        },
        "id": "fPhieOfhnj5R",
        "outputId": "d7da8b75-4e75-408e-ee50-61418cf84023"
      },
      "outputs": [
        {
          "data": {
            "text/plain": [
              "BoundedArraySpec(shape=(210, 160, 3), dtype=dtype('uint8'), name='observation', minimum=0, maximum=255)"
            ]
          },
          "execution_count": 16,
          "metadata": {},
          "output_type": "execute_result"
        }
      ],
      "source": [
        "#제공하는 스펙들 : 관측, 행동, 타임 스텝 크기, 데이터 타입, 이름과 최솟값, 최댓값\n",
        "env.observation_spec() #관측 : (210, 160, 3) 크기의 넘파이 배열 스크린샷"
      ]
    },
    {
      "cell_type": "code",
      "execution_count": null,
      "metadata": {
        "colab": {
          "base_uri": "https://localhost:8080/"
        },
        "id": "xUvAgXwrsJBl",
        "outputId": "4b01a3b4-158d-444d-d576-83c97bc83bb1"
      },
      "outputs": [
        {
          "data": {
            "text/plain": [
              "BoundedArraySpec(shape=(), dtype=dtype('int64'), name='action', minimum=0, maximum=3)"
            ]
          },
          "execution_count": 17,
          "metadata": {},
          "output_type": "execute_result"
        }
      ],
      "source": [
        "env.action_spec() #총 4가지 행동"
      ]
    },
    {
      "cell_type": "code",
      "execution_count": null,
      "metadata": {
        "colab": {
          "base_uri": "https://localhost:8080/"
        },
        "id": "-wDh2nMVtKeg",
        "outputId": "f57d1626-f5fc-4a2d-c19b-a07d11017e04"
      },
      "outputs": [
        {
          "data": {
            "text/plain": [
              "TimeStep(\n",
              "{'discount': BoundedArraySpec(shape=(), dtype=dtype('float32'), name='discount', minimum=0.0, maximum=1.0),\n",
              " 'observation': BoundedArraySpec(shape=(210, 160, 3), dtype=dtype('uint8'), name='observation', minimum=0, maximum=255),\n",
              " 'reward': ArraySpec(shape=(), dtype=dtype('float32'), name='reward'),\n",
              " 'step_type': ArraySpec(shape=(), dtype=dtype('int32'), name='step_type')})"
            ]
          },
          "execution_count": 18,
          "metadata": {},
          "output_type": "execute_result"
        }
      ],
      "source": [
        "env.time_step_spec() #데이터타입 등등"
      ]
    },
    {
      "cell_type": "code",
      "execution_count": null,
      "metadata": {
        "colab": {
          "base_uri": "https://localhost:8080/"
        },
        "id": "oWax3_o0tNiP",
        "outputId": "ee33c1ce-4ae8-454b-fb17-de96346d9924"
      },
      "outputs": [
        {
          "data": {
            "text/plain": [
              "['NOOP', 'FIRE', 'RIGHT', 'LEFT']"
            ]
          },
          "execution_count": 19,
          "metadata": {},
          "output_type": "execute_result"
        }
      ],
      "source": [
        "env.gym.get_action_meanings() #noop : 아무것도 안하기, 나머지는 아시겠쥬?"
      ]
    },
    {
      "cell_type": "markdown",
      "metadata": {
        "id": "pgYFbfQEvjm7"
      },
      "source": [
        "## **4. 환경 래퍼와 아타리 전처리**"
      ]
    },
    {
      "cell_type": "markdown",
      "metadata": {
        "id": "JSYRbXSMwYDF"
      },
      "source": [
        "**1. TF-Agents가 제공하는 환경 래퍼들**\n",
        " - ActionClipWrapper : 행동 스펙에 맞게 행동을 클리핑(제한)한다\n",
        " - ActionDiscretizeWapper : 연속적인 행동공간을 이산적인 행동공간으로 양자화(?)\n",
        "         DQN은 이산적인 행동공간만 지원하므로 0, 1, 2, 3 등 이렇게 주어진 종류의 정수로 끊어줄 수 있어야 함\n",
        "         discrete_env = ActionDiscretizeWrapper(env, num_actions = 5) -> 5개의 가능한 행동을 가짐\n",
        " - ActionRepeat : 행동을 n 스텝동안 반복하면서 보상을 누적. 훈련 속도를 높일 수 있음\n",
        " - RunStats : 스텝 개수와 에피소드 개수 같은 환경 통계 기록\n",
        " - TimeLimit : 최대 스텝 개수보다 오래 실행되면 환경 중지\n",
        "\n",
        "**2. 이 환경 래퍼를 써먹으려면? 래핑할 환경을 생성자에 전달해서 래퍼를 만들어줘야 함**"
      ]
    },
    {
      "cell_type": "code",
      "execution_count": null,
      "metadata": {
        "id": "0YMnpG_etgIj"
      },
      "outputs": [],
      "source": [
        "from tf_agents.environments.wrappers import ActionRepeat\n",
        "repeating_env = ActionRepeat(env, times = 5)"
      ]
    },
    {
      "cell_type": "markdown",
      "metadata": {
        "id": "Gmrw6avfzpS_"
      },
      "source": [
        "**3. OpenAi짐도 자체적 래퍼를 가지고 있음 (gym.wrappers)**\n",
        " - 다만 TF-Agents 환경을 위한 것이 아니라 짐 환경을 래핑하는 것이기 때문에\n",
        " - 먼저 짐 환경을 짐 래퍼로 감싸고 그 다음 TF-Agents로 또 감싸야 함 (suite_gym.wrap_env() 함수 사용)\n",
        " - 혹은 suite.gym.load 사용해서 쉽게 래퍼 처리 가능 (단, 매개변수가 없기에 lambda로 전달 필요)"
      ]
    },
    {
      "cell_type": "code",
      "execution_count": null,
      "metadata": {
        "id": "-fVonzOOzgAg"
      },
      "outputs": [],
      "source": [
        "from gym.wrappers import TimeLimit\n",
        "\n",
        "limited_repeating_env = suite_gym.load(\n",
        "    \"Breakout-v4\",\n",
        "    gym_env_wrappers=[lambda env:TimeLimit(env, max_episode_steps=10000)],\n",
        "    env_wrappers=[lambda env: ActionRepeat(env, times=4)]\n",
        ") #각 에피소드에 10,000번 스텝 실행, 각 행동 4번 반복"
      ]
    },
    {
      "cell_type": "markdown",
      "metadata": {
        "id": "cSfpuuEy3Iz2"
      },
      "source": [
        "**4. 아타리 환경에서의 전처리 래퍼 'AtariPreprocessing'**\n",
        " - 흑백변환과 다운샘플링 : 관측 흑백 변환 + 84*84로 다운샘플링\n",
        " - 맥스 풀링 : 게임의 마지막 두 프레임을 1*1 필터로 맥스 풀링 -> 프레임에 출력가능한 sprite(볼) 개수 제한 때문에 발생하는 플리커 현상(화면 흔들림) 제거\n",
        " - 프레임 스킵 : 에이전트는 4프레임마다 게임을 봄 (기본 : n=4) -> 훈련 속도 빨라짐\n",
        " - 죽었을 때 게임 종료 : 게임이 종료되는 벌칙 (당근 일변도에 채찍 추가!)"
      ]
    },
    {
      "cell_type": "markdown",
      "metadata": {
        "id": "_2R_a9WY9wkt"
      },
      "source": [
        ""
      ]
    },
    {
      "cell_type": "code",
      "execution_count": null,
      "metadata": {
        "colab": {
          "base_uri": "https://localhost:8080/",
          "height": 293
        },
        "id": "IifdGGNF6_yt",
        "outputId": "96ecdaad-be73-4eaa-fdc2-5958391ed83f"
      },
      "outputs": [
        {
          "name": "stdout",
          "output_type": "stream",
          "text": [
            "Collecting ale-py\n",
            "  Downloading ale_py-0.7.3-cp37-cp37m-manylinux_2_17_x86_64.manylinux2014_x86_64.whl (1.6 MB)\n",
            "\u001b[K     |████████████████████████████████| 1.6 MB 5.3 MB/s \n",
            "\u001b[?25hRequirement already satisfied: importlib-resources in /usr/local/lib/python3.7/dist-packages (from ale-py) (5.4.0)\n",
            "Requirement already satisfied: numpy in /usr/local/lib/python3.7/dist-packages (from ale-py) (1.19.5)\n",
            "Requirement already satisfied: importlib-metadata in /usr/local/lib/python3.7/dist-packages (from ale-py) (4.8.2)\n",
            "Requirement already satisfied: typing-extensions>=3.6.4 in /usr/local/lib/python3.7/dist-packages (from importlib-metadata->ale-py) (3.10.0.2)\n",
            "Requirement already satisfied: zipp>=0.5 in /usr/local/lib/python3.7/dist-packages (from importlib-metadata->ale-py) (3.6.0)\n",
            "Installing collected packages: ale-py\n",
            "Successfully installed ale-py-0.7.3\n"
          ]
        },
        {
          "data": {
            "application/vnd.colab-display-data+json": {
              "pip_warning": {
                "packages": [
                  "gym"
                ]
              }
            }
          },
          "metadata": {},
          "output_type": "display_data"
        }
      ],
      "source": [
        "pip install ale-py #ale-py가 없다해서 설치하는 것 colab에서 돌리기 참 어렵습니다"
      ]
    },
    {
      "cell_type": "code",
      "execution_count": null,
      "metadata": {
        "id": "KEqRjmEr2DlI"
      },
      "outputs": [],
      "source": [
        "from tf_agents.environments import suite_atari\n",
        "from tf_agents.environments.atari_preprocessing import AtariPreprocessing\n",
        "from tf_agents.environments.atari_wrappers import FrameStack4\n",
        "\n",
        "max_episode_steps = 27000 # Framestack4로 채널 차원으로 프레임을 4개 쌓으므로 실제로는 108,000 프레임과 같음\n",
        "environment_name = \"BreakoutNoFrameskip-v4\" #프레임 스킵과 맥스풀링이 없는 버전\n",
        "\n",
        "env = suite_atari.load(\n",
        "    environment_name,\n",
        "    max_episode_steps=max_episode_steps,\n",
        "    gym_env_wrappers=[AtariPreprocessing, FrameStack4]\n",
        ")"
      ]
    },
    {
      "cell_type": "code",
      "execution_count": null,
      "metadata": {
        "id": "XkQ8Q4q_5Cpa"
      },
      "outputs": [],
      "source": [
        "#텐서플로 그래프 안에서 이 환경을 사용하려면?\n",
        "from tf_agents.environments.tf_py_environment import TFPyEnvironment\n",
        "\n",
        "tf_env = TFPyEnvironment(env)"
      ]
    },
    {
      "cell_type": "markdown",
      "metadata": {
        "id": "3VMXps5d5xX2"
      },
      "source": [
        "## **5. 훈련구조**"
      ]
    },
    {
      "cell_type": "markdown",
      "metadata": {
        "id": "GJns8Hnw6B0T"
      },
      "source": [
        "![TF-Agents 훈련구조.png](data:image/png;base64,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)"
      ]
    },
    {
      "cell_type": "markdown",
      "metadata": {
        "id": "agF7xM1s6Naa"
      },
      "source": [
        "**1. 환경이 여러개인 이유?**   환경을 여러 개 복사하여 GPU로 병렬 탐색하면 빠름 (그 때 그 볼링 훈련 기억나시죠?)\n",
        "\n",
        "**2. 경로(Trajectories)?**   한 타임스텝에서 다음 타임스텝으로의 전환, 이 경로로 옵저버에게 전달 및 재생 버퍼에 전달됨 (나중에 에이전트가 샘플링해서 훈련에 사용하죠?)\n",
        "\n",
        "**3. 왜 옵저버가 필요함? 드라이버가 그냥 경로 저장하면 안됨?** 그러면 재생버퍼를 사용하지 않는 것으로 되어, 드라이버가 유연성이 떨어짐 (사용자가 원하는 추가 튜닝이 힘들어짐)"
      ]
    },
    {
      "cell_type": "markdown",
      "metadata": {
        "id": "J1Nq8M0o8LGf"
      },
      "source": [
        "## **6. 심층 Q-네트워크 만들기**\n",
        "이제 **심층 Q-네트워크 - DQN 에이전트 - 재생 버퍼 - 재생 버퍼에 기록하는 옵저버 - 훈련 지표 몇 개 - 드라이버 - 데이터셋**을 만들어보자"
      ]
    },
    {
      "cell_type": "markdown",
      "metadata": {
        "id": "S08uZ3SmMw_i"
      },
      "source": [
        "**<구조를 풀어서 설명하자면...>**\n",
        "\n",
        "1. 입력이 여러개면 일단 각각 **전처리** 시행 (preprocessing_layers)\n",
        "2. 전처리된 입력을 **연결**해줘야 함 (preprocessing_combiner)\n",
        "3. **합성곱** 층 리스트 적용 (conv_layer_params)\n",
        "4. (출력을 위한)** 밀집 층 **적용 (fc_layer_params)\n",
        "* 필요 시 드롭아웃 층 (dropout_layer_params) 적용 가능"
      ]
    },
    {
      "cell_type": "code",
      "execution_count": null,
      "metadata": {
        "id": "sTNVSxIzsaNI"
      },
      "outputs": [],
      "source": [
        "import keras\n",
        "import tensorflow as tf"
      ]
    },
    {
      "cell_type": "code",
      "execution_count": null,
      "metadata": {
        "id": "kYRMk8hf52cx"
      },
      "outputs": [],
      "source": [
        "from tf_agents.networks.q_network import QNetwork #이 Q-Network는 옵저버를 입력으로 받고 행동마다 하나의 Q-가치를 출력함\n",
        "#그래서 관측 스펙, 행동 스펙을 전달해야 함 (하부의 함수에 observation_spec(), action_spec())\n",
        "\n",
        "preprocessing_layer = keras.layers.Lambda(\n",
        "    lambda obs : tf.cast(obs, np.float32) / 255.) #관측값 32비트 실수로 변환 후 0.0에서 1.0 사이 값으로 정규화\n",
        "conv_layer_params = [(32, (8, 8), 4), (64, (4, 4), 2), (64, (3, 3), 1)] #합성곱층 3개 적용 (8*8필터 32개와 스트라이드 4, 4*4필터 64개와 스트라이드 2, 3*3필터 64개와 스트라이드 1 ???)\n",
        "fc_layer_params=[512] #유닛 512개를 가진 밀집층 적용\n",
        "\n",
        "q_net = QNetwork(\n",
        "    tf_env.observation_spec(),\n",
        "    tf_env.action_spec(),\n",
        "    preprocessing_layers=preprocessing_layer,\n",
        "    conv_layer_params=conv_layer_params,\n",
        "    fc_layer_params = fc_layer_params\n",
        ") "
      ]
    },
    {
      "cell_type": "markdown",
      "metadata": {
        "id": "_TsZxIgBOO-w"
      },
      "source": [
        "## **7. DQN 에이전트 만들기**"
      ]
    },
    {
      "cell_type": "code",
      "execution_count": null,
      "metadata": {
        "id": "oWTJpS0Xt7Ml"
      },
      "outputs": [],
      "source": [
        "from tensorflow.keras import optimizers"
      ]
    },
    {
      "cell_type": "code",
      "execution_count": null,
      "metadata": {
        "id": "34scvNWpOOqY"
      },
      "outputs": [],
      "source": [
        "from tf_agents.agents.dqn.dqn_agent import DqnAgent\n",
        "\n",
        "train_step = tf.Variable(0) #훈련 스텝 횟수를 셀 변수 만들기\n",
        "update_period = 4 # 4스텝마다 모델 훈련\n",
        "optimizer = tf.keras.optimizers.RMSprop(learning_rate=2.5e-4, rho=0.95, momentum=0.0,\n",
        "                                     epsilon=0.00001, centered=True) #옵티마이저 만들기\n",
        "                                     #이거 된 사람? 나 tf 붙여야 돌아가던데?\n",
        "epsilon_fn = tf.keras.optimizers.schedules.PolynomialDecay(\n",
        "    initial_learning_rate=1.0, # initial ε e-그리디 정책을 위함\n",
        "    decay_steps=250000 // update_period, # <=> 1,000,000 ALE frames\n",
        "    end_learning_rate=0.01) # final ε 1에서 시작해서 0.01로 점점 줄어듦\n",
        "agent = DqnAgent(tf_env.time_step_spec(),\n",
        "                 tf_env.action_spec(),\n",
        "                 q_network=q_net,\n",
        "                 optimizer=optimizer,\n",
        "                 target_update_period=2000, # <=> 32,000 ALE frames\n",
        "                 td_errors_loss_fn=keras.losses.Huber(reduction=\"none\"), #reduction true면 평균을 쳐버린다\n",
        "                 gamma=0.99, # discount factor\n",
        "                 train_step_counter=train_step,\n",
        "                 epsilon_greedy=lambda: epsilon_fn(train_step))  #타임 스텝, 행동 스펙, 훈련 Q-network, 옵티마이저, 타깃 모델 훈련 간격, 손실 함수, 할인 계수, train_step 변수, e값 반환 함수\n",
        "agent.initialize() #초기화"
      ]
    },
    {
      "cell_type": "markdown",
      "metadata": {
        "id": "xg2XrEwpZu-h"
      },
      "source": [
        "## **8. 재생버퍼와 옵저버 만들기**"
      ]
    },
    {
      "cell_type": "markdown",
      "metadata": {
        "id": "I7MOcwBSawob"
      },
      "source": [
        "**<재생 버퍼의 매개변수 알아보기>**\n",
        "1. **data_spec** : 재생 버퍼에 저장할 데이터의 구조\n",
        "2. **batch_size** : 각 스텝에서 추가될 경로 개수 (현재는 스텝마다 하나의 행동 실행하고 하나의 경로를 수집하므로 이 값은 '1')\n",
        "3. **max_length** : 재생 버퍼의 최대 크기"
      ]
    },
    {
      "cell_type": "code",
      "execution_count": null,
      "metadata": {
        "id": "_r85W5bsatOA"
      },
      "outputs": [],
      "source": [
        "from tf_agents.replay_buffers import tf_uniform_replay_buffer\n",
        "\n",
        "replay_buffer = tf_uniform_replay_buffer.TFUniformReplayBuffer(\n",
        "    data_spec=agent.collect_data_spec,\n",
        "    batch_size=tf_env.batch_size,\n",
        "    max_length=100000) # reduce if OOM error\n",
        "\n",
        "replay_buffer_observer = replay_buffer.add_batch #재생 버퍼에 경로를 저장할 옵저버 만들기"
      ]
    },
    {
      "cell_type": "code",
      "execution_count": null,
      "metadata": {
        "id": "PrfJtYV3gTrM"
      },
      "outputs": [],
      "source": [
        "class ShowProgress: #호출될 때마다 카운터를 증가시키는 옵저버 (100번 넘길 때마다 진행과정 표기) -> 마지막 줄을 통해 카운트 출력\n",
        "    def __init__(self, total):\n",
        "        self.counter = 0\n",
        "        self.total = total\n",
        "    def __call__(self, trajectory):\n",
        "        if not trajectory.is_boundary():\n",
        "            self.counter += 1\n",
        "        if self.counter % 100 == 0:\n",
        "            print(\"\\r{}/{}\".format(self.counter, self.total), end=\"\")"
      ]
    },
    {
      "cell_type": "markdown",
      "metadata": {
        "id": "8SphDItyiOG6"
      },
      "source": [
        "## **9. 훈련 측정 지표 만들기**"
      ]
    },
    {
      "cell_type": "code",
      "execution_count": null,
      "metadata": {
        "id": "W8e-kJ3_gX37"
      },
      "outputs": [],
      "source": [
        "from tf_agents.metrics import tf_metrics\n",
        "\n",
        "train_metrics = [\n",
        "    tf_metrics.NumberOfEpisodes(), #에피소드 횟수\n",
        "    tf_metrics.EnvironmentSteps(), #환경 내에서 취해진 스텝 횟수\n",
        "    tf_metrics.AverageReturnMetric(), #에피소드당 평균 리턴\n",
        "    tf_metrics.AverageEpisodeLengthMetric(), #평균 에피소드 길이\n",
        "]"
      ]
    },
    {
      "cell_type": "code",
      "execution_count": null,
      "metadata": {
        "colab": {
          "base_uri": "https://localhost:8080/"
        },
        "id": "ZSTRb9eggZ82",
        "outputId": "e0225725-6f62-40d7-ab93-f8f09bae9573"
      },
      "outputs": [
        {
          "name": "stderr",
          "output_type": "stream",
          "text": [
            "INFO:absl: \n",
            "\t\t NumberOfEpisodes = 0\n",
            "\t\t EnvironmentSteps = 0\n",
            "\t\t AverageReturn = 0.0\n",
            "\t\t AverageEpisodeLength = 0.0\n"
          ]
        }
      ],
      "source": [
        "#이걸 확인하려면?\n",
        "from tf_agents.eval.metric_utils import log_metrics\n",
        "import logging\n",
        "logging.getLogger().setLevel(logging.INFO)\n",
        "log_metrics(train_metrics)"
      ]
    },
    {
      "cell_type": "markdown",
      "metadata": {
        "id": "T9J3Tu7yiSQW"
      },
      "source": [
        "## **10. 수집 드라이버 만들기**\n",
        "**드라이버란?** 주어진 정책으로 환경을 탐색하고 경험을 수집하여 옵저버에게 이를 전파하는 객체\n",
        "그래서 각 스텝별로...\n",
        "1. 현재 타임 스텝을 수집 정책에 전달 -> 수집 정책이 타임스텝을 활용해 정책을 선택하고 행동 스텝을 반환\n",
        "2. 드라이버는 그 행동을 환경에 전달하고 다음 타임 스텝을 반환받음\n",
        "3. 이 전이를 표현하는 경로 객체를 만들고 모든 옵저버에게 전달"
      ]
    },
    {
      "cell_type": "markdown",
      "metadata": {
        "id": "6xKxBrMtoiYT"
      },
      "source": [
        "- DynamicStepDriver : 주어진 스텝 횟수에 대한 경험 수집\n",
        "- DynamicEpisodeDriver : 주어진 에피소드 횟수에 대한 경험 수집\n",
        "\n",
        "\n",
        "  -> 여기서는 스텝 4개에 대한 경험을 수집하므로 DynamicStepDriver를 만듦"
      ]
    },
    {
      "cell_type": "code",
      "execution_count": null,
      "metadata": {
        "id": "7RaXsEchgfDI"
      },
      "outputs": [],
      "source": [
        "from tf_agents.drivers.dynamic_step_driver import DynamicStepDriver\n",
        "\n",
        "collect_driver = DynamicStepDriver(\n",
        "    tf_env,\n",
        "    agent.collect_policy,\n",
        "    observers=[replay_buffer_observer] + train_metrics,\n",
        "    num_steps=update_period) # 환경, 수집정책, 옵저버 리스트, 실행할 스텝 횟수 총 4개 전달"
      ]
    },
    {
      "cell_type": "code",
      "execution_count": null,
      "metadata": {
        "colab": {
          "base_uri": "https://localhost:8080/"
        },
        "id": "euiOX8gZgiiw",
        "outputId": "769b20af-86ca-4f2d-e83b-d219cd97f36d"
      },
      "outputs": [
        {
          "name": "stdout",
          "output_type": "stream",
          "text": [
            "20000/20000"
          ]
        }
      ],
      "source": [
        "#완전한 랜덤 정책을 위해 사전에 재생버퍼 채워놓기 (20000번 사전 실행)\n",
        "from tf_agents.policies.random_tf_policy import RandomTFPolicy\n",
        "\n",
        "initial_collect_policy = RandomTFPolicy(tf_env.time_step_spec(),\n",
        "                                        tf_env.action_spec())\n",
        "init_driver = DynamicStepDriver(\n",
        "    tf_env,\n",
        "    initial_collect_policy,\n",
        "    observers=[replay_buffer.add_batch, ShowProgress(20000)],\n",
        "    num_steps=20000) #  80,000 ALE 프레임과 같음\n",
        "final_time_step, final_policy_state = init_driver.run()"
      ]
    },
    {
      "cell_type": "markdown",
      "metadata": {
        "id": "8fp35nX1iXQt"
      },
      "source": [
        "## **11. 데이터셋 만들기**"
      ]
    },
    {
      "cell_type": "code",
      "execution_count": null,
      "metadata": {
        "colab": {
          "base_uri": "https://localhost:8080/"
        },
        "id": "YidNmKO0gqkk",
        "outputId": "f6c1a313-d802-4567-db07-973c8cef29fe"
      },
      "outputs": [
        {
          "name": "stdout",
          "output_type": "stream",
          "text": [
            "WARNING:tensorflow:From <ipython-input-35-25783f94a6fe>:2: ReplayBuffer.get_next (from tf_agents.replay_buffers.replay_buffer) is deprecated and will be removed in a future version.\n",
            "Instructions for updating:\n",
            "Use `as_dataset(..., single_deterministic_pass=False) instead.\n"
          ]
        },
        {
          "name": "stderr",
          "output_type": "stream",
          "text": [
            "WARNING:tensorflow:From <ipython-input-35-25783f94a6fe>:2: ReplayBuffer.get_next (from tf_agents.replay_buffers.replay_buffer) is deprecated and will be removed in a future version.\n",
            "Instructions for updating:\n",
            "Use `as_dataset(..., single_deterministic_pass=False) instead.\n"
          ]
        }
      ],
      "source": [
        "trajectories, buffer_info = replay_buffer.get_next(\n",
        "    sample_batch_size=2, num_steps=3)\n",
        "#Get_next : 경로의 배치를 반환하고 샘플 식별자와 샘플링 확률 담은 BufferInfo 반환\n",
        "#이 코드는 두 경로로 이루어진 스텝 3개를 포함한 배치 반환 // 서브 에피소드 2개를 따로 돌리며, 스텝을 3개를 보여줄려나 봄 // 총 6개의 화면을 보여주며, 그 화면에 FrameStack4에 따라 4개의 진행사항을 보여줌"
      ]
    },
    {
      "cell_type": "code",
      "execution_count": null,
      "metadata": {
        "colab": {
          "base_uri": "https://localhost:8080/"
        },
        "id": "LU76Ls8Sgr8l",
        "outputId": "b465430f-2064-44d9-bc68-0b2e9e72962e"
      },
      "outputs": [
        {
          "data": {
            "text/plain": [
              "('step_type',\n",
              " 'observation',\n",
              " 'action',\n",
              " 'policy_info',\n",
              " 'next_step_type',\n",
              " 'reward',\n",
              " 'discount')"
            ]
          },
          "execution_count": 36,
          "metadata": {},
          "output_type": "execute_result"
        }
      ],
      "source": [
        "trajectories._fields #필드 7개로 이루어진 네임드 튜플"
      ]
    },
    {
      "cell_type": "code",
      "execution_count": null,
      "metadata": {
        "colab": {
          "base_uri": "https://localhost:8080/"
        },
        "id": "qVuybA54gtCj",
        "outputId": "19123a66-96f3-4188-eace-47bd2031578f"
      },
      "outputs": [
        {
          "data": {
            "text/plain": [
              "TensorShape([2, 3, 84, 84, 4])"
            ]
          },
          "execution_count": 37,
          "metadata": {},
          "output_type": "execute_result"
        }
      ],
      "source": [
        "trajectories.observation.shape #각 스텝의 관측의 크기가 84*84*4이므로 여기에 2개 경로에 대해 스텝 3개를 반영하여 필드의 크기가 [2, 3, 84, 84, 4]"
      ]
    },
    {
      "cell_type": "code",
      "execution_count": null,
      "metadata": {
        "colab": {
          "base_uri": "https://localhost:8080/"
        },
        "id": "8glg5EO-h4ZP",
        "outputId": "d9db487e-801a-45a1-87ee-b4c98b2d873e"
      },
      "outputs": [
        {
          "data": {
            "text/plain": [
              "array([[1, 1, 1],\n",
              "       [1, 1, 1]], dtype=int32)"
            ]
          },
          "execution_count": 38,
          "metadata": {},
          "output_type": "execute_result"
        }
      ],
      "source": [
        "trajectories.step_type.numpy() #step_type 텐서는 [2, 3] 크기"
      ]
    },
    {
      "cell_type": "code",
      "execution_count": null,
      "metadata": {
        "colab": {
          "base_uri": "https://localhost:8080/"
        },
        "id": "rJzG5w5PgvYI",
        "outputId": "639d628c-d027-4aa0-8ff0-8f233a334032"
      },
      "outputs": [
        {
          "data": {
            "text/plain": [
              "TensorShape([2, 2, 84, 84, 4])"
            ]
          },
          "execution_count": 39,
          "metadata": {},
          "output_type": "execute_result"
        }
      ],
      "source": [
        "from tf_agents.trajectories.trajectory import to_transition\n",
        "\n",
        "time_steps, action_steps, next_time_steps = to_transition(trajectories) #trajectories를 배치 time_step, 배치 action_step, 배치 next_time_step를 담은 리스트로 각각 나눠줌\n",
        "time_steps.observation.shape\n",
        "#2번의 전이가 있으므로 전이만 쳐서 3개가 아니라 2개가 됨"
      ]
    },
    {
      "cell_type": "code",
      "execution_count": null,
      "metadata": {
        "id": "-jr6bxUOgxvc"
      },
      "outputs": [],
      "source": [
        "dataset = replay_buffer.as_dataset(\n",
        "    sample_batch_size=64,\n",
        "    num_steps=2,\n",
        "    num_parallel_calls=3).prefetch(3)\n",
        "    #tf.data.Dataset을 활용하고 (as_dataset())\n",
        "    #훈련 스텝마다 64개 경로의 배치 샘플링\n",
        "    #각 경로는 2개의 스텝을 포함 (=다음 스텝을 향한 1개의 전이)\n",
        "    #3개를 병렬로 처리하고, 3개의 배치를 프리페치"
      ]
    },
    {
      "cell_type": "markdown",
      "metadata": {
        "id": "yeHWApy-icPu"
      },
      "source": [
        "## **12. 훈련 반복 만들기**"
      ]
    },
    {
      "cell_type": "code",
      "execution_count": null,
      "metadata": {
        "id": "wI2v63mSg5Mu"
      },
      "outputs": [],
      "source": [
        "from tf_agents.utils.common import function\n",
        "\n",
        "collect_driver.run = function(collect_driver.run)\n",
        "agent.train = function(agent.train)\n",
        "#속도를 빠르게 하기 위해 텐서플로 함수를 사용\n",
        "#tf_agents.utils.common을 불러온 후\n",
        "#각 함수를 function()으로 감싸기"
      ]
    },
    {
      "cell_type": "code",
      "execution_count": null,
      "metadata": {
        "id": "vVgDQ5XZg7Ij"
      },
      "outputs": [],
      "source": [
        "def train_agent(n_iterations): #n_iterations동안 실행할 함수\n",
        "    time_step = None \n",
        "    policy_state = agent.collect_policy.get_initial_state(tf_env.batch_size)\n",
        "    iterator = iter(dataset)\n",
        "    #초기상태화(None이라던지, 상태가 없는 policy라던지)\n",
        "    #dataset iteration 설정 -> 후에 next 함수로 iteration 돌림 https://dojang.io/mod/page/view.php?id=2408\n",
        "    for iteration in range(n_iterations):\n",
        "        time_step, policy_state = collect_driver.run(time_step, policy_state) #현재 타입 스텝과 정책 상태를 전달하여 run -> 4스텝동안 경험 수집\n",
        "        trajectories, buffer_info = next(iterator) #수집된 경로를 재생 버퍼와 지표로 전달\n",
        "        train_loss = agent.train(trajectories) # #경로를 train 메서드에 전달 -> 훈련손실 반환\n",
        "        print(\"\\r{} loss:{:.5f}\".format(\n",
        "            iteration, train_loss.loss.numpy()), end=\"\") #반복횟수와 훈련 손실 출력\n",
        "        if iteration % 1000 == 0:\n",
        "            log_metrics(train_metrics) #1000번 반복 시마다 로그 기록"
      ]
    },
    {
      "cell_type": "code",
      "execution_count": 44,
      "metadata": {
        "colab": {
          "base_uri": "https://localhost:8080/"
        },
        "id": "wU8YPLAhg9aa",
        "outputId": "1d51e9d1-4aa1-4146-aa4b-a776c1d1e7ae"
      },
      "outputs": [
        {
          "output_type": "stream",
          "name": "stderr",
          "text": [
            "INFO:absl: \n",
            "\t\t NumberOfEpisodes = 225\n",
            "\t\t EnvironmentSteps = 40004\n",
            "\t\t AverageReturn = 1.2000000476837158\n",
            "\t\t AverageEpisodeLength = 179.39999389648438\n"
          ]
        },
        {
          "output_type": "stream",
          "name": "stdout",
          "text": [
            "995 loss:0.00017"
          ]
        },
        {
          "output_type": "stream",
          "name": "stderr",
          "text": [
            "INFO:absl: \n",
            "\t\t NumberOfEpisodes = 248\n",
            "\t\t EnvironmentSteps = 44004\n",
            "\t\t AverageReturn = 1.399999976158142\n",
            "\t\t AverageEpisodeLength = 195.89999389648438\n"
          ]
        },
        {
          "output_type": "stream",
          "name": "stdout",
          "text": [
            "1998 loss:0.00012"
          ]
        },
        {
          "output_type": "stream",
          "name": "stderr",
          "text": [
            "INFO:absl: \n",
            "\t\t NumberOfEpisodes = 268\n",
            "\t\t EnvironmentSteps = 48004\n",
            "\t\t AverageReturn = 1.2000000476837158\n",
            "\t\t AverageEpisodeLength = 185.1999969482422\n"
          ]
        },
        {
          "output_type": "stream",
          "name": "stdout",
          "text": [
            "2999 loss:0.00004"
          ]
        },
        {
          "output_type": "stream",
          "name": "stderr",
          "text": [
            "INFO:absl: \n",
            "\t\t NumberOfEpisodes = 287\n",
            "\t\t EnvironmentSteps = 52004\n",
            "\t\t AverageReturn = 1.2999999523162842\n",
            "\t\t AverageEpisodeLength = 193.3000030517578\n"
          ]
        },
        {
          "output_type": "stream",
          "name": "stdout",
          "text": [
            "3995 loss:0.00018"
          ]
        },
        {
          "output_type": "stream",
          "name": "stderr",
          "text": [
            "INFO:absl: \n",
            "\t\t NumberOfEpisodes = 309\n",
            "\t\t EnvironmentSteps = 56004\n",
            "\t\t AverageReturn = 0.699999988079071\n",
            "\t\t AverageEpisodeLength = 168.10000610351562\n"
          ]
        },
        {
          "output_type": "stream",
          "name": "stdout",
          "text": [
            "4997 loss:0.00018"
          ]
        },
        {
          "output_type": "stream",
          "name": "stderr",
          "text": [
            "INFO:absl: \n",
            "\t\t NumberOfEpisodes = 331\n",
            "\t\t EnvironmentSteps = 60004\n",
            "\t\t AverageReturn = 0.6000000238418579\n",
            "\t\t AverageEpisodeLength = 159.6999969482422\n"
          ]
        },
        {
          "output_type": "stream",
          "name": "stdout",
          "text": [
            "5997 loss:0.00008"
          ]
        },
        {
          "output_type": "stream",
          "name": "stderr",
          "text": [
            "INFO:absl: \n",
            "\t\t NumberOfEpisodes = 352\n",
            "\t\t EnvironmentSteps = 64004\n",
            "\t\t AverageReturn = 1.2000000476837158\n",
            "\t\t AverageEpisodeLength = 185.8000030517578\n"
          ]
        },
        {
          "output_type": "stream",
          "name": "stdout",
          "text": [
            "6996 loss:0.00019"
          ]
        },
        {
          "output_type": "stream",
          "name": "stderr",
          "text": [
            "INFO:absl: \n",
            "\t\t NumberOfEpisodes = 373\n",
            "\t\t EnvironmentSteps = 68004\n",
            "\t\t AverageReturn = 1.2999999523162842\n",
            "\t\t AverageEpisodeLength = 194.0\n"
          ]
        },
        {
          "output_type": "stream",
          "name": "stdout",
          "text": [
            "7998 loss:0.00028"
          ]
        },
        {
          "output_type": "stream",
          "name": "stderr",
          "text": [
            "INFO:absl: \n",
            "\t\t NumberOfEpisodes = 396\n",
            "\t\t EnvironmentSteps = 72004\n",
            "\t\t AverageReturn = 1.0\n",
            "\t\t AverageEpisodeLength = 174.0\n"
          ]
        },
        {
          "output_type": "stream",
          "name": "stdout",
          "text": [
            "8998 loss:0.00276"
          ]
        },
        {
          "output_type": "stream",
          "name": "stderr",
          "text": [
            "INFO:absl: \n",
            "\t\t NumberOfEpisodes = 416\n",
            "\t\t EnvironmentSteps = 76004\n",
            "\t\t AverageReturn = 0.6000000238418579\n",
            "\t\t AverageEpisodeLength = 164.0\n"
          ]
        },
        {
          "output_type": "stream",
          "name": "stdout",
          "text": [
            "9999 loss:0.00106"
          ]
        }
      ],
      "source": [
        "train_agent(10000)"
      ]
    },
    {
      "cell_type": "code",
      "execution_count": null,
      "metadata": {
        "id": "5lqDEIfkpDoD"
      },
      "outputs": [],
      "source": [
        ""
      ]
    }
  ],
  "metadata": {
    "accelerator": "GPU",
    "colab": {
      "name": "18.12",
      "provenance": []
    },
    "kernelspec": {
      "display_name": "Python 3",
      "name": "python3"
    },
    "language_info": {
      "name": "python"
    }
  },
  "nbformat": 4,
  "nbformat_minor": 0
}