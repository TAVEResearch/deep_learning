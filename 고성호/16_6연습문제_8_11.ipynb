{
  "nbformat": 4,
  "nbformat_minor": 0,
  "metadata": {
    "colab": {
      "name": "16.6연습문제_8~11.ipynb",
      "provenance": [],
      "collapsed_sections": []
    },
    "kernelspec": {
      "name": "python3",
      "display_name": "Python 3"
    },
    "language_info": {
      "name": "python"
    },
    "accelerator": "GPU",
    "widgets": {
      "application/vnd.jupyter.widget-state+json": {
        "433c8f2a4e7e418a9eba14fa0cfb2ad2": {
          "model_module": "@jupyter-widgets/controls",
          "model_name": "HBoxModel",
          "model_module_version": "1.5.0",
          "state": {
            "_view_name": "HBoxView",
            "_dom_classes": [],
            "_model_name": "HBoxModel",
            "_view_module": "@jupyter-widgets/controls",
            "_model_module_version": "1.5.0",
            "_view_count": null,
            "_view_module_version": "1.5.0",
            "box_style": "",
            "layout": "IPY_MODEL_bcc8d5bfe48d4dacbb1826129d1299cd",
            "_model_module": "@jupyter-widgets/controls",
            "children": [
              "IPY_MODEL_c0bc1b56733442d985fc3675421f47c3",
              "IPY_MODEL_8879ebc86f91400683ee459f430e648e",
              "IPY_MODEL_ae39259c8ff945d593674b2ebcd72dfa"
            ]
          }
        },
        "bcc8d5bfe48d4dacbb1826129d1299cd": {
          "model_module": "@jupyter-widgets/base",
          "model_name": "LayoutModel",
          "model_module_version": "1.2.0",
          "state": {
            "_view_name": "LayoutView",
            "grid_template_rows": null,
            "right": null,
            "justify_content": null,
            "_view_module": "@jupyter-widgets/base",
            "overflow": null,
            "_model_module_version": "1.2.0",
            "_view_count": null,
            "flex_flow": null,
            "width": null,
            "min_width": null,
            "border": null,
            "align_items": null,
            "bottom": null,
            "_model_module": "@jupyter-widgets/base",
            "top": null,
            "grid_column": null,
            "overflow_y": null,
            "overflow_x": null,
            "grid_auto_flow": null,
            "grid_area": null,
            "grid_template_columns": null,
            "flex": null,
            "_model_name": "LayoutModel",
            "justify_items": null,
            "grid_row": null,
            "max_height": null,
            "align_content": null,
            "visibility": null,
            "align_self": null,
            "height": null,
            "min_height": null,
            "padding": null,
            "grid_auto_rows": null,
            "grid_gap": null,
            "max_width": null,
            "order": null,
            "_view_module_version": "1.2.0",
            "grid_template_areas": null,
            "object_position": null,
            "object_fit": null,
            "grid_auto_columns": null,
            "margin": null,
            "display": null,
            "left": null
          }
        },
        "c0bc1b56733442d985fc3675421f47c3": {
          "model_module": "@jupyter-widgets/controls",
          "model_name": "HTMLModel",
          "model_module_version": "1.5.0",
          "state": {
            "_view_name": "HTMLView",
            "style": "IPY_MODEL_3250476fab414da2b32329e40147b7bc",
            "_dom_classes": [],
            "description": "",
            "_model_name": "HTMLModel",
            "placeholder": "​",
            "_view_module": "@jupyter-widgets/controls",
            "_model_module_version": "1.5.0",
            "value": "Downloading: 100%",
            "_view_count": null,
            "_view_module_version": "1.5.0",
            "description_tooltip": null,
            "_model_module": "@jupyter-widgets/controls",
            "layout": "IPY_MODEL_311520c74c0a47c3b4b57b3efafa3540"
          }
        },
        "8879ebc86f91400683ee459f430e648e": {
          "model_module": "@jupyter-widgets/controls",
          "model_name": "FloatProgressModel",
          "model_module_version": "1.5.0",
          "state": {
            "_view_name": "ProgressView",
            "style": "IPY_MODEL_98a0310e25674ef28170c332dcc075b3",
            "_dom_classes": [],
            "description": "",
            "_model_name": "FloatProgressModel",
            "bar_style": "success",
            "max": 656,
            "_view_module": "@jupyter-widgets/controls",
            "_model_module_version": "1.5.0",
            "value": 656,
            "_view_count": null,
            "_view_module_version": "1.5.0",
            "orientation": "horizontal",
            "min": 0,
            "description_tooltip": null,
            "_model_module": "@jupyter-widgets/controls",
            "layout": "IPY_MODEL_c4e68ef619914542942d334d793cb3f6"
          }
        },
        "ae39259c8ff945d593674b2ebcd72dfa": {
          "model_module": "@jupyter-widgets/controls",
          "model_name": "HTMLModel",
          "model_module_version": "1.5.0",
          "state": {
            "_view_name": "HTMLView",
            "style": "IPY_MODEL_404ea32b8ea0422a8442ad5308b2b8e3",
            "_dom_classes": [],
            "description": "",
            "_model_name": "HTMLModel",
            "placeholder": "​",
            "_view_module": "@jupyter-widgets/controls",
            "_model_module_version": "1.5.0",
            "value": " 656/656 [00:00&lt;00:00, 13.9kB/s]",
            "_view_count": null,
            "_view_module_version": "1.5.0",
            "description_tooltip": null,
            "_model_module": "@jupyter-widgets/controls",
            "layout": "IPY_MODEL_c58b2d4cd4a94a24a5ed30b52bcdadec"
          }
        },
        "3250476fab414da2b32329e40147b7bc": {
          "model_module": "@jupyter-widgets/controls",
          "model_name": "DescriptionStyleModel",
          "model_module_version": "1.5.0",
          "state": {
            "_view_name": "StyleView",
            "_model_name": "DescriptionStyleModel",
            "description_width": "",
            "_view_module": "@jupyter-widgets/base",
            "_model_module_version": "1.5.0",
            "_view_count": null,
            "_view_module_version": "1.2.0",
            "_model_module": "@jupyter-widgets/controls"
          }
        },
        "311520c74c0a47c3b4b57b3efafa3540": {
          "model_module": "@jupyter-widgets/base",
          "model_name": "LayoutModel",
          "model_module_version": "1.2.0",
          "state": {
            "_view_name": "LayoutView",
            "grid_template_rows": null,
            "right": null,
            "justify_content": null,
            "_view_module": "@jupyter-widgets/base",
            "overflow": null,
            "_model_module_version": "1.2.0",
            "_view_count": null,
            "flex_flow": null,
            "width": null,
            "min_width": null,
            "border": null,
            "align_items": null,
            "bottom": null,
            "_model_module": "@jupyter-widgets/base",
            "top": null,
            "grid_column": null,
            "overflow_y": null,
            "overflow_x": null,
            "grid_auto_flow": null,
            "grid_area": null,
            "grid_template_columns": null,
            "flex": null,
            "_model_name": "LayoutModel",
            "justify_items": null,
            "grid_row": null,
            "max_height": null,
            "align_content": null,
            "visibility": null,
            "align_self": null,
            "height": null,
            "min_height": null,
            "padding": null,
            "grid_auto_rows": null,
            "grid_gap": null,
            "max_width": null,
            "order": null,
            "_view_module_version": "1.2.0",
            "grid_template_areas": null,
            "object_position": null,
            "object_fit": null,
            "grid_auto_columns": null,
            "margin": null,
            "display": null,
            "left": null
          }
        },
        "98a0310e25674ef28170c332dcc075b3": {
          "model_module": "@jupyter-widgets/controls",
          "model_name": "ProgressStyleModel",
          "model_module_version": "1.5.0",
          "state": {
            "_view_name": "StyleView",
            "_model_name": "ProgressStyleModel",
            "description_width": "",
            "_view_module": "@jupyter-widgets/base",
            "_model_module_version": "1.5.0",
            "_view_count": null,
            "_view_module_version": "1.2.0",
            "bar_color": null,
            "_model_module": "@jupyter-widgets/controls"
          }
        },
        "c4e68ef619914542942d334d793cb3f6": {
          "model_module": "@jupyter-widgets/base",
          "model_name": "LayoutModel",
          "model_module_version": "1.2.0",
          "state": {
            "_view_name": "LayoutView",
            "grid_template_rows": null,
            "right": null,
            "justify_content": null,
            "_view_module": "@jupyter-widgets/base",
            "overflow": null,
            "_model_module_version": "1.2.0",
            "_view_count": null,
            "flex_flow": null,
            "width": null,
            "min_width": null,
            "border": null,
            "align_items": null,
            "bottom": null,
            "_model_module": "@jupyter-widgets/base",
            "top": null,
            "grid_column": null,
            "overflow_y": null,
            "overflow_x": null,
            "grid_auto_flow": null,
            "grid_area": null,
            "grid_template_columns": null,
            "flex": null,
            "_model_name": "LayoutModel",
            "justify_items": null,
            "grid_row": null,
            "max_height": null,
            "align_content": null,
            "visibility": null,
            "align_self": null,
            "height": null,
            "min_height": null,
            "padding": null,
            "grid_auto_rows": null,
            "grid_gap": null,
            "max_width": null,
            "order": null,
            "_view_module_version": "1.2.0",
            "grid_template_areas": null,
            "object_position": null,
            "object_fit": null,
            "grid_auto_columns": null,
            "margin": null,
            "display": null,
            "left": null
          }
        },
        "404ea32b8ea0422a8442ad5308b2b8e3": {
          "model_module": "@jupyter-widgets/controls",
          "model_name": "DescriptionStyleModel",
          "model_module_version": "1.5.0",
          "state": {
            "_view_name": "StyleView",
            "_model_name": "DescriptionStyleModel",
            "description_width": "",
            "_view_module": "@jupyter-widgets/base",
            "_model_module_version": "1.5.0",
            "_view_count": null,
            "_view_module_version": "1.2.0",
            "_model_module": "@jupyter-widgets/controls"
          }
        },
        "c58b2d4cd4a94a24a5ed30b52bcdadec": {
          "model_module": "@jupyter-widgets/base",
          "model_name": "LayoutModel",
          "model_module_version": "1.2.0",
          "state": {
            "_view_name": "LayoutView",
            "grid_template_rows": null,
            "right": null,
            "justify_content": null,
            "_view_module": "@jupyter-widgets/base",
            "overflow": null,
            "_model_module_version": "1.2.0",
            "_view_count": null,
            "flex_flow": null,
            "width": null,
            "min_width": null,
            "border": null,
            "align_items": null,
            "bottom": null,
            "_model_module": "@jupyter-widgets/base",
            "top": null,
            "grid_column": null,
            "overflow_y": null,
            "overflow_x": null,
            "grid_auto_flow": null,
            "grid_area": null,
            "grid_template_columns": null,
            "flex": null,
            "_model_name": "LayoutModel",
            "justify_items": null,
            "grid_row": null,
            "max_height": null,
            "align_content": null,
            "visibility": null,
            "align_self": null,
            "height": null,
            "min_height": null,
            "padding": null,
            "grid_auto_rows": null,
            "grid_gap": null,
            "max_width": null,
            "order": null,
            "_view_module_version": "1.2.0",
            "grid_template_areas": null,
            "object_position": null,
            "object_fit": null,
            "grid_auto_columns": null,
            "margin": null,
            "display": null,
            "left": null
          }
        },
        "a23976bda6664639af056d8ab18bb4b4": {
          "model_module": "@jupyter-widgets/controls",
          "model_name": "HBoxModel",
          "model_module_version": "1.5.0",
          "state": {
            "_view_name": "HBoxView",
            "_dom_classes": [],
            "_model_name": "HBoxModel",
            "_view_module": "@jupyter-widgets/controls",
            "_model_module_version": "1.5.0",
            "_view_count": null,
            "_view_module_version": "1.5.0",
            "box_style": "",
            "layout": "IPY_MODEL_35b0ab56a1f24fafaee6eceec59ca00a",
            "_model_module": "@jupyter-widgets/controls",
            "children": [
              "IPY_MODEL_6d8379a2f52a40448a0871b3f3d14dbd",
              "IPY_MODEL_8b83604df7d5433690eee42d9d8b2593",
              "IPY_MODEL_59dc1a6a9beb4aa0aeb48edfae3db21b"
            ]
          }
        },
        "35b0ab56a1f24fafaee6eceec59ca00a": {
          "model_module": "@jupyter-widgets/base",
          "model_name": "LayoutModel",
          "model_module_version": "1.2.0",
          "state": {
            "_view_name": "LayoutView",
            "grid_template_rows": null,
            "right": null,
            "justify_content": null,
            "_view_module": "@jupyter-widgets/base",
            "overflow": null,
            "_model_module_version": "1.2.0",
            "_view_count": null,
            "flex_flow": null,
            "width": null,
            "min_width": null,
            "border": null,
            "align_items": null,
            "bottom": null,
            "_model_module": "@jupyter-widgets/base",
            "top": null,
            "grid_column": null,
            "overflow_y": null,
            "overflow_x": null,
            "grid_auto_flow": null,
            "grid_area": null,
            "grid_template_columns": null,
            "flex": null,
            "_model_name": "LayoutModel",
            "justify_items": null,
            "grid_row": null,
            "max_height": null,
            "align_content": null,
            "visibility": null,
            "align_self": null,
            "height": null,
            "min_height": null,
            "padding": null,
            "grid_auto_rows": null,
            "grid_gap": null,
            "max_width": null,
            "order": null,
            "_view_module_version": "1.2.0",
            "grid_template_areas": null,
            "object_position": null,
            "object_fit": null,
            "grid_auto_columns": null,
            "margin": null,
            "display": null,
            "left": null
          }
        },
        "6d8379a2f52a40448a0871b3f3d14dbd": {
          "model_module": "@jupyter-widgets/controls",
          "model_name": "HTMLModel",
          "model_module_version": "1.5.0",
          "state": {
            "_view_name": "HTMLView",
            "style": "IPY_MODEL_ad7e26f2f15b49f7adc758f583783ac9",
            "_dom_classes": [],
            "description": "",
            "_model_name": "HTMLModel",
            "placeholder": "​",
            "_view_module": "@jupyter-widgets/controls",
            "_model_module_version": "1.5.0",
            "value": "Downloading: 100%",
            "_view_count": null,
            "_view_module_version": "1.5.0",
            "description_tooltip": null,
            "_model_module": "@jupyter-widgets/controls",
            "layout": "IPY_MODEL_e88fefae466e489ab8f70927138c407f"
          }
        },
        "8b83604df7d5433690eee42d9d8b2593": {
          "model_module": "@jupyter-widgets/controls",
          "model_name": "FloatProgressModel",
          "model_module_version": "1.5.0",
          "state": {
            "_view_name": "ProgressView",
            "style": "IPY_MODEL_4d8d96cc474d465b8768aa2e59ce5161",
            "_dom_classes": [],
            "description": "",
            "_model_name": "FloatProgressModel",
            "bar_style": "success",
            "max": 466312920,
            "_view_module": "@jupyter-widgets/controls",
            "_model_module_version": "1.5.0",
            "value": 466312920,
            "_view_count": null,
            "_view_module_version": "1.5.0",
            "orientation": "horizontal",
            "min": 0,
            "description_tooltip": null,
            "_model_module": "@jupyter-widgets/controls",
            "layout": "IPY_MODEL_2eda93098d50491c804b6f38e506a710"
          }
        },
        "59dc1a6a9beb4aa0aeb48edfae3db21b": {
          "model_module": "@jupyter-widgets/controls",
          "model_name": "HTMLModel",
          "model_module_version": "1.5.0",
          "state": {
            "_view_name": "HTMLView",
            "style": "IPY_MODEL_d3f9030577914aa7adca277058ea604b",
            "_dom_classes": [],
            "description": "",
            "_model_name": "HTMLModel",
            "placeholder": "​",
            "_view_module": "@jupyter-widgets/controls",
            "_model_module_version": "1.5.0",
            "value": " 445M/445M [00:16&lt;00:00, 29.6MB/s]",
            "_view_count": null,
            "_view_module_version": "1.5.0",
            "description_tooltip": null,
            "_model_module": "@jupyter-widgets/controls",
            "layout": "IPY_MODEL_7d0f4cc627d341ee9b6909e258b99049"
          }
        },
        "ad7e26f2f15b49f7adc758f583783ac9": {
          "model_module": "@jupyter-widgets/controls",
          "model_name": "DescriptionStyleModel",
          "model_module_version": "1.5.0",
          "state": {
            "_view_name": "StyleView",
            "_model_name": "DescriptionStyleModel",
            "description_width": "",
            "_view_module": "@jupyter-widgets/base",
            "_model_module_version": "1.5.0",
            "_view_count": null,
            "_view_module_version": "1.2.0",
            "_model_module": "@jupyter-widgets/controls"
          }
        },
        "e88fefae466e489ab8f70927138c407f": {
          "model_module": "@jupyter-widgets/base",
          "model_name": "LayoutModel",
          "model_module_version": "1.2.0",
          "state": {
            "_view_name": "LayoutView",
            "grid_template_rows": null,
            "right": null,
            "justify_content": null,
            "_view_module": "@jupyter-widgets/base",
            "overflow": null,
            "_model_module_version": "1.2.0",
            "_view_count": null,
            "flex_flow": null,
            "width": null,
            "min_width": null,
            "border": null,
            "align_items": null,
            "bottom": null,
            "_model_module": "@jupyter-widgets/base",
            "top": null,
            "grid_column": null,
            "overflow_y": null,
            "overflow_x": null,
            "grid_auto_flow": null,
            "grid_area": null,
            "grid_template_columns": null,
            "flex": null,
            "_model_name": "LayoutModel",
            "justify_items": null,
            "grid_row": null,
            "max_height": null,
            "align_content": null,
            "visibility": null,
            "align_self": null,
            "height": null,
            "min_height": null,
            "padding": null,
            "grid_auto_rows": null,
            "grid_gap": null,
            "max_width": null,
            "order": null,
            "_view_module_version": "1.2.0",
            "grid_template_areas": null,
            "object_position": null,
            "object_fit": null,
            "grid_auto_columns": null,
            "margin": null,
            "display": null,
            "left": null
          }
        },
        "4d8d96cc474d465b8768aa2e59ce5161": {
          "model_module": "@jupyter-widgets/controls",
          "model_name": "ProgressStyleModel",
          "model_module_version": "1.5.0",
          "state": {
            "_view_name": "StyleView",
            "_model_name": "ProgressStyleModel",
            "description_width": "",
            "_view_module": "@jupyter-widgets/base",
            "_model_module_version": "1.5.0",
            "_view_count": null,
            "_view_module_version": "1.2.0",
            "bar_color": null,
            "_model_module": "@jupyter-widgets/controls"
          }
        },
        "2eda93098d50491c804b6f38e506a710": {
          "model_module": "@jupyter-widgets/base",
          "model_name": "LayoutModel",
          "model_module_version": "1.2.0",
          "state": {
            "_view_name": "LayoutView",
            "grid_template_rows": null,
            "right": null,
            "justify_content": null,
            "_view_module": "@jupyter-widgets/base",
            "overflow": null,
            "_model_module_version": "1.2.0",
            "_view_count": null,
            "flex_flow": null,
            "width": null,
            "min_width": null,
            "border": null,
            "align_items": null,
            "bottom": null,
            "_model_module": "@jupyter-widgets/base",
            "top": null,
            "grid_column": null,
            "overflow_y": null,
            "overflow_x": null,
            "grid_auto_flow": null,
            "grid_area": null,
            "grid_template_columns": null,
            "flex": null,
            "_model_name": "LayoutModel",
            "justify_items": null,
            "grid_row": null,
            "max_height": null,
            "align_content": null,
            "visibility": null,
            "align_self": null,
            "height": null,
            "min_height": null,
            "padding": null,
            "grid_auto_rows": null,
            "grid_gap": null,
            "max_width": null,
            "order": null,
            "_view_module_version": "1.2.0",
            "grid_template_areas": null,
            "object_position": null,
            "object_fit": null,
            "grid_auto_columns": null,
            "margin": null,
            "display": null,
            "left": null
          }
        },
        "d3f9030577914aa7adca277058ea604b": {
          "model_module": "@jupyter-widgets/controls",
          "model_name": "DescriptionStyleModel",
          "model_module_version": "1.5.0",
          "state": {
            "_view_name": "StyleView",
            "_model_name": "DescriptionStyleModel",
            "description_width": "",
            "_view_module": "@jupyter-widgets/base",
            "_model_module_version": "1.5.0",
            "_view_count": null,
            "_view_module_version": "1.2.0",
            "_model_module": "@jupyter-widgets/controls"
          }
        },
        "7d0f4cc627d341ee9b6909e258b99049": {
          "model_module": "@jupyter-widgets/base",
          "model_name": "LayoutModel",
          "model_module_version": "1.2.0",
          "state": {
            "_view_name": "LayoutView",
            "grid_template_rows": null,
            "right": null,
            "justify_content": null,
            "_view_module": "@jupyter-widgets/base",
            "overflow": null,
            "_model_module_version": "1.2.0",
            "_view_count": null,
            "flex_flow": null,
            "width": null,
            "min_width": null,
            "border": null,
            "align_items": null,
            "bottom": null,
            "_model_module": "@jupyter-widgets/base",
            "top": null,
            "grid_column": null,
            "overflow_y": null,
            "overflow_x": null,
            "grid_auto_flow": null,
            "grid_area": null,
            "grid_template_columns": null,
            "flex": null,
            "_model_name": "LayoutModel",
            "justify_items": null,
            "grid_row": null,
            "max_height": null,
            "align_content": null,
            "visibility": null,
            "align_self": null,
            "height": null,
            "min_height": null,
            "padding": null,
            "grid_auto_rows": null,
            "grid_gap": null,
            "max_width": null,
            "order": null,
            "_view_module_version": "1.2.0",
            "grid_template_areas": null,
            "object_position": null,
            "object_fit": null,
            "grid_auto_columns": null,
            "margin": null,
            "display": null,
            "left": null
          }
        },
        "c48989de7953489a9ff2bbeb7e35f527": {
          "model_module": "@jupyter-widgets/controls",
          "model_name": "HBoxModel",
          "model_module_version": "1.5.0",
          "state": {
            "_view_name": "HBoxView",
            "_dom_classes": [],
            "_model_name": "HBoxModel",
            "_view_module": "@jupyter-widgets/controls",
            "_model_module_version": "1.5.0",
            "_view_count": null,
            "_view_module_version": "1.5.0",
            "box_style": "",
            "layout": "IPY_MODEL_df88188dc4ec4c7c99ab7753f72c2321",
            "_model_module": "@jupyter-widgets/controls",
            "children": [
              "IPY_MODEL_400da078223147acbed5809f0a0c0d2f",
              "IPY_MODEL_0155d9b3299743e6b3b4147dba903370",
              "IPY_MODEL_67bee9b77ea444968786c819f1ccf221"
            ]
          }
        },
        "df88188dc4ec4c7c99ab7753f72c2321": {
          "model_module": "@jupyter-widgets/base",
          "model_name": "LayoutModel",
          "model_module_version": "1.2.0",
          "state": {
            "_view_name": "LayoutView",
            "grid_template_rows": null,
            "right": null,
            "justify_content": null,
            "_view_module": "@jupyter-widgets/base",
            "overflow": null,
            "_model_module_version": "1.2.0",
            "_view_count": null,
            "flex_flow": null,
            "width": null,
            "min_width": null,
            "border": null,
            "align_items": null,
            "bottom": null,
            "_model_module": "@jupyter-widgets/base",
            "top": null,
            "grid_column": null,
            "overflow_y": null,
            "overflow_x": null,
            "grid_auto_flow": null,
            "grid_area": null,
            "grid_template_columns": null,
            "flex": null,
            "_model_name": "LayoutModel",
            "justify_items": null,
            "grid_row": null,
            "max_height": null,
            "align_content": null,
            "visibility": null,
            "align_self": null,
            "height": null,
            "min_height": null,
            "padding": null,
            "grid_auto_rows": null,
            "grid_gap": null,
            "max_width": null,
            "order": null,
            "_view_module_version": "1.2.0",
            "grid_template_areas": null,
            "object_position": null,
            "object_fit": null,
            "grid_auto_columns": null,
            "margin": null,
            "display": null,
            "left": null
          }
        },
        "400da078223147acbed5809f0a0c0d2f": {
          "model_module": "@jupyter-widgets/controls",
          "model_name": "HTMLModel",
          "model_module_version": "1.5.0",
          "state": {
            "_view_name": "HTMLView",
            "style": "IPY_MODEL_6ab0bb9f97494299af9df763b9344535",
            "_dom_classes": [],
            "description": "",
            "_model_name": "HTMLModel",
            "placeholder": "​",
            "_view_module": "@jupyter-widgets/controls",
            "_model_module_version": "1.5.0",
            "value": "Downloading: 100%",
            "_view_count": null,
            "_view_module_version": "1.5.0",
            "description_tooltip": null,
            "_model_module": "@jupyter-widgets/controls",
            "layout": "IPY_MODEL_f693144ebce547eebfb36f802c106232"
          }
        },
        "0155d9b3299743e6b3b4147dba903370": {
          "model_module": "@jupyter-widgets/controls",
          "model_name": "FloatProgressModel",
          "model_module_version": "1.5.0",
          "state": {
            "_view_name": "ProgressView",
            "style": "IPY_MODEL_1e08919d7cb642809241262100bc4b08",
            "_dom_classes": [],
            "description": "",
            "_model_name": "FloatProgressModel",
            "bar_style": "success",
            "max": 815973,
            "_view_module": "@jupyter-widgets/controls",
            "_model_module_version": "1.5.0",
            "value": 815973,
            "_view_count": null,
            "_view_module_version": "1.5.0",
            "orientation": "horizontal",
            "min": 0,
            "description_tooltip": null,
            "_model_module": "@jupyter-widgets/controls",
            "layout": "IPY_MODEL_73430e0256bc41f38f136c9c9036e999"
          }
        },
        "67bee9b77ea444968786c819f1ccf221": {
          "model_module": "@jupyter-widgets/controls",
          "model_name": "HTMLModel",
          "model_module_version": "1.5.0",
          "state": {
            "_view_name": "HTMLView",
            "style": "IPY_MODEL_0acfbfabf70b4a078967022cabea4800",
            "_dom_classes": [],
            "description": "",
            "_model_name": "HTMLModel",
            "placeholder": "​",
            "_view_module": "@jupyter-widgets/controls",
            "_model_module_version": "1.5.0",
            "value": " 797k/797k [00:00&lt;00:00, 757kB/s]",
            "_view_count": null,
            "_view_module_version": "1.5.0",
            "description_tooltip": null,
            "_model_module": "@jupyter-widgets/controls",
            "layout": "IPY_MODEL_8943e59a3214480eb35a07a04c405a66"
          }
        },
        "6ab0bb9f97494299af9df763b9344535": {
          "model_module": "@jupyter-widgets/controls",
          "model_name": "DescriptionStyleModel",
          "model_module_version": "1.5.0",
          "state": {
            "_view_name": "StyleView",
            "_model_name": "DescriptionStyleModel",
            "description_width": "",
            "_view_module": "@jupyter-widgets/base",
            "_model_module_version": "1.5.0",
            "_view_count": null,
            "_view_module_version": "1.2.0",
            "_model_module": "@jupyter-widgets/controls"
          }
        },
        "f693144ebce547eebfb36f802c106232": {
          "model_module": "@jupyter-widgets/base",
          "model_name": "LayoutModel",
          "model_module_version": "1.2.0",
          "state": {
            "_view_name": "LayoutView",
            "grid_template_rows": null,
            "right": null,
            "justify_content": null,
            "_view_module": "@jupyter-widgets/base",
            "overflow": null,
            "_model_module_version": "1.2.0",
            "_view_count": null,
            "flex_flow": null,
            "width": null,
            "min_width": null,
            "border": null,
            "align_items": null,
            "bottom": null,
            "_model_module": "@jupyter-widgets/base",
            "top": null,
            "grid_column": null,
            "overflow_y": null,
            "overflow_x": null,
            "grid_auto_flow": null,
            "grid_area": null,
            "grid_template_columns": null,
            "flex": null,
            "_model_name": "LayoutModel",
            "justify_items": null,
            "grid_row": null,
            "max_height": null,
            "align_content": null,
            "visibility": null,
            "align_self": null,
            "height": null,
            "min_height": null,
            "padding": null,
            "grid_auto_rows": null,
            "grid_gap": null,
            "max_width": null,
            "order": null,
            "_view_module_version": "1.2.0",
            "grid_template_areas": null,
            "object_position": null,
            "object_fit": null,
            "grid_auto_columns": null,
            "margin": null,
            "display": null,
            "left": null
          }
        },
        "1e08919d7cb642809241262100bc4b08": {
          "model_module": "@jupyter-widgets/controls",
          "model_name": "ProgressStyleModel",
          "model_module_version": "1.5.0",
          "state": {
            "_view_name": "StyleView",
            "_model_name": "ProgressStyleModel",
            "description_width": "",
            "_view_module": "@jupyter-widgets/base",
            "_model_module_version": "1.5.0",
            "_view_count": null,
            "_view_module_version": "1.2.0",
            "bar_color": null,
            "_model_module": "@jupyter-widgets/controls"
          }
        },
        "73430e0256bc41f38f136c9c9036e999": {
          "model_module": "@jupyter-widgets/base",
          "model_name": "LayoutModel",
          "model_module_version": "1.2.0",
          "state": {
            "_view_name": "LayoutView",
            "grid_template_rows": null,
            "right": null,
            "justify_content": null,
            "_view_module": "@jupyter-widgets/base",
            "overflow": null,
            "_model_module_version": "1.2.0",
            "_view_count": null,
            "flex_flow": null,
            "width": null,
            "min_width": null,
            "border": null,
            "align_items": null,
            "bottom": null,
            "_model_module": "@jupyter-widgets/base",
            "top": null,
            "grid_column": null,
            "overflow_y": null,
            "overflow_x": null,
            "grid_auto_flow": null,
            "grid_area": null,
            "grid_template_columns": null,
            "flex": null,
            "_model_name": "LayoutModel",
            "justify_items": null,
            "grid_row": null,
            "max_height": null,
            "align_content": null,
            "visibility": null,
            "align_self": null,
            "height": null,
            "min_height": null,
            "padding": null,
            "grid_auto_rows": null,
            "grid_gap": null,
            "max_width": null,
            "order": null,
            "_view_module_version": "1.2.0",
            "grid_template_areas": null,
            "object_position": null,
            "object_fit": null,
            "grid_auto_columns": null,
            "margin": null,
            "display": null,
            "left": null
          }
        },
        "0acfbfabf70b4a078967022cabea4800": {
          "model_module": "@jupyter-widgets/controls",
          "model_name": "DescriptionStyleModel",
          "model_module_version": "1.5.0",
          "state": {
            "_view_name": "StyleView",
            "_model_name": "DescriptionStyleModel",
            "description_width": "",
            "_view_module": "@jupyter-widgets/base",
            "_model_module_version": "1.5.0",
            "_view_count": null,
            "_view_module_version": "1.2.0",
            "_model_module": "@jupyter-widgets/controls"
          }
        },
        "8943e59a3214480eb35a07a04c405a66": {
          "model_module": "@jupyter-widgets/base",
          "model_name": "LayoutModel",
          "model_module_version": "1.2.0",
          "state": {
            "_view_name": "LayoutView",
            "grid_template_rows": null,
            "right": null,
            "justify_content": null,
            "_view_module": "@jupyter-widgets/base",
            "overflow": null,
            "_model_module_version": "1.2.0",
            "_view_count": null,
            "flex_flow": null,
            "width": null,
            "min_width": null,
            "border": null,
            "align_items": null,
            "bottom": null,
            "_model_module": "@jupyter-widgets/base",
            "top": null,
            "grid_column": null,
            "overflow_y": null,
            "overflow_x": null,
            "grid_auto_flow": null,
            "grid_area": null,
            "grid_template_columns": null,
            "flex": null,
            "_model_name": "LayoutModel",
            "justify_items": null,
            "grid_row": null,
            "max_height": null,
            "align_content": null,
            "visibility": null,
            "align_self": null,
            "height": null,
            "min_height": null,
            "padding": null,
            "grid_auto_rows": null,
            "grid_gap": null,
            "max_width": null,
            "order": null,
            "_view_module_version": "1.2.0",
            "grid_template_areas": null,
            "object_position": null,
            "object_fit": null,
            "grid_auto_columns": null,
            "margin": null,
            "display": null,
            "left": null
          }
        },
        "0fb80f7d1b8c41d1895892771887a1a7": {
          "model_module": "@jupyter-widgets/controls",
          "model_name": "HBoxModel",
          "model_module_version": "1.5.0",
          "state": {
            "_view_name": "HBoxView",
            "_dom_classes": [],
            "_model_name": "HBoxModel",
            "_view_module": "@jupyter-widgets/controls",
            "_model_module_version": "1.5.0",
            "_view_count": null,
            "_view_module_version": "1.5.0",
            "box_style": "",
            "layout": "IPY_MODEL_88c9b034014b412587f4321df1643a19",
            "_model_module": "@jupyter-widgets/controls",
            "children": [
              "IPY_MODEL_f347a17343a84a9783cc7737de962560",
              "IPY_MODEL_11cb28960d674f06ac1a54ba9a9263ff",
              "IPY_MODEL_db7cf733d56c42169b48094d7b592912"
            ]
          }
        },
        "88c9b034014b412587f4321df1643a19": {
          "model_module": "@jupyter-widgets/base",
          "model_name": "LayoutModel",
          "model_module_version": "1.2.0",
          "state": {
            "_view_name": "LayoutView",
            "grid_template_rows": null,
            "right": null,
            "justify_content": null,
            "_view_module": "@jupyter-widgets/base",
            "overflow": null,
            "_model_module_version": "1.2.0",
            "_view_count": null,
            "flex_flow": null,
            "width": null,
            "min_width": null,
            "border": null,
            "align_items": null,
            "bottom": null,
            "_model_module": "@jupyter-widgets/base",
            "top": null,
            "grid_column": null,
            "overflow_y": null,
            "overflow_x": null,
            "grid_auto_flow": null,
            "grid_area": null,
            "grid_template_columns": null,
            "flex": null,
            "_model_name": "LayoutModel",
            "justify_items": null,
            "grid_row": null,
            "max_height": null,
            "align_content": null,
            "visibility": null,
            "align_self": null,
            "height": null,
            "min_height": null,
            "padding": null,
            "grid_auto_rows": null,
            "grid_gap": null,
            "max_width": null,
            "order": null,
            "_view_module_version": "1.2.0",
            "grid_template_areas": null,
            "object_position": null,
            "object_fit": null,
            "grid_auto_columns": null,
            "margin": null,
            "display": null,
            "left": null
          }
        },
        "f347a17343a84a9783cc7737de962560": {
          "model_module": "@jupyter-widgets/controls",
          "model_name": "HTMLModel",
          "model_module_version": "1.5.0",
          "state": {
            "_view_name": "HTMLView",
            "style": "IPY_MODEL_3a384962634d40648067969bdbf4f3d2",
            "_dom_classes": [],
            "description": "",
            "_model_name": "HTMLModel",
            "placeholder": "​",
            "_view_module": "@jupyter-widgets/controls",
            "_model_module_version": "1.5.0",
            "value": "Downloading: 100%",
            "_view_count": null,
            "_view_module_version": "1.5.0",
            "description_tooltip": null,
            "_model_module": "@jupyter-widgets/controls",
            "layout": "IPY_MODEL_386937a8e2064599b58ac673059a45ec"
          }
        },
        "11cb28960d674f06ac1a54ba9a9263ff": {
          "model_module": "@jupyter-widgets/controls",
          "model_name": "FloatProgressModel",
          "model_module_version": "1.5.0",
          "state": {
            "_view_name": "ProgressView",
            "style": "IPY_MODEL_b6800c98ebe347a3862a2870e14e02af",
            "_dom_classes": [],
            "description": "",
            "_model_name": "FloatProgressModel",
            "bar_style": "success",
            "max": 458495,
            "_view_module": "@jupyter-widgets/controls",
            "_model_module_version": "1.5.0",
            "value": 458495,
            "_view_count": null,
            "_view_module_version": "1.5.0",
            "orientation": "horizontal",
            "min": 0,
            "description_tooltip": null,
            "_model_module": "@jupyter-widgets/controls",
            "layout": "IPY_MODEL_c94aa9d6bf144f538d52c6c5737486e6"
          }
        },
        "db7cf733d56c42169b48094d7b592912": {
          "model_module": "@jupyter-widgets/controls",
          "model_name": "HTMLModel",
          "model_module_version": "1.5.0",
          "state": {
            "_view_name": "HTMLView",
            "style": "IPY_MODEL_6887678794234b74bd0f7bb9b01c6060",
            "_dom_classes": [],
            "description": "",
            "_model_name": "HTMLModel",
            "placeholder": "​",
            "_view_module": "@jupyter-widgets/controls",
            "_model_module_version": "1.5.0",
            "value": " 448k/448k [00:00&lt;00:00, 942kB/s]",
            "_view_count": null,
            "_view_module_version": "1.5.0",
            "description_tooltip": null,
            "_model_module": "@jupyter-widgets/controls",
            "layout": "IPY_MODEL_a9aa1c0bfa7a4f70a8b3cab38c9f4169"
          }
        },
        "3a384962634d40648067969bdbf4f3d2": {
          "model_module": "@jupyter-widgets/controls",
          "model_name": "DescriptionStyleModel",
          "model_module_version": "1.5.0",
          "state": {
            "_view_name": "StyleView",
            "_model_name": "DescriptionStyleModel",
            "description_width": "",
            "_view_module": "@jupyter-widgets/base",
            "_model_module_version": "1.5.0",
            "_view_count": null,
            "_view_module_version": "1.2.0",
            "_model_module": "@jupyter-widgets/controls"
          }
        },
        "386937a8e2064599b58ac673059a45ec": {
          "model_module": "@jupyter-widgets/base",
          "model_name": "LayoutModel",
          "model_module_version": "1.2.0",
          "state": {
            "_view_name": "LayoutView",
            "grid_template_rows": null,
            "right": null,
            "justify_content": null,
            "_view_module": "@jupyter-widgets/base",
            "overflow": null,
            "_model_module_version": "1.2.0",
            "_view_count": null,
            "flex_flow": null,
            "width": null,
            "min_width": null,
            "border": null,
            "align_items": null,
            "bottom": null,
            "_model_module": "@jupyter-widgets/base",
            "top": null,
            "grid_column": null,
            "overflow_y": null,
            "overflow_x": null,
            "grid_auto_flow": null,
            "grid_area": null,
            "grid_template_columns": null,
            "flex": null,
            "_model_name": "LayoutModel",
            "justify_items": null,
            "grid_row": null,
            "max_height": null,
            "align_content": null,
            "visibility": null,
            "align_self": null,
            "height": null,
            "min_height": null,
            "padding": null,
            "grid_auto_rows": null,
            "grid_gap": null,
            "max_width": null,
            "order": null,
            "_view_module_version": "1.2.0",
            "grid_template_areas": null,
            "object_position": null,
            "object_fit": null,
            "grid_auto_columns": null,
            "margin": null,
            "display": null,
            "left": null
          }
        },
        "b6800c98ebe347a3862a2870e14e02af": {
          "model_module": "@jupyter-widgets/controls",
          "model_name": "ProgressStyleModel",
          "model_module_version": "1.5.0",
          "state": {
            "_view_name": "StyleView",
            "_model_name": "ProgressStyleModel",
            "description_width": "",
            "_view_module": "@jupyter-widgets/base",
            "_model_module_version": "1.5.0",
            "_view_count": null,
            "_view_module_version": "1.2.0",
            "bar_color": null,
            "_model_module": "@jupyter-widgets/controls"
          }
        },
        "c94aa9d6bf144f538d52c6c5737486e6": {
          "model_module": "@jupyter-widgets/base",
          "model_name": "LayoutModel",
          "model_module_version": "1.2.0",
          "state": {
            "_view_name": "LayoutView",
            "grid_template_rows": null,
            "right": null,
            "justify_content": null,
            "_view_module": "@jupyter-widgets/base",
            "overflow": null,
            "_model_module_version": "1.2.0",
            "_view_count": null,
            "flex_flow": null,
            "width": null,
            "min_width": null,
            "border": null,
            "align_items": null,
            "bottom": null,
            "_model_module": "@jupyter-widgets/base",
            "top": null,
            "grid_column": null,
            "overflow_y": null,
            "overflow_x": null,
            "grid_auto_flow": null,
            "grid_area": null,
            "grid_template_columns": null,
            "flex": null,
            "_model_name": "LayoutModel",
            "justify_items": null,
            "grid_row": null,
            "max_height": null,
            "align_content": null,
            "visibility": null,
            "align_self": null,
            "height": null,
            "min_height": null,
            "padding": null,
            "grid_auto_rows": null,
            "grid_gap": null,
            "max_width": null,
            "order": null,
            "_view_module_version": "1.2.0",
            "grid_template_areas": null,
            "object_position": null,
            "object_fit": null,
            "grid_auto_columns": null,
            "margin": null,
            "display": null,
            "left": null
          }
        },
        "6887678794234b74bd0f7bb9b01c6060": {
          "model_module": "@jupyter-widgets/controls",
          "model_name": "DescriptionStyleModel",
          "model_module_version": "1.5.0",
          "state": {
            "_view_name": "StyleView",
            "_model_name": "DescriptionStyleModel",
            "description_width": "",
            "_view_module": "@jupyter-widgets/base",
            "_model_module_version": "1.5.0",
            "_view_count": null,
            "_view_module_version": "1.2.0",
            "_model_module": "@jupyter-widgets/controls"
          }
        },
        "a9aa1c0bfa7a4f70a8b3cab38c9f4169": {
          "model_module": "@jupyter-widgets/base",
          "model_name": "LayoutModel",
          "model_module_version": "1.2.0",
          "state": {
            "_view_name": "LayoutView",
            "grid_template_rows": null,
            "right": null,
            "justify_content": null,
            "_view_module": "@jupyter-widgets/base",
            "overflow": null,
            "_model_module_version": "1.2.0",
            "_view_count": null,
            "flex_flow": null,
            "width": null,
            "min_width": null,
            "border": null,
            "align_items": null,
            "bottom": null,
            "_model_module": "@jupyter-widgets/base",
            "top": null,
            "grid_column": null,
            "overflow_y": null,
            "overflow_x": null,
            "grid_auto_flow": null,
            "grid_area": null,
            "grid_template_columns": null,
            "flex": null,
            "_model_name": "LayoutModel",
            "justify_items": null,
            "grid_row": null,
            "max_height": null,
            "align_content": null,
            "visibility": null,
            "align_self": null,
            "height": null,
            "min_height": null,
            "padding": null,
            "grid_auto_rows": null,
            "grid_gap": null,
            "max_width": null,
            "order": null,
            "_view_module_version": "1.2.0",
            "grid_template_areas": null,
            "object_position": null,
            "object_fit": null,
            "grid_auto_columns": null,
            "margin": null,
            "display": null,
            "left": null
          }
        },
        "1bbbc6fe8cc64b7ca7b982b9daa25439": {
          "model_module": "@jupyter-widgets/controls",
          "model_name": "HBoxModel",
          "model_module_version": "1.5.0",
          "state": {
            "_view_name": "HBoxView",
            "_dom_classes": [],
            "_model_name": "HBoxModel",
            "_view_module": "@jupyter-widgets/controls",
            "_model_module_version": "1.5.0",
            "_view_count": null,
            "_view_module_version": "1.5.0",
            "box_style": "",
            "layout": "IPY_MODEL_6c3bfdcc767f42cd8dbba9b238d46017",
            "_model_module": "@jupyter-widgets/controls",
            "children": [
              "IPY_MODEL_b2ee5515f9b8450dbdd23c5d7b698c57",
              "IPY_MODEL_d680539e251841af86792bda2abd1b23",
              "IPY_MODEL_007ce4486d364c72b79ee2dc1b548707"
            ]
          }
        },
        "6c3bfdcc767f42cd8dbba9b238d46017": {
          "model_module": "@jupyter-widgets/base",
          "model_name": "LayoutModel",
          "model_module_version": "1.2.0",
          "state": {
            "_view_name": "LayoutView",
            "grid_template_rows": null,
            "right": null,
            "justify_content": null,
            "_view_module": "@jupyter-widgets/base",
            "overflow": null,
            "_model_module_version": "1.2.0",
            "_view_count": null,
            "flex_flow": null,
            "width": null,
            "min_width": null,
            "border": null,
            "align_items": null,
            "bottom": null,
            "_model_module": "@jupyter-widgets/base",
            "top": null,
            "grid_column": null,
            "overflow_y": null,
            "overflow_x": null,
            "grid_auto_flow": null,
            "grid_area": null,
            "grid_template_columns": null,
            "flex": null,
            "_model_name": "LayoutModel",
            "justify_items": null,
            "grid_row": null,
            "max_height": null,
            "align_content": null,
            "visibility": null,
            "align_self": null,
            "height": null,
            "min_height": null,
            "padding": null,
            "grid_auto_rows": null,
            "grid_gap": null,
            "max_width": null,
            "order": null,
            "_view_module_version": "1.2.0",
            "grid_template_areas": null,
            "object_position": null,
            "object_fit": null,
            "grid_auto_columns": null,
            "margin": null,
            "display": null,
            "left": null
          }
        },
        "b2ee5515f9b8450dbdd23c5d7b698c57": {
          "model_module": "@jupyter-widgets/controls",
          "model_name": "HTMLModel",
          "model_module_version": "1.5.0",
          "state": {
            "_view_name": "HTMLView",
            "style": "IPY_MODEL_f4a50521c2404a45ba2cc50fb20b29de",
            "_dom_classes": [],
            "description": "",
            "_model_name": "HTMLModel",
            "placeholder": "​",
            "_view_module": "@jupyter-widgets/controls",
            "_model_module_version": "1.5.0",
            "value": "Downloading: 100%",
            "_view_count": null,
            "_view_module_version": "1.5.0",
            "description_tooltip": null,
            "_model_module": "@jupyter-widgets/controls",
            "layout": "IPY_MODEL_27ed8084085a4de2b0a506e0de14f8a3"
          }
        },
        "d680539e251841af86792bda2abd1b23": {
          "model_module": "@jupyter-widgets/controls",
          "model_name": "FloatProgressModel",
          "model_module_version": "1.5.0",
          "state": {
            "_view_name": "ProgressView",
            "style": "IPY_MODEL_8c4f44a419114b3eafb8fc20c54cb448",
            "_dom_classes": [],
            "description": "",
            "_model_name": "FloatProgressModel",
            "bar_style": "success",
            "max": 1272610,
            "_view_module": "@jupyter-widgets/controls",
            "_model_module_version": "1.5.0",
            "value": 1272610,
            "_view_count": null,
            "_view_module_version": "1.5.0",
            "orientation": "horizontal",
            "min": 0,
            "description_tooltip": null,
            "_model_module": "@jupyter-widgets/controls",
            "layout": "IPY_MODEL_f0d90b213ed74261aa78d98b9cbb0717"
          }
        },
        "007ce4486d364c72b79ee2dc1b548707": {
          "model_module": "@jupyter-widgets/controls",
          "model_name": "HTMLModel",
          "model_module_version": "1.5.0",
          "state": {
            "_view_name": "HTMLView",
            "style": "IPY_MODEL_26a3044c8b9a4c849c141b6e0517ddf1",
            "_dom_classes": [],
            "description": "",
            "_model_name": "HTMLModel",
            "placeholder": "​",
            "_view_module": "@jupyter-widgets/controls",
            "_model_module_version": "1.5.0",
            "value": " 1.21M/1.21M [00:00&lt;00:00, 6.68MB/s]",
            "_view_count": null,
            "_view_module_version": "1.5.0",
            "description_tooltip": null,
            "_model_module": "@jupyter-widgets/controls",
            "layout": "IPY_MODEL_54b8686076474d109f2203a4065b8ca9"
          }
        },
        "f4a50521c2404a45ba2cc50fb20b29de": {
          "model_module": "@jupyter-widgets/controls",
          "model_name": "DescriptionStyleModel",
          "model_module_version": "1.5.0",
          "state": {
            "_view_name": "StyleView",
            "_model_name": "DescriptionStyleModel",
            "description_width": "",
            "_view_module": "@jupyter-widgets/base",
            "_model_module_version": "1.5.0",
            "_view_count": null,
            "_view_module_version": "1.2.0",
            "_model_module": "@jupyter-widgets/controls"
          }
        },
        "27ed8084085a4de2b0a506e0de14f8a3": {
          "model_module": "@jupyter-widgets/base",
          "model_name": "LayoutModel",
          "model_module_version": "1.2.0",
          "state": {
            "_view_name": "LayoutView",
            "grid_template_rows": null,
            "right": null,
            "justify_content": null,
            "_view_module": "@jupyter-widgets/base",
            "overflow": null,
            "_model_module_version": "1.2.0",
            "_view_count": null,
            "flex_flow": null,
            "width": null,
            "min_width": null,
            "border": null,
            "align_items": null,
            "bottom": null,
            "_model_module": "@jupyter-widgets/base",
            "top": null,
            "grid_column": null,
            "overflow_y": null,
            "overflow_x": null,
            "grid_auto_flow": null,
            "grid_area": null,
            "grid_template_columns": null,
            "flex": null,
            "_model_name": "LayoutModel",
            "justify_items": null,
            "grid_row": null,
            "max_height": null,
            "align_content": null,
            "visibility": null,
            "align_self": null,
            "height": null,
            "min_height": null,
            "padding": null,
            "grid_auto_rows": null,
            "grid_gap": null,
            "max_width": null,
            "order": null,
            "_view_module_version": "1.2.0",
            "grid_template_areas": null,
            "object_position": null,
            "object_fit": null,
            "grid_auto_columns": null,
            "margin": null,
            "display": null,
            "left": null
          }
        },
        "8c4f44a419114b3eafb8fc20c54cb448": {
          "model_module": "@jupyter-widgets/controls",
          "model_name": "ProgressStyleModel",
          "model_module_version": "1.5.0",
          "state": {
            "_view_name": "StyleView",
            "_model_name": "ProgressStyleModel",
            "description_width": "",
            "_view_module": "@jupyter-widgets/base",
            "_model_module_version": "1.5.0",
            "_view_count": null,
            "_view_module_version": "1.2.0",
            "bar_color": null,
            "_model_module": "@jupyter-widgets/controls"
          }
        },
        "f0d90b213ed74261aa78d98b9cbb0717": {
          "model_module": "@jupyter-widgets/base",
          "model_name": "LayoutModel",
          "model_module_version": "1.2.0",
          "state": {
            "_view_name": "LayoutView",
            "grid_template_rows": null,
            "right": null,
            "justify_content": null,
            "_view_module": "@jupyter-widgets/base",
            "overflow": null,
            "_model_module_version": "1.2.0",
            "_view_count": null,
            "flex_flow": null,
            "width": null,
            "min_width": null,
            "border": null,
            "align_items": null,
            "bottom": null,
            "_model_module": "@jupyter-widgets/base",
            "top": null,
            "grid_column": null,
            "overflow_y": null,
            "overflow_x": null,
            "grid_auto_flow": null,
            "grid_area": null,
            "grid_template_columns": null,
            "flex": null,
            "_model_name": "LayoutModel",
            "justify_items": null,
            "grid_row": null,
            "max_height": null,
            "align_content": null,
            "visibility": null,
            "align_self": null,
            "height": null,
            "min_height": null,
            "padding": null,
            "grid_auto_rows": null,
            "grid_gap": null,
            "max_width": null,
            "order": null,
            "_view_module_version": "1.2.0",
            "grid_template_areas": null,
            "object_position": null,
            "object_fit": null,
            "grid_auto_columns": null,
            "margin": null,
            "display": null,
            "left": null
          }
        },
        "26a3044c8b9a4c849c141b6e0517ddf1": {
          "model_module": "@jupyter-widgets/controls",
          "model_name": "DescriptionStyleModel",
          "model_module_version": "1.5.0",
          "state": {
            "_view_name": "StyleView",
            "_model_name": "DescriptionStyleModel",
            "description_width": "",
            "_view_module": "@jupyter-widgets/base",
            "_model_module_version": "1.5.0",
            "_view_count": null,
            "_view_module_version": "1.2.0",
            "_model_module": "@jupyter-widgets/controls"
          }
        },
        "54b8686076474d109f2203a4065b8ca9": {
          "model_module": "@jupyter-widgets/base",
          "model_name": "LayoutModel",
          "model_module_version": "1.2.0",
          "state": {
            "_view_name": "LayoutView",
            "grid_template_rows": null,
            "right": null,
            "justify_content": null,
            "_view_module": "@jupyter-widgets/base",
            "overflow": null,
            "_model_module_version": "1.2.0",
            "_view_count": null,
            "flex_flow": null,
            "width": null,
            "min_width": null,
            "border": null,
            "align_items": null,
            "bottom": null,
            "_model_module": "@jupyter-widgets/base",
            "top": null,
            "grid_column": null,
            "overflow_y": null,
            "overflow_x": null,
            "grid_auto_flow": null,
            "grid_area": null,
            "grid_template_columns": null,
            "flex": null,
            "_model_name": "LayoutModel",
            "justify_items": null,
            "grid_row": null,
            "max_height": null,
            "align_content": null,
            "visibility": null,
            "align_self": null,
            "height": null,
            "min_height": null,
            "padding": null,
            "grid_auto_rows": null,
            "grid_gap": null,
            "max_width": null,
            "order": null,
            "_view_module_version": "1.2.0",
            "grid_template_areas": null,
            "object_position": null,
            "object_fit": null,
            "grid_auto_columns": null,
            "margin": null,
            "display": null,
            "left": null
          }
        }
      }
    }
  },
  "cells": [
    {
      "cell_type": "markdown",
      "metadata": {
        "id": "f82_31K7dzqG"
      },
      "source": [
        "# 8번\n",
        "![image.png](data:image/png;base64,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)\n",
        "\n",
        "![image.png](data:image/png;base64,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)"
      ]
    },
    {
      "cell_type": "code",
      "metadata": {
        "id": "MaYwedvZfsmR"
      },
      "source": [
        "import numpy as np\n",
        "import tensorflow as tf\n",
        "from tensorflow import keras"
      ],
      "execution_count": 1,
      "outputs": []
    },
    {
      "cell_type": "code",
      "metadata": {
        "id": "jqXz-xf7RRkL"
      },
      "source": [
        "default_reber_grammar = [\n",
        "    [(\"B\", 1)],           # (state 0) =B=>(state 1)\n",
        "    [(\"T\", 2), (\"P\", 3)], # (state 1) =T=>(state 2) or =P=>(state 3)\n",
        "    [(\"S\", 2), (\"X\", 4)], # (state 2) =S=>(state 2) or =X=>(state 4)\n",
        "    [(\"T\", 3), (\"V\", 5)], # and so on...\n",
        "    [(\"X\", 3), (\"S\", 6)],\n",
        "    [(\"P\", 4), (\"V\", 6)],\n",
        "    [(\"E\", None)]]        # (state 6) =E=>(terminal state)\n",
        "\n",
        "embedded_reber_grammar = [\n",
        "    [(\"B\", 1)],\n",
        "    [(\"T\", 2), (\"P\", 3)],\n",
        "    [(default_reber_grammar, 4)],\n",
        "    [(default_reber_grammar, 5)],\n",
        "    [(\"T\", 6)],\n",
        "    [(\"P\", 6)],\n",
        "    [(\"E\", None)]]\n",
        "\n",
        "#reber grammar 생성 함수\n",
        "def generate_string(grammar):\n",
        "    state = 0\n",
        "    output = [] \n",
        "    while state is not None:\n",
        "        index = np.random.randint(len(grammar[state]))\n",
        "        production, state = grammar[state][index]\n",
        "        if isinstance(production, list):\n",
        "            production = generate_string(grammar=production)\n",
        "        output.append(production)\n",
        "    return \"\".join(output)"
      ],
      "execution_count": 2,
      "outputs": []
    },
    {
      "cell_type": "code",
      "metadata": {
        "colab": {
          "base_uri": "https://localhost:8080/"
        },
        "id": "--vyPu_udzBL",
        "outputId": "3cc2e6af-7340-4c5d-b56b-57854828115a"
      },
      "source": [
        "np.random.seed(42)\n",
        "\n",
        "#reber grammar를 따르는 25개의 단어 생성\n",
        "for _ in range(25):\n",
        "    print(generate_string(default_reber_grammar), end=\" \")"
      ],
      "execution_count": 3,
      "outputs": [
        {
          "output_type": "stream",
          "name": "stdout",
          "text": [
            "BTXXTTVPXTVPXTTVPSE BPVPSE BTXSE BPVVE BPVVE BTSXSE BPTVPXTTTVVE BPVVE BTXSE BTXXVPSE BPTTTTTTTTVVE BTXSE BPVPSE BTXSE BPTVPSE BTXXTVPSE BPVVE BPVVE BPVVE BPTTVVE BPVVE BPVVE BTXXVVE BTXXVVE BTXXVPXVVE "
          ]
        }
      ]
    },
    {
      "cell_type": "code",
      "metadata": {
        "colab": {
          "base_uri": "https://localhost:8080/"
        },
        "id": "I2BMIggDgpIq",
        "outputId": "4b73e599-ed75-4ce1-8a73-82d27b2040d7"
      },
      "source": [
        "np.random.seed(42)\n",
        "\n",
        "#embedded reber grammar를 따르는 25개의 단어 생성\n",
        "for _ in range(25):\n",
        "    print(generate_string(embedded_reber_grammar), end=\" \")"
      ],
      "execution_count": 4,
      "outputs": [
        {
          "output_type": "stream",
          "name": "stdout",
          "text": [
            "BTBPTTTVPXTVPXTTVPSETE BPBPTVPSEPE BPBPVVEPE BPBPVPXVVEPE BPBTXXTTTTVVEPE BPBPVPSEPE BPBTXXVPSEPE BPBTSSSSSSSXSEPE BTBPVVETE BPBTXXVVEPE BPBTXXVPSEPE BTBTXXVVETE BPBPVVEPE BPBPVVEPE BPBTSXSEPE BPBPVVEPE BPBPTVPSEPE BPBTXXVVEPE BTBPTVPXVVETE BTBPVVETE BTBTSSSSSSSXXVVETE BPBTSSSXXTTTTVPSEPE BTBPTTVVETE BPBTXXTVVEPE BTBTXSETE "
          ]
        }
      ]
    },
    {
      "cell_type": "code",
      "metadata": {
        "id": "mXWYQmwWfrRZ"
      },
      "source": [
        "#reber grammar를 따르지 않는 함수 생성\n",
        "POSSIBLE_CHARS = \"BEPSTVX\" #경로를 나타내는 가능한 알파벳들\n",
        "\n",
        "def generate_corrupted_string(grammar, chars=POSSIBLE_CHARS):\n",
        "    good_string = generate_string(grammar) \n",
        "    index = np.random.randint(len(good_string))\n",
        "    good_char = good_string[index]\n",
        "    bad_char = np.random.choice(sorted(set(chars) - set(good_char)))\n",
        "    return good_string[:index] + bad_char + good_string[index + 1:]"
      ],
      "execution_count": 5,
      "outputs": []
    },
    {
      "cell_type": "code",
      "metadata": {
        "colab": {
          "base_uri": "https://localhost:8080/"
        },
        "id": "03hDunkMgLPM",
        "outputId": "55330e8e-11fb-4bc5-b8bd-d72f17428fac"
      },
      "source": [
        "np.random.seed(42)\n",
        "\n",
        "#reber grammar를 따르지 않는 단어 25개 생성\n",
        "for _ in range(25):\n",
        "    print(generate_corrupted_string(embedded_reber_grammar), end=\" \")"
      ],
      "execution_count": 6,
      "outputs": [
        {
          "output_type": "stream",
          "name": "stdout",
          "text": [
            "BTBPTTTPPXTVPXTTVPSETE BPBTXEEPE BPBPTVVVEPE BPBTSSSSXSETE BPTTXSEPE BTBPVPXTTTTTTEVETE BPBTXXSVEPE BSBPTTVPSETE BPBXVVEPE BEBTXSETE BPBPVPSXPE BTBPVVVETE BPBTSXSETE BPBPTTTPTTTTTVPSEPE BTBTXXTTSTVPSETE BBBTXSETE BPBTPXSEPE BPBPVPXTTTTVPXTVPXVPXTTTVVEVE BTBXXXTVPSETE BEBTSSSSSXXVPXTVVETE BTBXTTVVETE BPBTXSTPE BTBTXXTTTVPSBTE BTBTXSETX BTBTSXSSTE "
          ]
        }
      ]
    },
    {
      "cell_type": "markdown",
      "metadata": {
        "id": "-YjdO5kdhdFB"
      },
      "source": [
        "### RNN에 입력하기 위해 단어들을 임베딩으로 바꾸기"
      ]
    },
    {
      "cell_type": "code",
      "metadata": {
        "id": "uJhx2eIxgyAG"
      },
      "source": [
        "#POSSIBLE_CHARS의 순서에 따라 ID부여하는 함수\n",
        "def string_to_ids(s, chars=POSSIBLE_CHARS):\n",
        "    return [chars.index(c) for c in s]"
      ],
      "execution_count": 7,
      "outputs": []
    },
    {
      "cell_type": "code",
      "metadata": {
        "colab": {
          "base_uri": "https://localhost:8080/"
        },
        "id": "Z9dHUQKqhEUi",
        "outputId": "e45c6707-54f5-49d9-e1f4-bfbe7afa6efa"
      },
      "source": [
        "string_to_ids(\"BTTTXXVVETE\")"
      ],
      "execution_count": 8,
      "outputs": [
        {
          "output_type": "execute_result",
          "data": {
            "text/plain": [
              "[0, 4, 4, 4, 6, 6, 5, 5, 1, 4, 1]"
            ]
          },
          "metadata": {},
          "execution_count": 8
        }
      ]
    },
    {
      "cell_type": "code",
      "metadata": {
        "id": "qJGRQ0hRhq4e"
      },
      "source": [
        "#50%는 good strings, 50%는 bad strings를 나타내는 데이터셋 생성 함수\n",
        "def generate_dataset(size):\n",
        "    good_strings = [string_to_ids(generate_string(embedded_reber_grammar))\n",
        "                    for _ in range(size // 2)]\n",
        "    bad_strings = [string_to_ids(generate_corrupted_string(embedded_reber_grammar))\n",
        "                   for _ in range(size - size // 2)]\n",
        "    all_strings = good_strings + bad_strings\n",
        "    X = tf.ragged.constant(all_strings, ragged_rank=1)\n",
        "    y = np.array([[1.] for _ in range(len(good_strings))] +\n",
        "                 [[0.] for _ in range(len(bad_strings))])\n",
        "    return X, y"
      ],
      "execution_count": 9,
      "outputs": []
    },
    {
      "cell_type": "code",
      "metadata": {
        "id": "q3RjepBrh3M-"
      },
      "source": [
        "np.random.seed(42)\n",
        "\n",
        "X_train, y_train = generate_dataset(10000)\n",
        "X_valid, y_valid = generate_dataset(2000)"
      ],
      "execution_count": 10,
      "outputs": []
    },
    {
      "cell_type": "code",
      "metadata": {
        "colab": {
          "base_uri": "https://localhost:8080/"
        },
        "id": "kslY5Po8h5BE",
        "outputId": "fd532b0c-f676-4414-d27b-ff508f707e0b"
      },
      "source": [
        "X_train[0]"
      ],
      "execution_count": 11,
      "outputs": [
        {
          "output_type": "execute_result",
          "data": {
            "text/plain": [
              "<tf.Tensor: shape=(22,), dtype=int32, numpy=\n",
              "array([0, 4, 0, 2, 4, 4, 4, 5, 2, 6, 4, 5, 2, 6, 4, 4, 5, 2, 3, 1, 4, 1],\n",
              "      dtype=int32)>"
            ]
          },
          "metadata": {},
          "execution_count": 11
        }
      ]
    },
    {
      "cell_type": "code",
      "metadata": {
        "colab": {
          "base_uri": "https://localhost:8080/"
        },
        "id": "IC1hXRxziA0P",
        "outputId": "8c69d4b0-9542-42f2-a2d1-0ae595089fba"
      },
      "source": [
        "y_train[0]"
      ],
      "execution_count": 12,
      "outputs": [
        {
          "output_type": "execute_result",
          "data": {
            "text/plain": [
              "array([1.])"
            ]
          },
          "metadata": {},
          "execution_count": 12
        }
      ]
    },
    {
      "cell_type": "code",
      "metadata": {
        "colab": {
          "base_uri": "https://localhost:8080/"
        },
        "id": "zmW9t0bViCXI",
        "outputId": "c3bb1676-f75e-4421-a87c-fd8cce199192"
      },
      "source": [
        "np.random.seed(42)\n",
        "tf.random.set_seed(42)\n",
        "\n",
        "embedding_size = 5\n",
        "\n",
        "model = keras.models.Sequential([\n",
        "    keras.layers.InputLayer(input_shape=[None], dtype=tf.int32, ragged=True),\n",
        "    keras.layers.Embedding(input_dim=len(POSSIBLE_CHARS), output_dim=embedding_size),\n",
        "    keras.layers.GRU(30),\n",
        "    keras.layers.Dense(1, activation=\"sigmoid\")\n",
        "])\n",
        "optimizer = keras.optimizers.SGD(learning_rate=0.02, momentum = 0.95, nesterov=True)\n",
        "model.compile(loss=\"binary_crossentropy\", optimizer=optimizer, metrics=[\"accuracy\"])\n",
        "history = model.fit(X_train, y_train, epochs=20, validation_data=(X_valid, y_valid))"
      ],
      "execution_count": 13,
      "outputs": [
        {
          "output_type": "stream",
          "name": "stdout",
          "text": [
            "Epoch 1/20\n"
          ]
        },
        {
          "output_type": "stream",
          "name": "stderr",
          "text": [
            "/usr/local/lib/python3.7/dist-packages/tensorflow/python/framework/indexed_slices.py:450: UserWarning: Converting sparse IndexedSlices(IndexedSlices(indices=Tensor(\"gradient_tape/sequential/gru/RaggedToTensor/boolean_mask_1/GatherV2:0\", shape=(None,), dtype=int32), values=Tensor(\"gradient_tape/sequential/gru/RaggedToTensor/boolean_mask/GatherV2:0\", shape=(None, 5), dtype=float32), dense_shape=Tensor(\"gradient_tape/sequential/gru/RaggedToTensor/Shape:0\", shape=(2,), dtype=int32))) to a dense Tensor of unknown shape. This may consume a large amount of memory.\n",
            "  \"shape. This may consume a large amount of memory.\" % value)\n"
          ]
        },
        {
          "output_type": "stream",
          "name": "stdout",
          "text": [
            "313/313 [==============================] - 42s 123ms/step - loss: 0.6910 - accuracy: 0.5095 - val_loss: 0.6825 - val_accuracy: 0.5645\n",
            "Epoch 2/20\n",
            "313/313 [==============================] - 38s 122ms/step - loss: 0.6678 - accuracy: 0.5659 - val_loss: 0.6635 - val_accuracy: 0.6105\n",
            "Epoch 3/20\n",
            "313/313 [==============================] - 38s 122ms/step - loss: 0.6504 - accuracy: 0.5766 - val_loss: 0.6521 - val_accuracy: 0.6110\n",
            "Epoch 4/20\n",
            "313/313 [==============================] - 36s 116ms/step - loss: 0.6347 - accuracy: 0.5980 - val_loss: 0.6224 - val_accuracy: 0.6445\n",
            "Epoch 5/20\n",
            "313/313 [==============================] - 36s 115ms/step - loss: 0.6054 - accuracy: 0.6361 - val_loss: 0.5779 - val_accuracy: 0.6980\n",
            "Epoch 6/20\n",
            "313/313 [==============================] - 36s 115ms/step - loss: 0.5414 - accuracy: 0.7093 - val_loss: 0.4695 - val_accuracy: 0.7795\n",
            "Epoch 7/20\n",
            "313/313 [==============================] - 36s 115ms/step - loss: 0.3694 - accuracy: 0.8454 - val_loss: 0.3408 - val_accuracy: 0.8550\n",
            "Epoch 8/20\n",
            "313/313 [==============================] - 36s 115ms/step - loss: 0.2475 - accuracy: 0.9098 - val_loss: 0.1168 - val_accuracy: 0.9675\n",
            "Epoch 9/20\n",
            "313/313 [==============================] - 36s 116ms/step - loss: 0.1076 - accuracy: 0.9727 - val_loss: 0.0851 - val_accuracy: 0.9770\n",
            "Epoch 10/20\n",
            "313/313 [==============================] - 37s 119ms/step - loss: 0.1408 - accuracy: 0.9560 - val_loss: 0.0769 - val_accuracy: 0.9825\n",
            "Epoch 11/20\n",
            "313/313 [==============================] - 36s 114ms/step - loss: 0.0989 - accuracy: 0.9691 - val_loss: 0.1148 - val_accuracy: 0.9710\n",
            "Epoch 12/20\n",
            "313/313 [==============================] - 38s 121ms/step - loss: 0.0522 - accuracy: 0.9858 - val_loss: 0.0028 - val_accuracy: 1.0000\n",
            "Epoch 13/20\n",
            "313/313 [==============================] - 38s 120ms/step - loss: 0.0018 - accuracy: 0.9999 - val_loss: 9.3149e-04 - val_accuracy: 1.0000\n",
            "Epoch 14/20\n",
            "313/313 [==============================] - 38s 121ms/step - loss: 7.0268e-04 - accuracy: 1.0000 - val_loss: 5.9854e-04 - val_accuracy: 1.0000\n",
            "Epoch 15/20\n",
            "313/313 [==============================] - 37s 117ms/step - loss: 4.8842e-04 - accuracy: 1.0000 - val_loss: 4.3437e-04 - val_accuracy: 1.0000\n",
            "Epoch 16/20\n",
            "313/313 [==============================] - 36s 114ms/step - loss: 3.7311e-04 - accuracy: 1.0000 - val_loss: 3.5356e-04 - val_accuracy: 1.0000\n",
            "Epoch 17/20\n",
            "313/313 [==============================] - 36s 116ms/step - loss: 3.0762e-04 - accuracy: 1.0000 - val_loss: 2.9983e-04 - val_accuracy: 1.0000\n",
            "Epoch 18/20\n",
            "313/313 [==============================] - 37s 119ms/step - loss: 2.6332e-04 - accuracy: 1.0000 - val_loss: 2.5816e-04 - val_accuracy: 1.0000\n",
            "Epoch 19/20\n",
            "313/313 [==============================] - 38s 123ms/step - loss: 2.3048e-04 - accuracy: 1.0000 - val_loss: 2.2796e-04 - val_accuracy: 1.0000\n",
            "Epoch 20/20\n",
            "313/313 [==============================] - 38s 122ms/step - loss: 2.0491e-04 - accuracy: 1.0000 - val_loss: 2.0441e-04 - val_accuracy: 1.0000\n"
          ]
        }
      ]
    },
    {
      "cell_type": "code",
      "metadata": {
        "colab": {
          "base_uri": "https://localhost:8080/"
        },
        "id": "Gj5CT1qliEUN",
        "outputId": "0d86f870-db5c-4fa2-9c9b-7b9b9fcce32a"
      },
      "source": [
        "test_strings = [\"BPBTSSSSSSSXXTTVPXVPXTTTTTVVETE\", #bad string\n",
        "                \"BPBTSSSSSSSXXTTVPXVPXTTTTTVVEPE\"] #good string\n",
        "X_test = tf.ragged.constant([string_to_ids(s) for s in test_strings], ragged_rank=1)\n",
        "\n",
        "y_proba = model.predict(X_test)\n",
        "print()\n",
        "print(\"Estimated probability that these are Reber strings:\")\n",
        "for index, string in enumerate(test_strings):\n",
        "    print(\"{}: {:.2f}%\".format(string, 100 * y_proba[index][0]))"
      ],
      "execution_count": 14,
      "outputs": [
        {
          "output_type": "stream",
          "name": "stdout",
          "text": [
            "\n",
            "Estimated probability that these are Reber strings:\n",
            "BPBTSSSSSSSXXTTVPXVPXTTTTTVVETE: 0.03%\n",
            "BPBTSSSSSSSXXTTVPXVPXTTTTTVVEPE: 99.95%\n"
          ]
        }
      ]
    },
    {
      "cell_type": "markdown",
      "metadata": {
        "id": "moKShjRJiekp"
      },
      "source": [
        "###9번. 날짜 문자열 포맷을 변환하는 인코더-디코더 모델을 훈련하세요(예를 들어, 'Aprill 22, 2019'에서 '2019-04-22'로 바꿉니다)."
      ]
    },
    {
      "cell_type": "markdown",
      "metadata": {
        "id": "kOJqx3p8rVXg"
      },
      "source": [
        "### 데이터셋 준비"
      ]
    },
    {
      "cell_type": "code",
      "metadata": {
        "id": "oKy5jx4-i27H"
      },
      "source": [
        "from datetime import date\n",
        "\n",
        "# strftime()의 %B format은 설정 지역에 따라 한글, 영어 등 다르게 출력되기 때문에 사용 불가\n",
        "MONTHS = [\"January\", \"February\", \"March\", \"April\", \"May\", \"June\",\n",
        "          \"July\", \"August\", \"September\", \"October\", \"November\", \"December\"]\n",
        "\n",
        "#날짜 random생성\n",
        "def random_dates(n_dates):\n",
        "    min_date = date(1000, 1, 1).toordinal() #1000-01-01부터\n",
        "    max_date = date(9999, 12, 31).toordinal() #9999-12-31까지\n",
        "\n",
        "    ordinals = np.random.randint(max_date - min_date, size=n_dates) + min_date\n",
        "    dates = [date.fromordinal(ordinal) for ordinal in ordinals]\n",
        "\n",
        "    x = [MONTHS[dt.month - 1] + \" \" + dt.strftime(\"%d, %Y\") for dt in dates]\n",
        "    y = [dt.isoformat() for dt in dates]\n",
        "    return x, y"
      ],
      "execution_count": 15,
      "outputs": []
    },
    {
      "cell_type": "code",
      "metadata": {
        "colab": {
          "base_uri": "https://localhost:8080/"
        },
        "id": "uJPITYEHi6Aj",
        "outputId": "415809d6-9075-4afe-eef9-cb451da85ed6"
      },
      "source": [
        "#input format, target format 형태로 random 생성 날짜 출력\n",
        "np.random.seed(42)\n",
        "\n",
        "n_dates = 3\n",
        "x_example, y_example = random_dates(n_dates)\n",
        "print(\"{:25s}{:25s}\".format(\"Input\", \"Target\"))\n",
        "print(\"-\" * 50)\n",
        "for idx in range(n_dates):\n",
        "    print(\"{:25s}{:25s}\".format(x_example[idx], y_example[idx]))"
      ],
      "execution_count": 16,
      "outputs": [
        {
          "output_type": "stream",
          "name": "stdout",
          "text": [
            "Input                    Target                   \n",
            "--------------------------------------------------\n",
            "September 20, 7075       7075-09-20               \n",
            "May 15, 8579             8579-05-15               \n",
            "January 11, 7103         7103-01-11               \n"
          ]
        }
      ]
    },
    {
      "cell_type": "code",
      "metadata": {
        "colab": {
          "base_uri": "https://localhost:8080/",
          "height": 36
        },
        "id": "_NCg0UCzlRz_",
        "outputId": "f7b8e8b4-426b-4e13-f181-9094c433b8b0"
      },
      "source": [
        "#가능한 Input characters 정의\n",
        "INPUT_CHARS = \"\".join(sorted(set(\"\".join(MONTHS) + \"0123456789, \")))\n",
        "INPUT_CHARS"
      ],
      "execution_count": 17,
      "outputs": [
        {
          "output_type": "execute_result",
          "data": {
            "application/vnd.google.colaboratory.intrinsic+json": {
              "type": "string"
            },
            "text/plain": [
              "' ,0123456789ADFJMNOSabceghilmnoprstuvy'"
            ]
          },
          "metadata": {},
          "execution_count": 17
        }
      ]
    },
    {
      "cell_type": "code",
      "metadata": {
        "id": "j1oaQ4Y0lpZ2"
      },
      "source": [
        "#가능한 output characters 정의\n",
        "OUTPUT_CHARS = \"0123456789-\""
      ],
      "execution_count": 18,
      "outputs": []
    },
    {
      "cell_type": "code",
      "metadata": {
        "id": "mInnR5y1lvL5"
      },
      "source": [
        "def date_str_to_ids(date_str, chars=INPUT_CHARS):\n",
        "    return [chars.index(c) for c in date_str]"
      ],
      "execution_count": 19,
      "outputs": []
    },
    {
      "cell_type": "code",
      "metadata": {
        "colab": {
          "base_uri": "https://localhost:8080/"
        },
        "id": "rT4iyqV6l0qr",
        "outputId": "e4b56580-5cd4-4f54-efd2-22dded66e76e"
      },
      "source": [
        "date_str_to_ids(x_example[0], INPUT_CHARS)"
      ],
      "execution_count": 20,
      "outputs": [
        {
          "output_type": "execute_result",
          "data": {
            "text/plain": [
              "[19, 23, 31, 34, 23, 28, 21, 23, 32, 0, 4, 2, 1, 0, 9, 2, 9, 7]"
            ]
          },
          "metadata": {},
          "execution_count": 20
        }
      ]
    },
    {
      "cell_type": "code",
      "metadata": {
        "id": "IACfJfJFsHJu"
      },
      "source": [
        "def prepare_date_strs(date_strs, chars=INPUT_CHARS):\n",
        "    X_ids = [date_str_to_ids(dt, chars) for dt in date_strs]\n",
        "    X = tf.ragged.constant(X_ids, ragged_rank=1)\n",
        "    return (X + 1).to_tensor() # 0을 padding으로 줌\n",
        "\n",
        "def create_dataset(n_dates):\n",
        "    x, y = random_dates(n_dates)\n",
        "    return prepare_date_strs(x, INPUT_CHARS), prepare_date_strs(y, OUTPUT_CHARS)"
      ],
      "execution_count": 22,
      "outputs": []
    },
    {
      "cell_type": "code",
      "metadata": {
        "id": "faiORP96l8ti"
      },
      "source": [
        "np.random.seed(42)\n",
        "\n",
        "X_train, Y_train = create_dataset(10000)\n",
        "X_valid, Y_valid = create_dataset(2000)\n",
        "X_test, Y_test = create_dataset(2000)"
      ],
      "execution_count": 23,
      "outputs": []
    },
    {
      "cell_type": "code",
      "metadata": {
        "colab": {
          "base_uri": "https://localhost:8080/"
        },
        "id": "TlRDdW9rsTyi",
        "outputId": "dea1fcff-389b-4eef-8b04-707ea4573b9c"
      },
      "source": [
        "Y_train[0]"
      ],
      "execution_count": 24,
      "outputs": [
        {
          "output_type": "execute_result",
          "data": {
            "text/plain": [
              "<tf.Tensor: shape=(10,), dtype=int32, numpy=array([ 8,  1,  8,  6, 11,  1, 10, 11,  3,  1], dtype=int32)>"
            ]
          },
          "metadata": {},
          "execution_count": 24
        }
      ]
    },
    {
      "cell_type": "markdown",
      "metadata": {
        "id": "bLt44S0emAiD"
      },
      "source": [
        "### version 1. basic seq2seq\n",
        "\n",
        "* input sequence는 encoder를 통과해서 state vector를 이를 decoder에 넘겨줌 decoder는 vector sequence를 출력."
      ]
    },
    {
      "cell_type": "code",
      "metadata": {
        "colab": {
          "base_uri": "https://localhost:8080/"
        },
        "id": "s7PqK9nWrcSN",
        "outputId": "642ba3bd-3a37-40cf-ef01-02bd6ee45a4e"
      },
      "source": [
        "embedding_size = 32\n",
        "max_output_length = Y_train.shape[1]\n",
        "\n",
        "np.random.seed(42)\n",
        "tf.random.set_seed(42)\n",
        "\n",
        "encoder = keras.models.Sequential([\n",
        "    keras.layers.Embedding(input_dim=len(INPUT_CHARS) + 1, \n",
        "                           output_dim=embedding_size,\n",
        "                           input_shape=[None]),\n",
        "    keras.layers.LSTM(128)\n",
        "])\n",
        "\n",
        "decoder = keras.models.Sequential([\n",
        "    keras.layers.LSTM(128, return_sequences=True),\n",
        "    keras.layers.Dense(len(OUTPUT_CHARS) + 1, activation=\"softmax\") #output layer\n",
        "])\n",
        "\n",
        "model = keras.models.Sequential([\n",
        "    encoder,\n",
        "    keras.layers.RepeatVector(max_output_length), #decoder에 집어넣을 input을 decoder의 max output length만큼 반복\n",
        "    decoder\n",
        "])\n",
        "\n",
        "optimizer = keras.optimizers.Nadam()\n",
        "model.compile(loss=\"sparse_categorical_crossentropy\", optimizer=optimizer,\n",
        "              metrics=[\"accuracy\"])\n",
        "history = model.fit(X_train, Y_train, epochs=20,\n",
        "                    validation_data=(X_valid, Y_valid))"
      ],
      "execution_count": 25,
      "outputs": [
        {
          "output_type": "stream",
          "name": "stdout",
          "text": [
            "Epoch 1/20\n",
            "313/313 [==============================] - 13s 22ms/step - loss: 1.8238 - accuracy: 0.3462 - val_loss: 1.3848 - val_accuracy: 0.4838\n",
            "Epoch 2/20\n",
            "313/313 [==============================] - 6s 18ms/step - loss: 1.2625 - accuracy: 0.5443 - val_loss: 1.1063 - val_accuracy: 0.6016\n",
            "Epoch 3/20\n",
            "313/313 [==============================] - 6s 19ms/step - loss: 0.9661 - accuracy: 0.6515 - val_loss: 0.8811 - val_accuracy: 0.6764\n",
            "Epoch 4/20\n",
            "313/313 [==============================] - 6s 19ms/step - loss: 0.9255 - accuracy: 0.6701 - val_loss: 0.7670 - val_accuracy: 0.7086\n",
            "Epoch 5/20\n",
            "313/313 [==============================] - 6s 18ms/step - loss: 0.7316 - accuracy: 0.7327 - val_loss: 0.5587 - val_accuracy: 0.7833\n",
            "Epoch 6/20\n",
            "313/313 [==============================] - 6s 18ms/step - loss: 0.4973 - accuracy: 0.8120 - val_loss: 0.5523 - val_accuracy: 0.7960\n",
            "Epoch 7/20\n",
            "313/313 [==============================] - 6s 18ms/step - loss: 0.3367 - accuracy: 0.8715 - val_loss: 0.2840 - val_accuracy: 0.8910\n",
            "Epoch 8/20\n",
            "313/313 [==============================] - 6s 18ms/step - loss: 0.2366 - accuracy: 0.9178 - val_loss: 0.1880 - val_accuracy: 0.9409\n",
            "Epoch 9/20\n",
            "313/313 [==============================] - 6s 18ms/step - loss: 0.1461 - accuracy: 0.9597 - val_loss: 0.1078 - val_accuracy: 0.9744\n",
            "Epoch 10/20\n",
            "313/313 [==============================] - 6s 18ms/step - loss: 0.0803 - accuracy: 0.9835 - val_loss: 0.0644 - val_accuracy: 0.9882\n",
            "Epoch 11/20\n",
            "313/313 [==============================] - 6s 18ms/step - loss: 0.0447 - accuracy: 0.9939 - val_loss: 0.0419 - val_accuracy: 0.9937\n",
            "Epoch 12/20\n",
            "313/313 [==============================] - 6s 18ms/step - loss: 0.0263 - accuracy: 0.9973 - val_loss: 0.0223 - val_accuracy: 0.9982\n",
            "Epoch 13/20\n",
            "313/313 [==============================] - 6s 18ms/step - loss: 0.3004 - accuracy: 0.9190 - val_loss: 0.0433 - val_accuracy: 0.9943\n",
            "Epoch 14/20\n",
            "313/313 [==============================] - 6s 19ms/step - loss: 0.0263 - accuracy: 0.9978 - val_loss: 0.0201 - val_accuracy: 0.9987\n",
            "Epoch 15/20\n",
            "313/313 [==============================] - 6s 19ms/step - loss: 0.0143 - accuracy: 0.9993 - val_loss: 0.0128 - val_accuracy: 0.9994\n",
            "Epoch 16/20\n",
            "313/313 [==============================] - 6s 19ms/step - loss: 0.0093 - accuracy: 0.9997 - val_loss: 0.0090 - val_accuracy: 0.9998\n",
            "Epoch 17/20\n",
            "313/313 [==============================] - 6s 19ms/step - loss: 0.0066 - accuracy: 0.9999 - val_loss: 0.0068 - val_accuracy: 0.9999\n",
            "Epoch 18/20\n",
            "313/313 [==============================] - 6s 19ms/step - loss: 0.0049 - accuracy: 1.0000 - val_loss: 0.0050 - val_accuracy: 0.9999\n",
            "Epoch 19/20\n",
            "313/313 [==============================] - 6s 18ms/step - loss: 0.0037 - accuracy: 1.0000 - val_loss: 0.0039 - val_accuracy: 1.0000\n",
            "Epoch 20/20\n",
            "313/313 [==============================] - 6s 19ms/step - loss: 0.0029 - accuracy: 1.0000 - val_loss: 0.0031 - val_accuracy: 1.0000\n"
          ]
        }
      ]
    },
    {
      "cell_type": "code",
      "metadata": {
        "id": "BRqhefbzsDX3"
      },
      "source": [
        "#character ID들을 string으로 변환\n",
        "def ids_to_date_strs(ids, chars=OUTPUT_CHARS):\n",
        "    return [\"\".join([(\"?\" + chars)[index] for index in sequence])\n",
        "            for sequence in ids]"
      ],
      "execution_count": 26,
      "outputs": []
    },
    {
      "cell_type": "code",
      "metadata": {
        "id": "LSbHshepsyi9"
      },
      "source": [
        "X_new = prepare_date_strs([\"September 17, 2009\", \"July 14, 1789\"])"
      ],
      "execution_count": 27,
      "outputs": []
    },
    {
      "cell_type": "code",
      "metadata": {
        "colab": {
          "base_uri": "https://localhost:8080/"
        },
        "id": "uUjipG7iszEB",
        "outputId": "2a7235e3-b421-4e08-9530-c99322207c70"
      },
      "source": [
        "#ids = model.predict_classes(X_new)\n",
        "ids = np.argmax(model.predict(X_new), axis=-1)\n",
        "for date_str in ids_to_date_strs(ids):\n",
        "    print(date_str)"
      ],
      "execution_count": 28,
      "outputs": [
        {
          "output_type": "stream",
          "name": "stdout",
          "text": [
            "2009-09-17\n",
            "1789-07-14\n"
          ]
        }
      ]
    },
    {
      "cell_type": "code",
      "metadata": {
        "colab": {
          "base_uri": "https://localhost:8080/"
        },
        "id": "HjDjSGGAtcZL",
        "outputId": "7ba6a05c-b2cb-4823-af28-8c404e6c56a0"
      },
      "source": [
        "len(\"September 17, 2009\")"
      ],
      "execution_count": 29,
      "outputs": [
        {
          "output_type": "execute_result",
          "data": {
            "text/plain": [
              "18"
            ]
          },
          "metadata": {},
          "execution_count": 29
        }
      ]
    },
    {
      "cell_type": "code",
      "metadata": {
        "id": "Ma79POjnt2Uq"
      },
      "source": [
        "X_new = prepare_date_strs([\"May 02, 2020\", \"July 14, 1789\"])"
      ],
      "execution_count": 30,
      "outputs": []
    },
    {
      "cell_type": "code",
      "metadata": {
        "colab": {
          "base_uri": "https://localhost:8080/"
        },
        "id": "YLwGPsB6uAbF",
        "outputId": "700b6a0d-6b94-42a1-a39b-26011eb76433"
      },
      "source": [
        "#ids = model.predict_classes(X_new)\n",
        "ids = np.argmax(model.predict(X_new), axis=-1)\n",
        "for date_str in ids_to_date_strs(ids):\n",
        "    print(date_str)"
      ],
      "execution_count": 31,
      "outputs": [
        {
          "output_type": "stream",
          "name": "stdout",
          "text": [
            "2020-09-02\n",
            "1789-01-14\n"
          ]
        }
      ]
    },
    {
      "cell_type": "code",
      "metadata": {
        "id": "RnjG3WXxandS"
      },
      "source": [
        "max_input_length = X_train.shape[1]\n",
        "\n",
        "def prepare_date_strs_padded(date_strs):\n",
        "    X = prepare_date_strs(date_strs)\n",
        "    if X.shape[1] < max_input_length:\n",
        "        X = tf.pad(X, [[0, 0], [0, max_input_length - X.shape[1]]])\n",
        "    return X\n",
        "\n",
        "def convert_date_strs(date_strs):\n",
        "    X = prepare_date_strs_padded(date_strs)\n",
        "    #ids = model.predict_classes(X)\n",
        "    ids = np.argmax(model.predict(X), axis=-1)\n",
        "    return ids_to_date_strs(ids)"
      ],
      "execution_count": 45,
      "outputs": []
    },
    {
      "cell_type": "markdown",
      "metadata": {
        "id": "7JvL9ArOCiJl"
      },
      "source": [
        "## version 2. 교사 강요 사용\n",
        "* 교사 강요는 이전 시점의 target을 이번 시점의 input으로 입력하는 방식이다. 이전 시점의 출력인 예측이 잘 못 되었을 경우 이번 시점에 엉뚱한 input이 들어오게 될 것이고 번역이 올바르지 않은 방향으로 흘러갈 것이다. 이를 방지하기 위해서 이번 시점의 input에 이전 시점의 target을 집어넣는다."
      ]
    },
    {
      "cell_type": "code",
      "metadata": {
        "id": "Bs-k6r6sEfE1"
      },
      "source": [
        "#decoder의 input 생성\n",
        "sos_id = len(OUTPUT_CHARS) + 1\n",
        "\n",
        "def shifted_output_sequences(Y):\n",
        "    sos_tokens = tf.fill(dims=(len(Y), 1), value=sos_id)\n",
        "    return tf.concat([sos_tokens, Y[:, :-1]], axis=1)\n",
        "\n",
        "X_train_decoder = shifted_output_sequences(Y_train)\n",
        "X_valid_decoder = shifted_output_sequences(Y_valid)\n",
        "X_test_decoder = shifted_output_sequences(Y_test)"
      ],
      "execution_count": 32,
      "outputs": []
    },
    {
      "cell_type": "code",
      "metadata": {
        "colab": {
          "base_uri": "https://localhost:8080/"
        },
        "id": "iPKxwChcEp99",
        "outputId": "9ea67e18-6146-4430-b2aa-0c02aeb79fcd"
      },
      "source": [
        "#target을 한 칸씩 shift하고 sos가 앞에 삽입된 것을 확인할 수 있음\n",
        "X_train_decoder"
      ],
      "execution_count": 33,
      "outputs": [
        {
          "output_type": "execute_result",
          "data": {
            "text/plain": [
              "<tf.Tensor: shape=(10000, 10), dtype=int32, numpy=\n",
              "array([[12,  8,  1, ..., 10, 11,  3],\n",
              "       [12,  9,  6, ...,  6, 11,  2],\n",
              "       [12,  8,  2, ...,  2, 11,  2],\n",
              "       ...,\n",
              "       [12, 10,  8, ...,  2, 11,  4],\n",
              "       [12,  2,  2, ...,  3, 11,  3],\n",
              "       [12,  8,  9, ...,  8, 11,  3]], dtype=int32)>"
            ]
          },
          "metadata": {},
          "execution_count": 33
        }
      ]
    },
    {
      "cell_type": "code",
      "metadata": {
        "colab": {
          "base_uri": "https://localhost:8080/"
        },
        "id": "W3UsFnGoE37-",
        "outputId": "a227eb7d-612d-41b8-e279-cb485b473976"
      },
      "source": [
        "#10epoch만에 validation accuracy 100%에 도달했음(seq2seq보다 빠름).\n",
        "encoder_embedding_size = 32\n",
        "decoder_embedding_size = 32\n",
        "lstm_units = 128\n",
        "\n",
        "np.random.seed(42)\n",
        "tf.random.set_seed(42)\n",
        "\n",
        "encoder_input = keras.layers.Input(shape=[None], dtype=tf.int32)\n",
        "encoder_embedding = keras.layers.Embedding(\n",
        "    input_dim=len(INPUT_CHARS) + 1,\n",
        "    output_dim=encoder_embedding_size)(encoder_input)\n",
        "_, encoder_state_h, encoder_state_c = keras.layers.LSTM(\n",
        "    lstm_units, return_state=True)(encoder_embedding)\n",
        "encoder_state = [encoder_state_h, encoder_state_c]\n",
        "\n",
        "decoder_input = keras.layers.Input(shape=[None], dtype=tf.int32)\n",
        "decoder_embedding = keras.layers.Embedding(\n",
        "    input_dim=len(OUTPUT_CHARS) + 2,\n",
        "    output_dim=decoder_embedding_size)(decoder_input)\n",
        "decoder_lstm_output = keras.layers.LSTM(lstm_units, return_sequences=True)(\n",
        "    decoder_embedding, initial_state=encoder_state)\n",
        "decoder_output = keras.layers.Dense(len(OUTPUT_CHARS) + 1,\n",
        "                                    activation=\"softmax\")(decoder_lstm_output)\n",
        "\n",
        "model = keras.models.Model(inputs=[encoder_input, decoder_input],\n",
        "                           outputs=[decoder_output])\n",
        "\n",
        "optimizer = keras.optimizers.Nadam()\n",
        "model.compile(loss=\"sparse_categorical_crossentropy\", optimizer=optimizer,\n",
        "              metrics=[\"accuracy\"])\n",
        "history = model.fit([X_train, X_train_decoder], Y_train, epochs=10,\n",
        "                    validation_data=([X_valid, X_valid_decoder], Y_valid))"
      ],
      "execution_count": 34,
      "outputs": [
        {
          "output_type": "stream",
          "name": "stdout",
          "text": [
            "Epoch 1/10\n",
            "313/313 [==============================] - 11s 22ms/step - loss: 1.6803 - accuracy: 0.3743 - val_loss: 1.4172 - val_accuracy: 0.4506\n",
            "Epoch 2/10\n",
            "313/313 [==============================] - 6s 18ms/step - loss: 1.1891 - accuracy: 0.5588 - val_loss: 0.8894 - val_accuracy: 0.6730\n",
            "Epoch 3/10\n",
            "313/313 [==============================] - 6s 18ms/step - loss: 0.6307 - accuracy: 0.7748 - val_loss: 0.4162 - val_accuracy: 0.8539\n",
            "Epoch 4/10\n",
            "313/313 [==============================] - 6s 18ms/step - loss: 0.2116 - accuracy: 0.9476 - val_loss: 0.1125 - val_accuracy: 0.9815\n",
            "Epoch 5/10\n",
            "313/313 [==============================] - 6s 19ms/step - loss: 0.0715 - accuracy: 0.9913 - val_loss: 0.0461 - val_accuracy: 0.9970\n",
            "Epoch 6/10\n",
            "313/313 [==============================] - 6s 19ms/step - loss: 0.0680 - accuracy: 0.9893 - val_loss: 0.0276 - val_accuracy: 0.9990\n",
            "Epoch 7/10\n",
            "313/313 [==============================] - 6s 20ms/step - loss: 0.0178 - accuracy: 0.9997 - val_loss: 0.0147 - val_accuracy: 0.9998\n",
            "Epoch 8/10\n",
            "313/313 [==============================] - 6s 18ms/step - loss: 0.0106 - accuracy: 1.0000 - val_loss: 0.0093 - val_accuracy: 0.9998\n",
            "Epoch 9/10\n",
            "313/313 [==============================] - 6s 18ms/step - loss: 0.0069 - accuracy: 1.0000 - val_loss: 0.0065 - val_accuracy: 0.9999\n",
            "Epoch 10/10\n",
            "313/313 [==============================] - 6s 18ms/step - loss: 0.0529 - accuracy: 0.9892 - val_loss: 0.0208 - val_accuracy: 0.9986\n"
          ]
        }
      ]
    },
    {
      "cell_type": "code",
      "metadata": {
        "id": "vNxPWtT9V4nx"
      },
      "source": [
        "sos_id = len(OUTPUT_CHARS) + 1\n",
        "\n",
        "def predict_date_strs(date_strs):\n",
        "    X = prepare_date_strs_padded(date_strs)\n",
        "    Y_pred = tf.fill(dims=(len(X), 1), value=sos_id)\n",
        "    for index in range(max_output_length):\n",
        "        pad_size = max_output_length - Y_pred.shape[1]\n",
        "        X_decoder = tf.pad(Y_pred, [[0, 0], [0, pad_size]])\n",
        "        Y_probas_next = model.predict([X, X_decoder])[:, index:index+1]\n",
        "        Y_pred_next = tf.argmax(Y_probas_next, axis=-1, output_type=tf.int32)\n",
        "        Y_pred = tf.concat([Y_pred, Y_pred_next], axis=1)\n",
        "    return ids_to_date_strs(Y_pred[:, 1:])"
      ],
      "execution_count": 43,
      "outputs": []
    },
    {
      "cell_type": "code",
      "metadata": {
        "colab": {
          "base_uri": "https://localhost:8080/"
        },
        "id": "M8f7h5tAtv8p",
        "outputId": "e6a68212-85ad-430d-cc4b-d6d2f5274f18"
      },
      "source": [
        "predict_date_strs([\"July 14, 1789\", \"May 01, 2020\"])"
      ],
      "execution_count": null,
      "outputs": [
        {
          "data": {
            "text/plain": [
              "['1789-07-14', '2020-05-01']"
            ]
          },
          "execution_count": null,
          "metadata": {},
          "output_type": "execute_result"
        }
      ]
    },
    {
      "cell_type": "markdown",
      "metadata": {
        "id": "T1qlPEO4Wp9G"
      },
      "source": [
        "### version 3. TF Addons seq2seq API 사용\n"
      ]
    },
    {
      "cell_type": "code",
      "metadata": {
        "colab": {
          "base_uri": "https://localhost:8080/"
        },
        "id": "G5LxOJoKtv8q",
        "outputId": "b5e95063-90f3-4fc0-d985-a4ec57f5ccc5"
      },
      "source": [
        "import tensorflow_addons as tfa\n",
        "\n",
        "np.random.seed(42)\n",
        "tf.random.set_seed(42)\n",
        "\n",
        "encoder_embedding_size = 32\n",
        "decoder_embedding_size = 32\n",
        "units = 128\n",
        "\n",
        "encoder_inputs = keras.layers.Input(shape=[None], dtype=np.int32)\n",
        "decoder_inputs = keras.layers.Input(shape=[None], dtype=np.int32)\n",
        "sequence_lengths = keras.layers.Input(shape=[], dtype=np.int32)\n",
        "\n",
        "encoder_embeddings = keras.layers.Embedding(\n",
        "    len(INPUT_CHARS) + 1, encoder_embedding_size)(encoder_inputs)\n",
        "\n",
        "decoder_embedding_layer = keras.layers.Embedding(\n",
        "    len(OUTPUT_CHARS) + 2, decoder_embedding_size)\n",
        "decoder_embeddings = decoder_embedding_layer(decoder_inputs)\n",
        "\n",
        "encoder = keras.layers.LSTM(units, return_state=True)\n",
        "encoder_outputs, state_h, state_c = encoder(encoder_embeddings)\n",
        "encoder_state = [state_h, state_c]\n",
        "\n",
        "sampler = tfa.seq2seq.sampler.TrainingSampler()\n",
        "\n",
        "decoder_cell = keras.layers.LSTMCell(units)\n",
        "output_layer = keras.layers.Dense(len(OUTPUT_CHARS) + 1)\n",
        "\n",
        "decoder = tfa.seq2seq.basic_decoder.BasicDecoder(decoder_cell,\n",
        "                                                 sampler,\n",
        "                                                 output_layer=output_layer)\n",
        "final_outputs, final_state, final_sequence_lengths = decoder(\n",
        "    decoder_embeddings,\n",
        "    initial_state=encoder_state)\n",
        "Y_proba = keras.layers.Activation(\"softmax\")(final_outputs.rnn_output)\n",
        "\n",
        "model = keras.models.Model(inputs=[encoder_inputs, decoder_inputs],\n",
        "                           outputs=[Y_proba])\n",
        "optimizer = keras.optimizers.Nadam()\n",
        "model.compile(loss=\"sparse_categorical_crossentropy\", optimizer=optimizer,\n",
        "              metrics=[\"accuracy\"])\n",
        "history = model.fit([X_train, X_train_decoder], Y_train, epochs=15,\n",
        "                    validation_data=([X_valid, X_valid_decoder], Y_valid))"
      ],
      "execution_count": null,
      "outputs": [
        {
          "metadata": {
            "tags": null
          },
          "name": "stdout",
          "output_type": "stream",
          "text": [
            "Epoch 1/15\n",
            "313/313 [==============================] - 13s 30ms/step - loss: 1.6778 - accuracy: 0.3657 - val_loss: 1.4651 - val_accuracy: 0.4271\n",
            "Epoch 2/15\n",
            "313/313 [==============================] - 9s 28ms/step - loss: 1.3794 - accuracy: 0.4618 - val_loss: 1.1807 - val_accuracy: 0.5543\n",
            "Epoch 3/15\n",
            "313/313 [==============================] - 9s 28ms/step - loss: 0.9574 - accuracy: 0.6449 - val_loss: 0.6447 - val_accuracy: 0.7751\n",
            "Epoch 4/15\n",
            "313/313 [==============================] - 9s 28ms/step - loss: 0.3974 - accuracy: 0.8755 - val_loss: 0.6728 - val_accuracy: 0.7954\n",
            "Epoch 5/15\n",
            "313/313 [==============================] - 9s 28ms/step - loss: 0.1182 - accuracy: 0.9829 - val_loss: 0.0621 - val_accuracy: 0.9962\n",
            "Epoch 6/15\n",
            "313/313 [==============================] - 9s 28ms/step - loss: 0.0608 - accuracy: 0.9930 - val_loss: 0.0320 - val_accuracy: 0.9988\n",
            "Epoch 7/15\n",
            "313/313 [==============================] - 9s 28ms/step - loss: 0.0219 - accuracy: 0.9997 - val_loss: 0.0177 - val_accuracy: 0.9997\n",
            "Epoch 8/15\n",
            "313/313 [==============================] - 9s 28ms/step - loss: 0.0129 - accuracy: 0.9999 - val_loss: 0.0116 - val_accuracy: 0.9999\n",
            "Epoch 9/15\n",
            "313/313 [==============================] - 9s 28ms/step - loss: 0.0083 - accuracy: 1.0000 - val_loss: 0.0077 - val_accuracy: 0.9999\n",
            "Epoch 10/15\n",
            "313/313 [==============================] - 9s 28ms/step - loss: 0.0544 - accuracy: 0.9894 - val_loss: 0.0106 - val_accuracy: 0.9999\n",
            "Epoch 11/15\n",
            "313/313 [==============================] - 9s 28ms/step - loss: 0.0064 - accuracy: 1.0000 - val_loss: 0.0052 - val_accuracy: 1.0000\n",
            "Epoch 12/15\n",
            "313/313 [==============================] - 9s 28ms/step - loss: 0.0040 - accuracy: 1.0000 - val_loss: 0.0037 - val_accuracy: 1.0000\n",
            "Epoch 13/15\n",
            "313/313 [==============================] - 9s 28ms/step - loss: 0.0029 - accuracy: 1.0000 - val_loss: 0.0029 - val_accuracy: 1.0000\n",
            "Epoch 14/15\n",
            "313/313 [==============================] - 9s 28ms/step - loss: 0.0023 - accuracy: 1.0000 - val_loss: 0.0023 - val_accuracy: 1.0000\n",
            "Epoch 15/15\n",
            "313/313 [==============================] - 9s 28ms/step - loss: 0.0018 - accuracy: 1.0000 - val_loss: 0.0018 - val_accuracy: 1.0000\n"
          ]
        }
      ]
    },
    {
      "cell_type": "code",
      "metadata": {
        "colab": {
          "base_uri": "https://localhost:8080/"
        },
        "scrolled": true,
        "id": "eN3WIZlZStm4",
        "outputId": "7a150fd5-a38f-491e-fd34-33964ad787df"
      },
      "source": [
        "predict_date_strs([\"July 14, 1789\", \"May 01, 2020\"])"
      ],
      "execution_count": null,
      "outputs": [
        {
          "data": {
            "text/plain": [
              "['1789-07-14', '2020-05-01']"
            ]
          },
          "execution_count": null,
          "metadata": {},
          "output_type": "execute_result"
        }
      ]
    },
    {
      "cell_type": "markdown",
      "metadata": {
        "id": "iSwyP5HAY0Pj"
      },
      "source": [
        "Training Sampler 대신 GreedyEmbeddingSampler를 사용하면 예측을 하기 위해 디코더를 한 번만 작동시키게 되므로 훨씬 효율적으로 추론이 가능하다."
      ]
    },
    {
      "cell_type": "code",
      "metadata": {
        "id": "S6kUE40iYfEk"
      },
      "source": [
        "#inference model 정의\n",
        "inference_sampler = tfa.seq2seq.sampler.GreedyEmbeddingSampler(\n",
        "    embedding_fn=decoder_embedding_layer)\n",
        "inference_decoder = tfa.seq2seq.basic_decoder.BasicDecoder(\n",
        "    decoder_cell, inference_sampler, output_layer=output_layer,\n",
        "    maximum_iterations=max_output_length)\n",
        "batch_size = tf.shape(encoder_inputs)[:1]\n",
        "start_tokens = tf.fill(dims=batch_size, value=sos_id)\n",
        "final_outputs, final_state, final_sequence_lengths = inference_decoder(\n",
        "    start_tokens,\n",
        "    initial_state=encoder_state,\n",
        "    start_tokens=start_tokens,\n",
        "    end_token=0)\n",
        "\n",
        "inference_model = keras.models.Model(inputs=[encoder_inputs],\n",
        "                                     outputs=[final_outputs.sample_id])"
      ],
      "execution_count": null,
      "outputs": []
    },
    {
      "cell_type": "code",
      "metadata": {
        "id": "WLWoDQ8Otv8q"
      },
      "source": [
        "def fast_predict_date_strs(date_strs):\n",
        "    X = prepare_date_strs_padded(date_strs)\n",
        "    Y_pred = inference_model.predict(X)\n",
        "    return ids_to_date_strs(Y_pred)"
      ],
      "execution_count": null,
      "outputs": []
    },
    {
      "cell_type": "code",
      "metadata": {
        "colab": {
          "base_uri": "https://localhost:8080/"
        },
        "id": "-0I01yt3tv8r",
        "scrolled": true,
        "outputId": "bba1ca75-5f84-458b-b61c-d18ca5a453ea"
      },
      "source": [
        "fast_predict_date_strs([\"July 14, 1789\", \"May 01, 2020\"])"
      ],
      "execution_count": null,
      "outputs": [
        {
          "data": {
            "text/plain": [
              "['1789-07-14', '2020-05-01']"
            ]
          },
          "execution_count": null,
          "metadata": {},
          "output_type": "execute_result"
        }
      ]
    },
    {
      "cell_type": "code",
      "metadata": {
        "colab": {
          "base_uri": "https://localhost:8080/"
        },
        "id": "0Nlchxkstv8r",
        "outputId": "2664a6ed-6f31-467e-9a18-bc8f7ade1e84"
      },
      "source": [
        "%timeit predict_date_strs([\"July 14, 1789\", \"May 01, 2020\"])"
      ],
      "execution_count": null,
      "outputs": [
        {
          "metadata": {
            "tags": null
          },
          "name": "stdout",
          "output_type": "stream",
          "text": [
            "1 loop, best of 5: 383 ms per loop\n"
          ]
        }
      ]
    },
    {
      "cell_type": "code",
      "metadata": {
        "colab": {
          "base_uri": "https://localhost:8080/"
        },
        "id": "lbT1GWBgtv8r",
        "outputId": "15281fcb-57a3-41b5-a734-a6a8e21db6fc"
      },
      "source": [
        "#GreedyEmbeddingSampler가 10배 정도 더 빠르다.\n",
        "%timeit fast_predict_date_strs([\"July 14, 1789\", \"May 01, 2020\"])"
      ],
      "execution_count": null,
      "outputs": [
        {
          "metadata": {
            "tags": null
          },
          "name": "stdout",
          "output_type": "stream",
          "text": [
            "10 loops, best of 5: 38.4 ms per loop\n"
          ]
        }
      ]
    },
    {
      "cell_type": "markdown",
      "metadata": {
        "id": "7UmjHFU2h4BI"
      },
      "source": [
        "### version4. TF-Addons seq2seq ScheduledEmbeddingSampler사용\n",
        "\n"
      ]
    },
    {
      "cell_type": "code",
      "metadata": {
        "colab": {
          "base_uri": "https://localhost:8080/"
        },
        "id": "gK8OEbpFtv8r",
        "outputId": "f0a8fbdc-024b-42e0-f0d8-b9a0cca2c91d"
      },
      "source": [
        "import tensorflow_addons as tfa\n",
        "\n",
        "np.random.seed(42)\n",
        "tf.random.set_seed(42)\n",
        "\n",
        "n_epochs = 20\n",
        "encoder_embedding_size = 32\n",
        "decoder_embedding_size = 32\n",
        "units = 128\n",
        "\n",
        "encoder_inputs = keras.layers.Input(shape=[None], dtype=np.int32)\n",
        "decoder_inputs = keras.layers.Input(shape=[None], dtype=np.int32)\n",
        "sequence_lengths = keras.layers.Input(shape=[], dtype=np.int32)\n",
        "\n",
        "encoder_embeddings = keras.layers.Embedding(\n",
        "    len(INPUT_CHARS) + 1, encoder_embedding_size)(encoder_inputs)\n",
        "\n",
        "decoder_embedding_layer = keras.layers.Embedding(\n",
        "    len(OUTPUT_CHARS) + 2, decoder_embedding_size)\n",
        "decoder_embeddings = decoder_embedding_layer(decoder_inputs)\n",
        "\n",
        "encoder = keras.layers.LSTM(units, return_state=True)\n",
        "encoder_outputs, state_h, state_c = encoder(encoder_embeddings)\n",
        "encoder_state = [state_h, state_c]\n",
        "\n",
        "sampler = tfa.seq2seq.sampler.ScheduledEmbeddingTrainingSampler(\n",
        "    sampling_probability=0.,\n",
        "    embedding_fn=decoder_embedding_layer)\n",
        "# we must set the sampling_probability after creating the sampler\n",
        "# (see https://github.com/tensorflow/addons/pull/1714)\n",
        "sampler.sampling_probability = tf.Variable(0.)\n",
        "\n",
        "decoder_cell = keras.layers.LSTMCell(units)\n",
        "output_layer = keras.layers.Dense(len(OUTPUT_CHARS) + 1)\n",
        "\n",
        "decoder = tfa.seq2seq.basic_decoder.BasicDecoder(decoder_cell,\n",
        "                                                 sampler,\n",
        "                                                 output_layer=output_layer)\n",
        "final_outputs, final_state, final_sequence_lengths = decoder(\n",
        "    decoder_embeddings,\n",
        "    initial_state=encoder_state)\n",
        "Y_proba = keras.layers.Activation(\"softmax\")(final_outputs.rnn_output)\n",
        "\n",
        "model = keras.models.Model(inputs=[encoder_inputs, decoder_inputs],\n",
        "                           outputs=[Y_proba])\n",
        "optimizer = keras.optimizers.Nadam()\n",
        "model.compile(loss=\"sparse_categorical_crossentropy\", optimizer=optimizer,\n",
        "              metrics=[\"accuracy\"])\n",
        "\n",
        "def update_sampling_probability(epoch, logs):\n",
        "    proba = min(1.0, epoch / (n_epochs - 10))\n",
        "    sampler.sampling_probability.assign(proba)\n",
        "\n",
        "sampling_probability_cb = keras.callbacks.LambdaCallback(\n",
        "    on_epoch_begin=update_sampling_probability)\n",
        "history = model.fit([X_train, X_train_decoder], Y_train, epochs=n_epochs,\n",
        "                    validation_data=([X_valid, X_valid_decoder], Y_valid),\n",
        "                    callbacks=[sampling_probability_cb])"
      ],
      "execution_count": null,
      "outputs": [
        {
          "metadata": {
            "tags": null
          },
          "name": "stdout",
          "output_type": "stream",
          "text": [
            "Epoch 1/20\n"
          ]
        },
        {
          "metadata": {
            "tags": null
          },
          "name": "stderr",
          "output_type": "stream",
          "text": [
            "/usr/local/lib/python3.7/dist-packages/tensorflow/python/framework/indexed_slices.py:449: UserWarning: Converting sparse IndexedSlices(IndexedSlices(indices=Tensor(\"gradient_tape/model_5/basic_decoder_3/decoder/while/gradients/model_5/basic_decoder_3/decoder/while/cond_1_grad/Identity_4:0\", shape=(None,), dtype=int32), values=Tensor(\"gradient_tape/model_5/basic_decoder_3/decoder/while/gradients/model_5/basic_decoder_3/decoder/while/cond_1_grad/Identity_3:0\", shape=(None, 32), dtype=float32), dense_shape=Tensor(\"gradient_tape/model_5/basic_decoder_3/decoder/while/gradients/model_5/basic_decoder_3/decoder/while/cond_1_grad/Identity_5:0\", shape=(2,), dtype=int32))) to a dense Tensor of unknown shape. This may consume a large amount of memory.\n",
            "  \"shape. This may consume a large amount of memory.\" % value)\n",
            "/usr/local/lib/python3.7/dist-packages/tensorflow/python/framework/indexed_slices.py:449: UserWarning: Converting sparse IndexedSlices(IndexedSlices(indices=Tensor(\"gradient_tape/model_5/basic_decoder_3/decoder/while/gradients/model_5/basic_decoder_3/decoder/while/cond_grad/gradients/grad_ys_0_indices:0\", shape=(None,), dtype=int32), values=Tensor(\"gradient_tape/model_5/basic_decoder_3/decoder/while/gradients/model_5/basic_decoder_3/decoder/while/cond_grad/gradients/grad_ys_0_values:0\", shape=(None, 32), dtype=float32), dense_shape=Tensor(\"gradient_tape/model_5/basic_decoder_3/decoder/while/gradients/model_5/basic_decoder_3/decoder/while/cond_grad/gradients/grad_ys_0_shape:0\", shape=(2,), dtype=int32))) to a dense Tensor of unknown shape. This may consume a large amount of memory.\n",
            "  \"shape. This may consume a large amount of memory.\" % value)\n",
            "/usr/local/lib/python3.7/dist-packages/tensorflow/python/framework/indexed_slices.py:449: UserWarning: Converting sparse IndexedSlices(IndexedSlices(indices=Tensor(\"gradient_tape/model_5/basic_decoder_3/decoder/while/gradients/model_5/basic_decoder_3/decoder/while/cond_grad/Identity_1:0\", shape=(None,), dtype=int32), values=Tensor(\"gradient_tape/model_5/basic_decoder_3/decoder/while/gradients/model_5/basic_decoder_3/decoder/while/cond_grad/Identity:0\", shape=(None, 32), dtype=float32), dense_shape=Tensor(\"gradient_tape/model_5/basic_decoder_3/decoder/while/gradients/model_5/basic_decoder_3/decoder/while/cond_grad/Identity_2:0\", shape=(2,), dtype=int32))) to a dense Tensor of unknown shape. This may consume a large amount of memory.\n",
            "  \"shape. This may consume a large amount of memory.\" % value)\n"
          ]
        },
        {
          "metadata": {
            "tags": null
          },
          "name": "stdout",
          "output_type": "stream",
          "text": [
            "313/313 [==============================] - 17s 42ms/step - loss: 1.6779 - accuracy: 0.3658 - val_loss: 1.4628 - val_accuracy: 0.4332\n",
            "Epoch 2/20\n",
            "313/313 [==============================] - 13s 41ms/step - loss: 1.4142 - accuracy: 0.4476 - val_loss: 1.3384 - val_accuracy: 0.4717\n",
            "Epoch 3/20\n",
            "313/313 [==============================] - 13s 41ms/step - loss: 1.1022 - accuracy: 0.5820 - val_loss: 0.8807 - val_accuracy: 0.6834\n",
            "Epoch 4/20\n",
            "313/313 [==============================] - 13s 42ms/step - loss: 0.6877 - accuracy: 0.7457 - val_loss: 0.4740 - val_accuracy: 0.8270\n",
            "Epoch 5/20\n",
            "313/313 [==============================] - 13s 41ms/step - loss: 0.3614 - accuracy: 0.8761 - val_loss: 0.2645 - val_accuracy: 0.9165\n",
            "Epoch 6/20\n",
            "313/313 [==============================] - 13s 41ms/step - loss: 0.2485 - accuracy: 0.9265 - val_loss: 0.1711 - val_accuracy: 0.9531\n",
            "Epoch 7/20\n",
            "313/313 [==============================] - 13s 41ms/step - loss: 0.1698 - accuracy: 0.9549 - val_loss: 0.1240 - val_accuracy: 0.9680\n",
            "Epoch 8/20\n",
            "313/313 [==============================] - 13s 41ms/step - loss: 0.0876 - accuracy: 0.9795 - val_loss: 0.0648 - val_accuracy: 0.9867\n",
            "Epoch 9/20\n",
            "313/313 [==============================] - 13s 41ms/step - loss: 0.0582 - accuracy: 0.9883 - val_loss: 0.0427 - val_accuracy: 0.9918\n",
            "Epoch 10/20\n",
            "313/313 [==============================] - 13s 42ms/step - loss: 0.0326 - accuracy: 0.9941 - val_loss: 0.0275 - val_accuracy: 0.9958\n",
            "Epoch 11/20\n",
            "313/313 [==============================] - 13s 41ms/step - loss: 0.0207 - accuracy: 0.9970 - val_loss: 0.0204 - val_accuracy: 0.9967\n",
            "Epoch 12/20\n",
            "313/313 [==============================] - 13s 40ms/step - loss: 0.0140 - accuracy: 0.9982 - val_loss: 0.0138 - val_accuracy: 0.9981\n",
            "Epoch 13/20\n",
            "313/313 [==============================] - 13s 41ms/step - loss: 0.1035 - accuracy: 0.9782 - val_loss: 0.0370 - val_accuracy: 0.9951\n",
            "Epoch 14/20\n",
            "313/313 [==============================] - 12s 40ms/step - loss: 0.0167 - accuracy: 0.9981 - val_loss: 0.0115 - val_accuracy: 0.9987\n",
            "Epoch 15/20\n",
            "313/313 [==============================] - 12s 40ms/step - loss: 0.0083 - accuracy: 0.9992 - val_loss: 0.0076 - val_accuracy: 0.9992\n",
            "Epoch 16/20\n",
            "313/313 [==============================] - 13s 41ms/step - loss: 0.0056 - accuracy: 0.9995 - val_loss: 0.0054 - val_accuracy: 0.9996\n",
            "Epoch 17/20\n",
            "313/313 [==============================] - 13s 41ms/step - loss: 0.0043 - accuracy: 0.9996 - val_loss: 0.0041 - val_accuracy: 0.9997\n",
            "Epoch 18/20\n",
            "313/313 [==============================] - 13s 41ms/step - loss: 0.0029 - accuracy: 0.9998 - val_loss: 0.0034 - val_accuracy: 0.9995\n",
            "Epoch 19/20\n",
            "313/313 [==============================] - 13s 41ms/step - loss: 0.0024 - accuracy: 0.9998 - val_loss: 0.0023 - val_accuracy: 0.9999\n",
            "Epoch 20/20\n",
            "313/313 [==============================] - 13s 41ms/step - loss: 0.0033 - accuracy: 0.9995 - val_loss: 0.0026 - val_accuracy: 0.9998\n"
          ]
        }
      ]
    },
    {
      "cell_type": "markdown",
      "metadata": {
        "id": "EHXV1xVcTpdL"
      },
      "source": [
        "이 번엔 SampleEmbeddedSampler를 사용할 것이다. 모델의 output의 argmax를 통해 prediction을 하는게 아닌, output들을 logit으로 취급하고 토큰 ID를 random으로 sample한다. 셰익스피어와 같은 문장 만드는 법에서와 같이 문장을 생성할 떄 유용하다."
      ]
    },
    {
      "cell_type": "code",
      "metadata": {
        "id": "ukMkUcXciV5M"
      },
      "source": [
        "softmax_temperature = tf.Variable(1.)\n",
        "\n",
        "inference_sampler = tfa.seq2seq.sampler.SampleEmbeddingSampler(\n",
        "    embedding_fn=decoder_embedding_layer,\n",
        "    softmax_temperature=softmax_temperature)\n",
        "inference_decoder = tfa.seq2seq.basic_decoder.BasicDecoder(\n",
        "    decoder_cell, inference_sampler, output_layer=output_layer,\n",
        "    maximum_iterations=max_output_length)\n",
        "batch_size = tf.shape(encoder_inputs)[:1]\n",
        "start_tokens = tf.fill(dims=batch_size, value=sos_id)\n",
        "final_outputs, final_state, final_sequence_lengths = inference_decoder(\n",
        "    start_tokens,\n",
        "    initial_state=encoder_state,\n",
        "    start_tokens=start_tokens,\n",
        "    end_token=0)\n",
        "\n",
        "inference_model = keras.models.Model(inputs=[encoder_inputs],\n",
        "                                     outputs=[final_outputs.sample_id])"
      ],
      "execution_count": null,
      "outputs": []
    },
    {
      "cell_type": "code",
      "metadata": {
        "id": "u7PLmq9ai9UW"
      },
      "source": [
        "def creative_predict_date_strs(date_strs, temperature=1.0):\n",
        "    softmax_temperature.assign(temperature)\n",
        "    X = prepare_date_strs_padded(date_strs)\n",
        "    Y_pred = inference_model.predict(X)\n",
        "    return ids_to_date_strs(Y_pred)"
      ],
      "execution_count": null,
      "outputs": []
    },
    {
      "cell_type": "code",
      "metadata": {
        "colab": {
          "base_uri": "https://localhost:8080/"
        },
        "id": "KLpi4Peztv8s",
        "outputId": "3cc56601-c381-4e48-ade7-efe7cc7019b5"
      },
      "source": [
        "tf.random.set_seed(42)\n",
        "\n",
        "creative_predict_date_strs([\"July 14, 1789\", \"May 01, 2020\"])"
      ],
      "execution_count": null,
      "outputs": [
        {
          "data": {
            "text/plain": [
              "['1789-07-14', '2020-05-00']"
            ]
          },
          "execution_count": null,
          "metadata": {},
          "output_type": "execute_result"
        }
      ]
    },
    {
      "cell_type": "markdown",
      "metadata": {
        "id": "RXDkJZc3jEcG"
      },
      "source": [
        "### version5. TFA seq2seq, Keras subclassing API, attention machanism 사용해 구현하기"
      ]
    },
    {
      "cell_type": "code",
      "metadata": {
        "id": "rGxaGZQStv8t"
      },
      "source": [
        "class DateTranslation(keras.models.Model):\n",
        "    def __init__(self, units=128, encoder_embedding_size=32,\n",
        "                 decoder_embedding_size=32, **kwargs):\n",
        "        super().__init__(**kwargs)\n",
        "        self.encoder_embedding = keras.layers.Embedding(\n",
        "            input_dim=len(INPUT_CHARS) + 1,\n",
        "            output_dim=encoder_embedding_size)\n",
        "        self.encoder = keras.layers.LSTM(units,\n",
        "                                         return_sequences=True,\n",
        "                                         return_state=True)\n",
        "        self.decoder_embedding = keras.layers.Embedding(\n",
        "            input_dim=len(OUTPUT_CHARS) + 2,\n",
        "            output_dim=decoder_embedding_size)\n",
        "        self.attention = tfa.seq2seq.LuongAttention(units)\n",
        "        decoder_inner_cell = keras.layers.LSTMCell(units)\n",
        "        self.decoder_cell = tfa.seq2seq.AttentionWrapper(\n",
        "            cell=decoder_inner_cell,\n",
        "            attention_mechanism=self.attention)\n",
        "        output_layer = keras.layers.Dense(len(OUTPUT_CHARS) + 1)\n",
        "        self.decoder = tfa.seq2seq.BasicDecoder(\n",
        "            cell=self.decoder_cell,\n",
        "            sampler=tfa.seq2seq.sampler.TrainingSampler(),\n",
        "            output_layer=output_layer)\n",
        "        self.inference_decoder = tfa.seq2seq.BasicDecoder(\n",
        "            cell=self.decoder_cell,\n",
        "            sampler=tfa.seq2seq.sampler.GreedyEmbeddingSampler(\n",
        "                embedding_fn=self.decoder_embedding),\n",
        "            output_layer=output_layer,\n",
        "            maximum_iterations=max_output_length)\n",
        "\n",
        "    def call(self, inputs, training=None):\n",
        "        encoder_input, decoder_input = inputs\n",
        "        encoder_embeddings = self.encoder_embedding(encoder_input)\n",
        "        encoder_outputs, encoder_state_h, encoder_state_c = self.encoder(\n",
        "            encoder_embeddings,\n",
        "            training=training)\n",
        "        encoder_state = [encoder_state_h, encoder_state_c]\n",
        "\n",
        "        self.attention(encoder_outputs,\n",
        "                       setup_memory=True)\n",
        "        \n",
        "        decoder_embeddings = self.decoder_embedding(decoder_input)\n",
        "\n",
        "        decoder_initial_state = self.decoder_cell.get_initial_state(\n",
        "            decoder_embeddings)\n",
        "        decoder_initial_state = decoder_initial_state.clone(\n",
        "            cell_state=encoder_state)\n",
        "        \n",
        "        if training:\n",
        "            decoder_outputs, _, _ = self.decoder(\n",
        "                decoder_embeddings,\n",
        "                initial_state=decoder_initial_state,\n",
        "                training=training)\n",
        "        else:\n",
        "            start_tokens = tf.zeros_like(encoder_input[:, 0]) + sos_id\n",
        "            decoder_outputs, _, _ = self.inference_decoder(\n",
        "                decoder_embeddings,\n",
        "                initial_state=decoder_initial_state,\n",
        "                start_tokens=start_tokens,\n",
        "                end_token=0)\n",
        "\n",
        "        return tf.nn.softmax(decoder_outputs.rnn_output)"
      ],
      "execution_count": null,
      "outputs": []
    },
    {
      "cell_type": "code",
      "metadata": {
        "colab": {
          "base_uri": "https://localhost:8080/"
        },
        "id": "hJenC7DRtv8t",
        "outputId": "6ddb9904-e4c2-4ed4-826a-92534c2355b7"
      },
      "source": [
        "np.random.seed(42)\n",
        "tf.random.set_seed(42)\n",
        "\n",
        "model = DateTranslation()\n",
        "optimizer = keras.optimizers.Nadam()\n",
        "model.compile(loss=\"sparse_categorical_crossentropy\", optimizer=optimizer,\n",
        "              metrics=[\"accuracy\"])\n",
        "history = model.fit([X_train, X_train_decoder], Y_train, epochs=25,\n",
        "                    validation_data=([X_valid, X_valid_decoder], Y_valid))"
      ],
      "execution_count": null,
      "outputs": [
        {
          "metadata": {
            "tags": null
          },
          "name": "stdout",
          "output_type": "stream",
          "text": [
            "Epoch 1/25\n",
            "313/313 [==============================] - 19s 42ms/step - loss: 2.1368 - accuracy: 0.2335 - val_loss: 2.0080 - val_accuracy: 0.2648\n",
            "Epoch 2/25\n",
            "313/313 [==============================] - 13s 41ms/step - loss: 1.8487 - accuracy: 0.3307 - val_loss: 1.5100 - val_accuracy: 0.4396\n",
            "Epoch 3/25\n",
            "313/313 [==============================] - 13s 40ms/step - loss: 2.1037 - accuracy: 0.2437 - val_loss: 1.6046 - val_accuracy: 0.3954\n",
            "Epoch 4/25\n",
            "313/313 [==============================] - 13s 40ms/step - loss: 1.7171 - accuracy: 0.3651 - val_loss: 2.5416 - val_accuracy: 0.2658\n",
            "Epoch 5/25\n",
            "313/313 [==============================] - 13s 40ms/step - loss: 1.4480 - accuracy: 0.4810 - val_loss: 1.3507 - val_accuracy: 0.5063\n",
            "Epoch 6/25\n",
            "313/313 [==============================] - 13s 40ms/step - loss: 1.3200 - accuracy: 0.5156 - val_loss: 1.2034 - val_accuracy: 0.5402\n",
            "Epoch 7/25\n",
            "313/313 [==============================] - 13s 40ms/step - loss: 1.1148 - accuracy: 0.5612 - val_loss: 1.1936 - val_accuracy: 0.5586\n",
            "Epoch 8/25\n",
            "313/313 [==============================] - 13s 40ms/step - loss: 0.9277 - accuracy: 0.5986 - val_loss: 0.9126 - val_accuracy: 0.6054\n",
            "Epoch 9/25\n",
            "313/313 [==============================] - 13s 40ms/step - loss: 0.8577 - accuracy: 0.6169 - val_loss: 0.8899 - val_accuracy: 0.6176\n",
            "Epoch 10/25\n",
            "313/313 [==============================] - 13s 40ms/step - loss: 0.7644 - accuracy: 0.6612 - val_loss: 0.7695 - val_accuracy: 0.6752\n",
            "Epoch 11/25\n",
            "313/313 [==============================] - 12s 40ms/step - loss: 0.7101 - accuracy: 0.6922 - val_loss: 0.7124 - val_accuracy: 0.6978\n",
            "Epoch 12/25\n",
            "313/313 [==============================] - 13s 40ms/step - loss: 0.6503 - accuracy: 0.7088 - val_loss: 0.6945 - val_accuracy: 0.7086\n",
            "Epoch 13/25\n",
            "313/313 [==============================] - 13s 40ms/step - loss: 0.6199 - accuracy: 0.7190 - val_loss: 0.6227 - val_accuracy: 0.7230\n",
            "Epoch 14/25\n",
            "313/313 [==============================] - 13s 40ms/step - loss: 0.6372 - accuracy: 0.7171 - val_loss: 0.6330 - val_accuracy: 0.7210\n",
            "Epoch 15/25\n",
            "313/313 [==============================] - 13s 40ms/step - loss: 0.5939 - accuracy: 0.7314 - val_loss: 0.6056 - val_accuracy: 0.7382\n",
            "Epoch 16/25\n",
            "313/313 [==============================] - 13s 40ms/step - loss: 0.6529 - accuracy: 0.7228 - val_loss: 0.5973 - val_accuracy: 0.7352\n",
            "Epoch 17/25\n",
            "313/313 [==============================] - 13s 40ms/step - loss: 0.5760 - accuracy: 0.7416 - val_loss: 0.5807 - val_accuracy: 0.7454\n",
            "Epoch 18/25\n",
            "313/313 [==============================] - 12s 40ms/step - loss: 0.5532 - accuracy: 0.7517 - val_loss: 0.5717 - val_accuracy: 0.7523\n",
            "Epoch 19/25\n",
            "313/313 [==============================] - 13s 40ms/step - loss: 0.5168 - accuracy: 0.7727 - val_loss: 0.8258 - val_accuracy: 0.7143\n",
            "Epoch 20/25\n",
            "313/313 [==============================] - 13s 40ms/step - loss: 0.3717 - accuracy: 0.8395 - val_loss: 0.7097 - val_accuracy: 0.7858\n",
            "Epoch 21/25\n",
            "313/313 [==============================] - 13s 40ms/step - loss: 0.2551 - accuracy: 0.9105 - val_loss: 0.3303 - val_accuracy: 0.9349\n",
            "Epoch 22/25\n",
            "313/313 [==============================] - 13s 41ms/step - loss: 0.1716 - accuracy: 0.9569 - val_loss: 0.2559 - val_accuracy: 0.9586\n",
            "Epoch 23/25\n",
            "313/313 [==============================] - 13s 40ms/step - loss: 0.0999 - accuracy: 0.9795 - val_loss: 0.1478 - val_accuracy: 0.9835\n",
            "Epoch 24/25\n",
            "313/313 [==============================] - 13s 40ms/step - loss: 0.0724 - accuracy: 0.9858 - val_loss: 0.1377 - val_accuracy: 0.9775\n",
            "Epoch 25/25\n",
            "313/313 [==============================] - 13s 40ms/step - loss: 0.0576 - accuracy: 0.9853 - val_loss: 0.0527 - val_accuracy: 0.9877\n"
          ]
        }
      ]
    },
    {
      "cell_type": "code",
      "metadata": {
        "id": "xrzcaX6mtv8t"
      },
      "source": [
        "def fast_predict_date_strs_v2(date_strs):\n",
        "    X = prepare_date_strs_padded(date_strs)\n",
        "    X_decoder = tf.zeros(shape=(len(X), max_output_length), dtype=tf.int32)\n",
        "    Y_probas = model.predict([X, X_decoder])\n",
        "    Y_pred = tf.argmax(Y_probas, axis=-1)\n",
        "    return ids_to_date_strs(Y_pred)"
      ],
      "execution_count": null,
      "outputs": []
    },
    {
      "cell_type": "code",
      "metadata": {
        "colab": {
          "base_uri": "https://localhost:8080/"
        },
        "id": "pOygdiuDtv8t",
        "outputId": "03507f10-a73a-4991-821f-1120c07e94ea"
      },
      "source": [
        "fast_predict_date_strs_v2([\"July 14, 1789\", \"May 01, 2020\"])"
      ],
      "execution_count": null,
      "outputs": [
        {
          "data": {
            "text/plain": [
              "['1789-06-14', '181805-015']"
            ]
          },
          "execution_count": null,
          "metadata": {},
          "output_type": "execute_result"
        }
      ]
    },
    {
      "cell_type": "markdown",
      "metadata": {
        "id": "UyzDrojVuBSV"
      },
      "source": [
        "##10번. 텐서플로의 Neural Machine Translation with Attention tutorial(어텐션을 사용한 신경망 기계 번역) 튜토리얼을 살펴보세요."
      ]
    },
    {
      "cell_type": "markdown",
      "metadata": {
        "id": "Ick9mfImw3XL"
      },
      "source": [
        "## 11. 최신 언어 모델 중 하나(예를 들어 BERT)로 셰익스피어가 쓴 것 같은 텍스트를 생성해보세요."
      ]
    },
    {
      "cell_type": "code",
      "metadata": {
        "colab": {
          "base_uri": "https://localhost:8080/"
        },
        "id": "hXeo6V6J1hEj",
        "outputId": "179f6eb1-23a8-4e01-9636-931aa78a10f3"
      },
      "source": [
        "pip install transformers"
      ],
      "execution_count": 36,
      "outputs": [
        {
          "output_type": "stream",
          "name": "stdout",
          "text": [
            "Collecting transformers\n",
            "  Downloading transformers-4.12.5-py3-none-any.whl (3.1 MB)\n",
            "\u001b[K     |████████████████████████████████| 3.1 MB 5.5 MB/s \n",
            "\u001b[?25hRequirement already satisfied: numpy>=1.17 in /usr/local/lib/python3.7/dist-packages (from transformers) (1.19.5)\n",
            "Requirement already satisfied: requests in /usr/local/lib/python3.7/dist-packages (from transformers) (2.23.0)\n",
            "Requirement already satisfied: tqdm>=4.27 in /usr/local/lib/python3.7/dist-packages (from transformers) (4.62.3)\n",
            "Collecting pyyaml>=5.1\n",
            "  Downloading PyYAML-6.0-cp37-cp37m-manylinux_2_5_x86_64.manylinux1_x86_64.manylinux_2_12_x86_64.manylinux2010_x86_64.whl (596 kB)\n",
            "\u001b[K     |████████████████████████████████| 596 kB 40.8 MB/s \n",
            "\u001b[?25hRequirement already satisfied: importlib-metadata in /usr/local/lib/python3.7/dist-packages (from transformers) (4.8.2)\n",
            "Requirement already satisfied: filelock in /usr/local/lib/python3.7/dist-packages (from transformers) (3.4.0)\n",
            "Requirement already satisfied: packaging>=20.0 in /usr/local/lib/python3.7/dist-packages (from transformers) (21.3)\n",
            "Collecting sacremoses\n",
            "  Downloading sacremoses-0.0.46-py3-none-any.whl (895 kB)\n",
            "\u001b[K     |████████████████████████████████| 895 kB 47.6 MB/s \n",
            "\u001b[?25hCollecting huggingface-hub<1.0,>=0.1.0\n",
            "  Downloading huggingface_hub-0.1.2-py3-none-any.whl (59 kB)\n",
            "\u001b[K     |████████████████████████████████| 59 kB 6.5 MB/s \n",
            "\u001b[?25hCollecting tokenizers<0.11,>=0.10.1\n",
            "  Downloading tokenizers-0.10.3-cp37-cp37m-manylinux_2_5_x86_64.manylinux1_x86_64.manylinux_2_12_x86_64.manylinux2010_x86_64.whl (3.3 MB)\n",
            "\u001b[K     |████████████████████████████████| 3.3 MB 34.9 MB/s \n",
            "\u001b[?25hRequirement already satisfied: regex!=2019.12.17 in /usr/local/lib/python3.7/dist-packages (from transformers) (2019.12.20)\n",
            "Requirement already satisfied: typing-extensions>=3.7.4.3 in /usr/local/lib/python3.7/dist-packages (from huggingface-hub<1.0,>=0.1.0->transformers) (3.10.0.2)\n",
            "Requirement already satisfied: pyparsing!=3.0.5,>=2.0.2 in /usr/local/lib/python3.7/dist-packages (from packaging>=20.0->transformers) (3.0.6)\n",
            "Requirement already satisfied: zipp>=0.5 in /usr/local/lib/python3.7/dist-packages (from importlib-metadata->transformers) (3.6.0)\n",
            "Requirement already satisfied: urllib3!=1.25.0,!=1.25.1,<1.26,>=1.21.1 in /usr/local/lib/python3.7/dist-packages (from requests->transformers) (1.24.3)\n",
            "Requirement already satisfied: certifi>=2017.4.17 in /usr/local/lib/python3.7/dist-packages (from requests->transformers) (2021.10.8)\n",
            "Requirement already satisfied: chardet<4,>=3.0.2 in /usr/local/lib/python3.7/dist-packages (from requests->transformers) (3.0.4)\n",
            "Requirement already satisfied: idna<3,>=2.5 in /usr/local/lib/python3.7/dist-packages (from requests->transformers) (2.10)\n",
            "Requirement already satisfied: six in /usr/local/lib/python3.7/dist-packages (from sacremoses->transformers) (1.15.0)\n",
            "Requirement already satisfied: joblib in /usr/local/lib/python3.7/dist-packages (from sacremoses->transformers) (1.1.0)\n",
            "Requirement already satisfied: click in /usr/local/lib/python3.7/dist-packages (from sacremoses->transformers) (7.1.2)\n",
            "Installing collected packages: pyyaml, tokenizers, sacremoses, huggingface-hub, transformers\n",
            "  Attempting uninstall: pyyaml\n",
            "    Found existing installation: PyYAML 3.13\n",
            "    Uninstalling PyYAML-3.13:\n",
            "      Successfully uninstalled PyYAML-3.13\n",
            "Successfully installed huggingface-hub-0.1.2 pyyaml-6.0 sacremoses-0.0.46 tokenizers-0.10.3 transformers-4.12.5\n"
          ]
        }
      ]
    },
    {
      "cell_type": "code",
      "metadata": {
        "colab": {
          "base_uri": "https://localhost:8080/",
          "height": 150,
          "referenced_widgets": [
            "433c8f2a4e7e418a9eba14fa0cfb2ad2",
            "bcc8d5bfe48d4dacbb1826129d1299cd",
            "c0bc1b56733442d985fc3675421f47c3",
            "8879ebc86f91400683ee459f430e648e",
            "ae39259c8ff945d593674b2ebcd72dfa",
            "3250476fab414da2b32329e40147b7bc",
            "311520c74c0a47c3b4b57b3efafa3540",
            "98a0310e25674ef28170c332dcc075b3",
            "c4e68ef619914542942d334d793cb3f6",
            "404ea32b8ea0422a8442ad5308b2b8e3",
            "c58b2d4cd4a94a24a5ed30b52bcdadec",
            "a23976bda6664639af056d8ab18bb4b4",
            "35b0ab56a1f24fafaee6eceec59ca00a",
            "6d8379a2f52a40448a0871b3f3d14dbd",
            "8b83604df7d5433690eee42d9d8b2593",
            "59dc1a6a9beb4aa0aeb48edfae3db21b",
            "ad7e26f2f15b49f7adc758f583783ac9",
            "e88fefae466e489ab8f70927138c407f",
            "4d8d96cc474d465b8768aa2e59ce5161",
            "2eda93098d50491c804b6f38e506a710",
            "d3f9030577914aa7adca277058ea604b",
            "7d0f4cc627d341ee9b6909e258b99049"
          ]
        },
        "id": "nV4MAzwAw--i",
        "outputId": "cca6a04d-86f9-4dbb-9f0c-8a5bb4cf200c"
      },
      "source": [
        "#훈련된 GPT model load\n",
        "from transformers import TFOpenAIGPTLMHeadModel\n",
        "\n",
        "model = TFOpenAIGPTLMHeadModel.from_pretrained(\"openai-gpt\")"
      ],
      "execution_count": 37,
      "outputs": [
        {
          "output_type": "display_data",
          "data": {
            "application/vnd.jupyter.widget-view+json": {
              "model_id": "433c8f2a4e7e418a9eba14fa0cfb2ad2",
              "version_minor": 0,
              "version_major": 2
            },
            "text/plain": [
              "Downloading:   0%|          | 0.00/656 [00:00<?, ?B/s]"
            ]
          },
          "metadata": {}
        },
        {
          "output_type": "display_data",
          "data": {
            "application/vnd.jupyter.widget-view+json": {
              "model_id": "a23976bda6664639af056d8ab18bb4b4",
              "version_minor": 0,
              "version_major": 2
            },
            "text/plain": [
              "Downloading:   0%|          | 0.00/445M [00:00<?, ?B/s]"
            ]
          },
          "metadata": {}
        },
        {
          "output_type": "stream",
          "name": "stderr",
          "text": [
            "All model checkpoint layers were used when initializing TFOpenAIGPTLMHeadModel.\n",
            "\n",
            "All the layers of TFOpenAIGPTLMHeadModel were initialized from the model checkpoint at openai-gpt.\n",
            "If your task is similar to the task the model of the checkpoint was trained on, you can already use TFOpenAIGPTLMHeadModel for predictions without further training.\n"
          ]
        }
      ]
    },
    {
      "cell_type": "code",
      "metadata": {
        "colab": {
          "base_uri": "https://localhost:8080/",
          "height": 130,
          "referenced_widgets": [
            "c48989de7953489a9ff2bbeb7e35f527",
            "df88188dc4ec4c7c99ab7753f72c2321",
            "400da078223147acbed5809f0a0c0d2f",
            "0155d9b3299743e6b3b4147dba903370",
            "67bee9b77ea444968786c819f1ccf221",
            "6ab0bb9f97494299af9df763b9344535",
            "f693144ebce547eebfb36f802c106232",
            "1e08919d7cb642809241262100bc4b08",
            "73430e0256bc41f38f136c9c9036e999",
            "0acfbfabf70b4a078967022cabea4800",
            "8943e59a3214480eb35a07a04c405a66",
            "0fb80f7d1b8c41d1895892771887a1a7",
            "88c9b034014b412587f4321df1643a19",
            "f347a17343a84a9783cc7737de962560",
            "11cb28960d674f06ac1a54ba9a9263ff",
            "db7cf733d56c42169b48094d7b592912",
            "3a384962634d40648067969bdbf4f3d2",
            "386937a8e2064599b58ac673059a45ec",
            "b6800c98ebe347a3862a2870e14e02af",
            "c94aa9d6bf144f538d52c6c5737486e6",
            "6887678794234b74bd0f7bb9b01c6060",
            "a9aa1c0bfa7a4f70a8b3cab38c9f4169",
            "1bbbc6fe8cc64b7ca7b982b9daa25439",
            "6c3bfdcc767f42cd8dbba9b238d46017",
            "b2ee5515f9b8450dbdd23c5d7b698c57",
            "d680539e251841af86792bda2abd1b23",
            "007ce4486d364c72b79ee2dc1b548707",
            "f4a50521c2404a45ba2cc50fb20b29de",
            "27ed8084085a4de2b0a506e0de14f8a3",
            "8c4f44a419114b3eafb8fc20c54cb448",
            "f0d90b213ed74261aa78d98b9cbb0717",
            "26a3044c8b9a4c849c141b6e0517ddf1",
            "54b8686076474d109f2203a4065b8ca9"
          ]
        },
        "id": "N9rIYnmz1ecz",
        "outputId": "d0cd5530-e1b5-4d75-cc40-a567b7193d1b"
      },
      "source": [
        "from transformers import OpenAIGPTTokenizer\n",
        "\n",
        "#tokenizer import\n",
        "tokenizer = OpenAIGPTTokenizer.from_pretrained(\"openai-gpt\")"
      ],
      "execution_count": 38,
      "outputs": [
        {
          "output_type": "display_data",
          "data": {
            "application/vnd.jupyter.widget-view+json": {
              "model_id": "c48989de7953489a9ff2bbeb7e35f527",
              "version_minor": 0,
              "version_major": 2
            },
            "text/plain": [
              "Downloading:   0%|          | 0.00/797k [00:00<?, ?B/s]"
            ]
          },
          "metadata": {}
        },
        {
          "output_type": "display_data",
          "data": {
            "application/vnd.jupyter.widget-view+json": {
              "model_id": "0fb80f7d1b8c41d1895892771887a1a7",
              "version_minor": 0,
              "version_major": 2
            },
            "text/plain": [
              "Downloading:   0%|          | 0.00/448k [00:00<?, ?B/s]"
            ]
          },
          "metadata": {}
        },
        {
          "output_type": "display_data",
          "data": {
            "application/vnd.jupyter.widget-view+json": {
              "model_id": "1bbbc6fe8cc64b7ca7b982b9daa25439",
              "version_minor": 0,
              "version_major": 2
            },
            "text/plain": [
              "Downloading:   0%|          | 0.00/1.21M [00:00<?, ?B/s]"
            ]
          },
          "metadata": {}
        },
        {
          "output_type": "stream",
          "name": "stderr",
          "text": [
            "ftfy or spacy is not installed using BERT BasicTokenizer instead of SpaCy & ftfy.\n"
          ]
        }
      ]
    },
    {
      "cell_type": "code",
      "metadata": {
        "colab": {
          "base_uri": "https://localhost:8080/"
        },
        "id": "AVBu-YfD2AZf",
        "outputId": "85785962-55f0-4973-cd5f-a97ef7695989"
      },
      "source": [
        "#token화 \n",
        "prompt_text = \"This royal throne of kings, this sceptred isle\"\n",
        "encoded_prompt = tokenizer.encode(prompt_text,\n",
        "                                  add_special_tokens=False,\n",
        "                                  return_tensors=\"tf\")\n",
        "encoded_prompt"
      ],
      "execution_count": 39,
      "outputs": [
        {
          "output_type": "execute_result",
          "data": {
            "text/plain": [
              "<tf.Tensor: shape=(1, 10), dtype=int32, numpy=\n",
              "array([[  616,  5751,  6404,   498,  9606,   240,   616, 26271,  7428,\n",
              "        16187]], dtype=int32)>"
            ]
          },
          "metadata": {},
          "execution_count": 39
        }
      ]
    },
    {
      "cell_type": "code",
      "metadata": {
        "colab": {
          "base_uri": "https://localhost:8080/"
        },
        "id": "uVZeOmSM2bTj",
        "outputId": "897193b0-c150-42a4-c163-01efc612f9a5"
      },
      "source": [
        "#주어진 문장에 40개의 토큰을 추가해 5개의 문장 만들기\n",
        "\n",
        "num_sequences = 5\n",
        "length = 40\n",
        "\n",
        "generated_sequences = model.generate(\n",
        "    input_ids=encoded_prompt,\n",
        "    do_sample=True,\n",
        "    max_length=length + len(encoded_prompt[0]),\n",
        "    temperature=1.0,\n",
        "    top_k=0,\n",
        "    top_p=0.9,\n",
        "    repetition_penalty=1.0,\n",
        "    num_return_sequences=num_sequences,\n",
        ")\n",
        "\n",
        "generated_sequences"
      ],
      "execution_count": 40,
      "outputs": [
        {
          "output_type": "execute_result",
          "data": {
            "text/plain": [
              "<tf.Tensor: shape=(5, 50), dtype=int32, numpy=\n",
              "array([[  616,  5751,  6404,   498,  9606,   240,   616, 26271,  7428,\n",
              "        16187,   239, 40477,   244,   481,  2761,  7994,   587,   595,\n",
              "         2985,   512,   557,   246,  4815,   239,   481,  2676,   544,\n",
              "          617,   704,  1377,   239,   244,     8, 24294,   603,   239,\n",
              "        40477,   244,   249,  1048,  1458,   562,   481, 21200,   240,\n",
              "          568,   718,   759,   600,   604],\n",
              "       [  616,  5751,  6404,   498,  9606,   240,   616, 26271,  7428,\n",
              "        16187,   239,   487,   759,   808,  1777,   485,  1300,   481,\n",
              "         2873,   498,   507,  1990,   246,  6560, 21467,   240,  1389,\n",
              "          557, 29616,   239, 29616,   558,   728,  5055,   491,  1279,\n",
              "          271,   524,  1158,   535,  1163,   240,   524,  7590,   240,\n",
              "          488,   524, 33651,   498,   517],\n",
              "       [  616,  5751,  6404,   498,  9606,   240,   616, 26271,  7428,\n",
              "        16187,   636,   580,   481, 24721,   488,   905,  2589,   520,\n",
              "          558,   871,   848,  1223,   239, 40477,   513,  2228,   535,\n",
              "         3089,  1449,   481, 11963,   488, 12719,   240,  1313,   481,\n",
              "         3016,   535,   828,   239, 40477,   244,  2228,   260,   618,\n",
              "          585,  2274,   768,   544,   246],\n",
              "       [  616,  5751,  6404,   498,  9606,   240,   616, 26271,  7428,\n",
              "        16187,   240,   487,   509,   507,   239,   568,   487,   509,\n",
              "          881,   525,   645,   487,  1246,   609,   524,  4665,  1983,\n",
              "          562,   481,  2774,   240,   487,   636,   595,  4560,   481,\n",
              "          850,   239,  1340,   487,   509,   524,  1436,   240,   488,\n",
              "          487,   635,   848,   485,   664],\n",
              "       [  616,  5751,  6404,   498,  9606,   240,   616, 26271,  7428,\n",
              "        16187,   239,   507,   636,  1009,   481,  2179,  1594,   239,\n",
              "          256,   481,  1430,  1335,   557,  2185,  9549,   585,    15,\n",
              "        29606,  1335,   500,  3037,  3706,   240,   524,   928,  1674,\n",
              "         9900, 14052,   556,   481,  3706,   240,   568,   524,   741,\n",
              "          641, 15715,   239,   507,   509]], dtype=int32)>"
            ]
          },
          "metadata": {},
          "execution_count": 40
        }
      ]
    },
    {
      "cell_type": "code",
      "metadata": {
        "colab": {
          "base_uri": "https://localhost:8080/"
        },
        "id": "tVtw_hxL2erf",
        "outputId": "44a7853e-09dd-48eb-e2c7-bb683a46bc12"
      },
      "source": [
        "for sequence in generated_sequences:\n",
        "    text = tokenizer.decode(sequence, clean_up_tokenization_spaces=True)\n",
        "    print(text)\n",
        "    print(\"-\" * 80)"
      ],
      "execution_count": 41,
      "outputs": [
        {
          "output_type": "stream",
          "name": "stdout",
          "text": [
            "this royal throne of kings, this sceptred isle. \n",
            " \" the sea folk do not wear you as a princess. the magic is from your blood. \" ahab said. \n",
            " \" i am sorry for the orcs, but how can they have\n",
            "--------------------------------------------------------------------------------\n",
            "this royal throne of kings, this sceptred isle. he can only hope to turn the weight of it towards a worthy adversary, such as claudio. claudio had other matters at heart : his father's home, his territory, and his armada of at\n",
            "--------------------------------------------------------------------------------\n",
            "this royal throne of kings, this sceptred isle would be the richest and most comfortable she had ever come across. \n",
            " her lady's guards stopped the marching and bowing, held the queen's hand. \n",
            " \" lady - king decanus is a\n",
            "--------------------------------------------------------------------------------\n",
            "this royal throne of kings, this sceptred isle, he was it. but he was sure that if he gave up his mortal form for the future, he would not survive the day. yet he was his god, and he could come to no\n",
            "--------------------------------------------------------------------------------\n",
            "this royal throne of kings, this sceptred isle. it would last the entire land.'the ground moved as lord cyndeyrn moved in sudden movement, his long blue robes rippling with the movement, but his eyes were watchful. it was\n",
            "--------------------------------------------------------------------------------\n"
          ]
        }
      ]
    }
  ]
}